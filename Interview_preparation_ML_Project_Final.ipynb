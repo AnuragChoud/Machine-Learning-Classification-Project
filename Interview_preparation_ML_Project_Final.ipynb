{
  "cells": [
    {
      "cell_type": "code",
      "source": [
        "from google.colab import drive\n",
        "drive.mount('/content/drive')"
      ],
      "metadata": {
        "colab": {
          "base_uri": "https://localhost:8080/",
          "height": 0
        },
        "id": "8J21HexGoD1w",
        "outputId": "da88fbf1-512b-4575-a50e-98a90890ccca"
      },
      "id": "8J21HexGoD1w",
      "execution_count": 1,
      "outputs": [
        {
          "output_type": "stream",
          "name": "stdout",
          "text": [
            "Mounted at /content/drive\n"
          ]
        }
      ]
    },
    {
      "cell_type": "markdown",
      "source": [
        "### **1.Your views about about problem statements?**\n",
        "Ans: The given problem statement is about to predict the probability of rainfall whether rain is coming or not in sydney.by studying historical data\n",
        "we want to answer in 'Yes' or 'No' format. we use classification machine learning model for this operations, so we want to give the balance probabilty of rainfall to the people of sydney. so we have to keep minimum 50 percent probabilty to predict 'Yes' or 'No'"
      ],
      "metadata": {
        "id": "SBubMSV3_4X5"
      },
      "id": "SBubMSV3_4X5"
    },
    {
      "cell_type": "markdown",
      "source": [
        "### **2.What will be your approach to solving the problem**?**\n",
        "Ans:My first approach was to understanding the problem statement , Then\n",
        "1)I loading the data and arranged it in a right format: in this step i used google colab to connect it I used google drive to connect data files into it , 2)Then I converted columns records like 'RainToday' and 'RainTomorrow' into their respective categories also deleted some unnecessary columns. 3)Data preprocessing :In this step i look for missing values and outliers and high correlation variables. 4)Train and Test : In this i divide my file records in 80:20 random ratio so it evaluate file further 5) Then I build all 9 model of theory lecture 6)in this step we have to check performance of model and use it for prediction.7)In this models key for prediction is accuracy score."
      ],
      "metadata": {
        "id": "aBfw2TU_DnrB"
      },
      "id": "aBfw2TU_DnrB"
    },
    {
      "cell_type": "markdown",
      "source": [
        "##### **3. What were the available ML model options you had to perform this task?**\n",
        "##### **Ans**: For me the best model available to perform the task are as follow:\n",
        "##### a.simple decision tree classification model\n",
        "##### b.Bagging classification model\n",
        "##### c.Random forest classification model\n",
        "##### d.gradient boosting classification model\n",
        "##### e.Ada Boosting classification model\n",
        "##### f.xgboost classification model\n",
        "##### g.K-nearestneighbors classification model\n",
        "##### h.Linear discriminant analysis classification model\n",
        "##### i.logistic regression classification model"
      ],
      "metadata": {
        "id": "LT4ONVF7KOiN"
      },
      "id": "LT4ONVF7KOiN"
    },
    {
      "cell_type": "markdown",
      "source": [
        "### **RESULT of Various Score**"
      ],
      "metadata": {
        "id": "4b_OrWBCKXwh"
      },
      "id": "4b_OrWBCKXwh"
    },
    {
      "cell_type": "code",
      "source": [
        "import pandas as pd\n",
        "\n",
        "pathy='/content/drive/MyDrive/Colab Notebooks/upload.csv'\n",
        "evaluate_file=pd.read_csv(pathy)\n",
        "evaluate_file"
      ],
      "metadata": {
        "colab": {
          "base_uri": "https://localhost:8080/",
          "height": 363
        },
        "id": "bYaHOkjfMuuC",
        "outputId": "01763777-0a23-44c3-c38f-f223c8c78130"
      },
      "id": "bYaHOkjfMuuC",
      "execution_count": 2,
      "outputs": [
        {
          "output_type": "execute_result",
          "data": {
            "text/plain": [
              "                              Model  Recall_score  Precision_score  \\\n",
              "0                       Simple tree        0.5293           0.6240   \n",
              "1                bagging classifier        0.4683           0.6788   \n",
              "2          Random Forest Classifier        0.4620           0.7227   \n",
              "3               Gradient Classifier        0.5063           0.7476   \n",
              "4              Ada Boost Classifier        0.4367           0.7931   \n",
              "5  Ada with random forest classifer        0.5126           0.7570   \n",
              "6              XG Boost calsssifier        0.4936           0.7878   \n",
              "7                              KNN         0.4430           0.7216   \n",
              "8                               LDA        0.5696           0.6818   \n",
              "9               Logistic Regression        0.4936           0.6724   \n",
              "\n",
              "   roc_auc_score  test_accuracy  train_accuracy  \n",
              "0         0.7136         0.8128          0.8261  \n",
              "1         0.6998         0.8218          0.9797  \n",
              "2         0.7035         0.8308          0.9801  \n",
              "3         0.7266         0.8428          0.8782  \n",
              "4         0.7000         0.8398          0.8332  \n",
              "5         0.7308         0.8458        100.0000  \n",
              "6         0.7262         0.8488          0.8666  \n",
              "7         0.6950         0.8278          0.8550  \n",
              "8         0.7456         0.8353          0.8298  \n",
              "9         0.7095         0.8233          0.8262  "
            ],
            "text/html": [
              "\n",
              "  <div id=\"df-0f342693-cb53-4b05-899e-43c600837be7\" class=\"colab-df-container\">\n",
              "    <div>\n",
              "<style scoped>\n",
              "    .dataframe tbody tr th:only-of-type {\n",
              "        vertical-align: middle;\n",
              "    }\n",
              "\n",
              "    .dataframe tbody tr th {\n",
              "        vertical-align: top;\n",
              "    }\n",
              "\n",
              "    .dataframe thead th {\n",
              "        text-align: right;\n",
              "    }\n",
              "</style>\n",
              "<table border=\"1\" class=\"dataframe\">\n",
              "  <thead>\n",
              "    <tr style=\"text-align: right;\">\n",
              "      <th></th>\n",
              "      <th>Model</th>\n",
              "      <th>Recall_score</th>\n",
              "      <th>Precision_score</th>\n",
              "      <th>roc_auc_score</th>\n",
              "      <th>test_accuracy</th>\n",
              "      <th>train_accuracy</th>\n",
              "    </tr>\n",
              "  </thead>\n",
              "  <tbody>\n",
              "    <tr>\n",
              "      <th>0</th>\n",
              "      <td>Simple tree</td>\n",
              "      <td>0.5293</td>\n",
              "      <td>0.6240</td>\n",
              "      <td>0.7136</td>\n",
              "      <td>0.8128</td>\n",
              "      <td>0.8261</td>\n",
              "    </tr>\n",
              "    <tr>\n",
              "      <th>1</th>\n",
              "      <td>bagging classifier</td>\n",
              "      <td>0.4683</td>\n",
              "      <td>0.6788</td>\n",
              "      <td>0.6998</td>\n",
              "      <td>0.8218</td>\n",
              "      <td>0.9797</td>\n",
              "    </tr>\n",
              "    <tr>\n",
              "      <th>2</th>\n",
              "      <td>Random Forest Classifier</td>\n",
              "      <td>0.4620</td>\n",
              "      <td>0.7227</td>\n",
              "      <td>0.7035</td>\n",
              "      <td>0.8308</td>\n",
              "      <td>0.9801</td>\n",
              "    </tr>\n",
              "    <tr>\n",
              "      <th>3</th>\n",
              "      <td>Gradient Classifier</td>\n",
              "      <td>0.5063</td>\n",
              "      <td>0.7476</td>\n",
              "      <td>0.7266</td>\n",
              "      <td>0.8428</td>\n",
              "      <td>0.8782</td>\n",
              "    </tr>\n",
              "    <tr>\n",
              "      <th>4</th>\n",
              "      <td>Ada Boost Classifier</td>\n",
              "      <td>0.4367</td>\n",
              "      <td>0.7931</td>\n",
              "      <td>0.7000</td>\n",
              "      <td>0.8398</td>\n",
              "      <td>0.8332</td>\n",
              "    </tr>\n",
              "    <tr>\n",
              "      <th>5</th>\n",
              "      <td>Ada with random forest classifer</td>\n",
              "      <td>0.5126</td>\n",
              "      <td>0.7570</td>\n",
              "      <td>0.7308</td>\n",
              "      <td>0.8458</td>\n",
              "      <td>100.0000</td>\n",
              "    </tr>\n",
              "    <tr>\n",
              "      <th>6</th>\n",
              "      <td>XG Boost calsssifier</td>\n",
              "      <td>0.4936</td>\n",
              "      <td>0.7878</td>\n",
              "      <td>0.7262</td>\n",
              "      <td>0.8488</td>\n",
              "      <td>0.8666</td>\n",
              "    </tr>\n",
              "    <tr>\n",
              "      <th>7</th>\n",
              "      <td>KNN</td>\n",
              "      <td>0.4430</td>\n",
              "      <td>0.7216</td>\n",
              "      <td>0.6950</td>\n",
              "      <td>0.8278</td>\n",
              "      <td>0.8550</td>\n",
              "    </tr>\n",
              "    <tr>\n",
              "      <th>8</th>\n",
              "      <td>LDA</td>\n",
              "      <td>0.5696</td>\n",
              "      <td>0.6818</td>\n",
              "      <td>0.7456</td>\n",
              "      <td>0.8353</td>\n",
              "      <td>0.8298</td>\n",
              "    </tr>\n",
              "    <tr>\n",
              "      <th>9</th>\n",
              "      <td>Logistic Regression</td>\n",
              "      <td>0.4936</td>\n",
              "      <td>0.6724</td>\n",
              "      <td>0.7095</td>\n",
              "      <td>0.8233</td>\n",
              "      <td>0.8262</td>\n",
              "    </tr>\n",
              "  </tbody>\n",
              "</table>\n",
              "</div>\n",
              "    <div class=\"colab-df-buttons\">\n",
              "\n",
              "  <div class=\"colab-df-container\">\n",
              "    <button class=\"colab-df-convert\" onclick=\"convertToInteractive('df-0f342693-cb53-4b05-899e-43c600837be7')\"\n",
              "            title=\"Convert this dataframe to an interactive table.\"\n",
              "            style=\"display:none;\">\n",
              "\n",
              "  <svg xmlns=\"http://www.w3.org/2000/svg\" height=\"24px\" viewBox=\"0 -960 960 960\">\n",
              "    <path d=\"M120-120v-720h720v720H120Zm60-500h600v-160H180v160Zm220 220h160v-160H400v160Zm0 220h160v-160H400v160ZM180-400h160v-160H180v160Zm440 0h160v-160H620v160ZM180-180h160v-160H180v160Zm440 0h160v-160H620v160Z\"/>\n",
              "  </svg>\n",
              "    </button>\n",
              "\n",
              "  <style>\n",
              "    .colab-df-container {\n",
              "      display:flex;\n",
              "      gap: 12px;\n",
              "    }\n",
              "\n",
              "    .colab-df-convert {\n",
              "      background-color: #E8F0FE;\n",
              "      border: none;\n",
              "      border-radius: 50%;\n",
              "      cursor: pointer;\n",
              "      display: none;\n",
              "      fill: #1967D2;\n",
              "      height: 32px;\n",
              "      padding: 0 0 0 0;\n",
              "      width: 32px;\n",
              "    }\n",
              "\n",
              "    .colab-df-convert:hover {\n",
              "      background-color: #E2EBFA;\n",
              "      box-shadow: 0px 1px 2px rgba(60, 64, 67, 0.3), 0px 1px 3px 1px rgba(60, 64, 67, 0.15);\n",
              "      fill: #174EA6;\n",
              "    }\n",
              "\n",
              "    .colab-df-buttons div {\n",
              "      margin-bottom: 4px;\n",
              "    }\n",
              "\n",
              "    [theme=dark] .colab-df-convert {\n",
              "      background-color: #3B4455;\n",
              "      fill: #D2E3FC;\n",
              "    }\n",
              "\n",
              "    [theme=dark] .colab-df-convert:hover {\n",
              "      background-color: #434B5C;\n",
              "      box-shadow: 0px 1px 3px 1px rgba(0, 0, 0, 0.15);\n",
              "      filter: drop-shadow(0px 1px 2px rgba(0, 0, 0, 0.3));\n",
              "      fill: #FFFFFF;\n",
              "    }\n",
              "  </style>\n",
              "\n",
              "    <script>\n",
              "      const buttonEl =\n",
              "        document.querySelector('#df-0f342693-cb53-4b05-899e-43c600837be7 button.colab-df-convert');\n",
              "      buttonEl.style.display =\n",
              "        google.colab.kernel.accessAllowed ? 'block' : 'none';\n",
              "\n",
              "      async function convertToInteractive(key) {\n",
              "        const element = document.querySelector('#df-0f342693-cb53-4b05-899e-43c600837be7');\n",
              "        const dataTable =\n",
              "          await google.colab.kernel.invokeFunction('convertToInteractive',\n",
              "                                                    [key], {});\n",
              "        if (!dataTable) return;\n",
              "\n",
              "        const docLinkHtml = 'Like what you see? Visit the ' +\n",
              "          '<a target=\"_blank\" href=https://colab.research.google.com/notebooks/data_table.ipynb>data table notebook</a>'\n",
              "          + ' to learn more about interactive tables.';\n",
              "        element.innerHTML = '';\n",
              "        dataTable['output_type'] = 'display_data';\n",
              "        await google.colab.output.renderOutput(dataTable, element);\n",
              "        const docLink = document.createElement('div');\n",
              "        docLink.innerHTML = docLinkHtml;\n",
              "        element.appendChild(docLink);\n",
              "      }\n",
              "    </script>\n",
              "  </div>\n",
              "\n",
              "\n",
              "<div id=\"df-05ba51fb-1eec-43e9-a2c6-a477da4af164\">\n",
              "  <button class=\"colab-df-quickchart\" onclick=\"quickchart('df-05ba51fb-1eec-43e9-a2c6-a477da4af164')\"\n",
              "            title=\"Suggest charts.\"\n",
              "            style=\"display:none;\">\n",
              "\n",
              "<svg xmlns=\"http://www.w3.org/2000/svg\" height=\"24px\"viewBox=\"0 0 24 24\"\n",
              "     width=\"24px\">\n",
              "    <g>\n",
              "        <path d=\"M19 3H5c-1.1 0-2 .9-2 2v14c0 1.1.9 2 2 2h14c1.1 0 2-.9 2-2V5c0-1.1-.9-2-2-2zM9 17H7v-7h2v7zm4 0h-2V7h2v10zm4 0h-2v-4h2v4z\"/>\n",
              "    </g>\n",
              "</svg>\n",
              "  </button>\n",
              "\n",
              "<style>\n",
              "  .colab-df-quickchart {\n",
              "      --bg-color: #E8F0FE;\n",
              "      --fill-color: #1967D2;\n",
              "      --hover-bg-color: #E2EBFA;\n",
              "      --hover-fill-color: #174EA6;\n",
              "      --disabled-fill-color: #AAA;\n",
              "      --disabled-bg-color: #DDD;\n",
              "  }\n",
              "\n",
              "  [theme=dark] .colab-df-quickchart {\n",
              "      --bg-color: #3B4455;\n",
              "      --fill-color: #D2E3FC;\n",
              "      --hover-bg-color: #434B5C;\n",
              "      --hover-fill-color: #FFFFFF;\n",
              "      --disabled-bg-color: #3B4455;\n",
              "      --disabled-fill-color: #666;\n",
              "  }\n",
              "\n",
              "  .colab-df-quickchart {\n",
              "    background-color: var(--bg-color);\n",
              "    border: none;\n",
              "    border-radius: 50%;\n",
              "    cursor: pointer;\n",
              "    display: none;\n",
              "    fill: var(--fill-color);\n",
              "    height: 32px;\n",
              "    padding: 0;\n",
              "    width: 32px;\n",
              "  }\n",
              "\n",
              "  .colab-df-quickchart:hover {\n",
              "    background-color: var(--hover-bg-color);\n",
              "    box-shadow: 0 1px 2px rgba(60, 64, 67, 0.3), 0 1px 3px 1px rgba(60, 64, 67, 0.15);\n",
              "    fill: var(--button-hover-fill-color);\n",
              "  }\n",
              "\n",
              "  .colab-df-quickchart-complete:disabled,\n",
              "  .colab-df-quickchart-complete:disabled:hover {\n",
              "    background-color: var(--disabled-bg-color);\n",
              "    fill: var(--disabled-fill-color);\n",
              "    box-shadow: none;\n",
              "  }\n",
              "\n",
              "  .colab-df-spinner {\n",
              "    border: 2px solid var(--fill-color);\n",
              "    border-color: transparent;\n",
              "    border-bottom-color: var(--fill-color);\n",
              "    animation:\n",
              "      spin 1s steps(1) infinite;\n",
              "  }\n",
              "\n",
              "  @keyframes spin {\n",
              "    0% {\n",
              "      border-color: transparent;\n",
              "      border-bottom-color: var(--fill-color);\n",
              "      border-left-color: var(--fill-color);\n",
              "    }\n",
              "    20% {\n",
              "      border-color: transparent;\n",
              "      border-left-color: var(--fill-color);\n",
              "      border-top-color: var(--fill-color);\n",
              "    }\n",
              "    30% {\n",
              "      border-color: transparent;\n",
              "      border-left-color: var(--fill-color);\n",
              "      border-top-color: var(--fill-color);\n",
              "      border-right-color: var(--fill-color);\n",
              "    }\n",
              "    40% {\n",
              "      border-color: transparent;\n",
              "      border-right-color: var(--fill-color);\n",
              "      border-top-color: var(--fill-color);\n",
              "    }\n",
              "    60% {\n",
              "      border-color: transparent;\n",
              "      border-right-color: var(--fill-color);\n",
              "    }\n",
              "    80% {\n",
              "      border-color: transparent;\n",
              "      border-right-color: var(--fill-color);\n",
              "      border-bottom-color: var(--fill-color);\n",
              "    }\n",
              "    90% {\n",
              "      border-color: transparent;\n",
              "      border-bottom-color: var(--fill-color);\n",
              "    }\n",
              "  }\n",
              "</style>\n",
              "\n",
              "  <script>\n",
              "    async function quickchart(key) {\n",
              "      const quickchartButtonEl =\n",
              "        document.querySelector('#' + key + ' button');\n",
              "      quickchartButtonEl.disabled = true;  // To prevent multiple clicks.\n",
              "      quickchartButtonEl.classList.add('colab-df-spinner');\n",
              "      try {\n",
              "        const charts = await google.colab.kernel.invokeFunction(\n",
              "            'suggestCharts', [key], {});\n",
              "      } catch (error) {\n",
              "        console.error('Error during call to suggestCharts:', error);\n",
              "      }\n",
              "      quickchartButtonEl.classList.remove('colab-df-spinner');\n",
              "      quickchartButtonEl.classList.add('colab-df-quickchart-complete');\n",
              "    }\n",
              "    (() => {\n",
              "      let quickchartButtonEl =\n",
              "        document.querySelector('#df-05ba51fb-1eec-43e9-a2c6-a477da4af164 button');\n",
              "      quickchartButtonEl.style.display =\n",
              "        google.colab.kernel.accessAllowed ? 'block' : 'none';\n",
              "    })();\n",
              "  </script>\n",
              "</div>\n",
              "    </div>\n",
              "  </div>\n"
            ]
          },
          "metadata": {},
          "execution_count": 2
        }
      ]
    },
    {
      "cell_type": "markdown",
      "source": [
        "##### **4. Which model’s performance is best and what could be the possible reason for that?**\n",
        "Ans: XG_Boost is best model. after performing all the classifaction models i found that the the XG_Boost is found to highest accuracy score value which is about\n",
        "0.8488 as comparing to the other classification models, also having precision score value 0.7262 , recall value is 0.7878, roc_auc value is 0.4936.\n",
        "by comparing all the classification model which we performed we found that xg boost perform well having higher accuracy score.Overall overfitting also less in it.\n",
        "the roc_auc score gives bestness of classifiers for predicting True positive value with respect to false positive value which seems high and good with comparing to other models. accuracy score tells us how our model is best for future datapoints prediction.\n",
        "XG_Boost performs good the reason is optimizes the tree where it misclassified and when give base_estimator."
      ],
      "metadata": {
        "id": "GNLqYzxRI-C1"
      },
      "id": "GNLqYzxRI-C1"
    },
    {
      "cell_type": "markdown",
      "source": [
        "##### **5. What steps can you take to improve this selected model’s performance even further?**\n",
        "Ans:To improve the performance of model we take following steps:\n",
        "##### a)By using GridsearchCV for this model we should improve its performance. because with different parameters model we would select best one with high performance.\n",
        "##### b)by using target variable we can decrease number of variables which are highly correlated and more p value . i did not eliminate because not having large amount of variables.if we did it would certainly improve performance by atleast little amount.\n",
        "##### c) b)Using cross validation technique it can help to generalize the model and reduce the overfiting"
      ],
      "metadata": {
        "id": "hYVeNO7l0-AR"
      },
      "id": "hYVeNO7l0-AR"
    },
    {
      "cell_type": "markdown",
      "id": "9459e04f",
      "metadata": {
        "id": "9459e04f"
      },
      "source": [
        "### Preprocessing Data"
      ]
    },
    {
      "cell_type": "code",
      "execution_count": 3,
      "id": "f5265be5",
      "metadata": {
        "id": "f5265be5"
      },
      "outputs": [],
      "source": [
        "###Importing libraries\n",
        "import numpy as np\n",
        "import seaborn as sns\n",
        "import pandas as pd"
      ]
    },
    {
      "cell_type": "code",
      "execution_count": 4,
      "id": "8c998964",
      "metadata": {
        "id": "8c998964"
      },
      "outputs": [],
      "source": [
        "###Loading file\n",
        "path='/content/drive/MyDrive/sydney_rain prediction.csv'\n",
        "df=pd.read_csv(path)"
      ]
    },
    {
      "cell_type": "code",
      "execution_count": 5,
      "id": "4fe60f36",
      "metadata": {
        "id": "4fe60f36",
        "colab": {
          "base_uri": "https://localhost:8080/",
          "height": 399
        },
        "outputId": "95f3cdfc-1080-4c33-8809-6fd666455790"
      },
      "outputs": [
        {
          "output_type": "execute_result",
          "data": {
            "text/plain": [
              "         Date Location  MinTemp  MaxTemp  Rainfall  Evaporation  Sunshine  \\\n",
              "0  01-02-2008   Sydney     19.5     22.4      15.6          6.2       0.0   \n",
              "1  02-02-2008   Sydney     19.5     25.6       6.0          3.4       2.7   \n",
              "2  03-02-2008   Sydney     21.6     24.5       6.6          2.4       0.1   \n",
              "3  04-02-2008   Sydney     20.2     22.8      18.8          2.2       0.0   \n",
              "4  05-02-2008   Sydney     19.7     25.7      77.4          NaN       0.0   \n",
              "\n",
              "   Humidity9am  Humidity3pm  Pressure9am  Pressure3pm  Cloud9am  Cloud3pm  \\\n",
              "0         92.0         84.0       1017.6       1017.4       8.0       8.0   \n",
              "1         83.0         73.0       1017.9       1016.4       7.0       7.0   \n",
              "2         88.0         86.0       1016.7       1015.6       7.0       8.0   \n",
              "3         83.0         90.0       1014.2       1011.8       8.0       8.0   \n",
              "4         88.0         74.0       1008.3       1004.8       8.0       8.0   \n",
              "\n",
              "   Temp9am  Temp3pm RainToday RainTomorrow  \n",
              "0     20.7     20.9       Yes          Yes  \n",
              "1     22.4     24.8       Yes          Yes  \n",
              "2     23.5     23.0       Yes          Yes  \n",
              "3     21.4     20.9       Yes          Yes  \n",
              "4     22.5     25.5       Yes          Yes  "
            ],
            "text/html": [
              "\n",
              "  <div id=\"df-fe72347d-8e32-45b2-a15c-738902a2713e\" class=\"colab-df-container\">\n",
              "    <div>\n",
              "<style scoped>\n",
              "    .dataframe tbody tr th:only-of-type {\n",
              "        vertical-align: middle;\n",
              "    }\n",
              "\n",
              "    .dataframe tbody tr th {\n",
              "        vertical-align: top;\n",
              "    }\n",
              "\n",
              "    .dataframe thead th {\n",
              "        text-align: right;\n",
              "    }\n",
              "</style>\n",
              "<table border=\"1\" class=\"dataframe\">\n",
              "  <thead>\n",
              "    <tr style=\"text-align: right;\">\n",
              "      <th></th>\n",
              "      <th>Date</th>\n",
              "      <th>Location</th>\n",
              "      <th>MinTemp</th>\n",
              "      <th>MaxTemp</th>\n",
              "      <th>Rainfall</th>\n",
              "      <th>Evaporation</th>\n",
              "      <th>Sunshine</th>\n",
              "      <th>Humidity9am</th>\n",
              "      <th>Humidity3pm</th>\n",
              "      <th>Pressure9am</th>\n",
              "      <th>Pressure3pm</th>\n",
              "      <th>Cloud9am</th>\n",
              "      <th>Cloud3pm</th>\n",
              "      <th>Temp9am</th>\n",
              "      <th>Temp3pm</th>\n",
              "      <th>RainToday</th>\n",
              "      <th>RainTomorrow</th>\n",
              "    </tr>\n",
              "  </thead>\n",
              "  <tbody>\n",
              "    <tr>\n",
              "      <th>0</th>\n",
              "      <td>01-02-2008</td>\n",
              "      <td>Sydney</td>\n",
              "      <td>19.5</td>\n",
              "      <td>22.4</td>\n",
              "      <td>15.6</td>\n",
              "      <td>6.2</td>\n",
              "      <td>0.0</td>\n",
              "      <td>92.0</td>\n",
              "      <td>84.0</td>\n",
              "      <td>1017.6</td>\n",
              "      <td>1017.4</td>\n",
              "      <td>8.0</td>\n",
              "      <td>8.0</td>\n",
              "      <td>20.7</td>\n",
              "      <td>20.9</td>\n",
              "      <td>Yes</td>\n",
              "      <td>Yes</td>\n",
              "    </tr>\n",
              "    <tr>\n",
              "      <th>1</th>\n",
              "      <td>02-02-2008</td>\n",
              "      <td>Sydney</td>\n",
              "      <td>19.5</td>\n",
              "      <td>25.6</td>\n",
              "      <td>6.0</td>\n",
              "      <td>3.4</td>\n",
              "      <td>2.7</td>\n",
              "      <td>83.0</td>\n",
              "      <td>73.0</td>\n",
              "      <td>1017.9</td>\n",
              "      <td>1016.4</td>\n",
              "      <td>7.0</td>\n",
              "      <td>7.0</td>\n",
              "      <td>22.4</td>\n",
              "      <td>24.8</td>\n",
              "      <td>Yes</td>\n",
              "      <td>Yes</td>\n",
              "    </tr>\n",
              "    <tr>\n",
              "      <th>2</th>\n",
              "      <td>03-02-2008</td>\n",
              "      <td>Sydney</td>\n",
              "      <td>21.6</td>\n",
              "      <td>24.5</td>\n",
              "      <td>6.6</td>\n",
              "      <td>2.4</td>\n",
              "      <td>0.1</td>\n",
              "      <td>88.0</td>\n",
              "      <td>86.0</td>\n",
              "      <td>1016.7</td>\n",
              "      <td>1015.6</td>\n",
              "      <td>7.0</td>\n",
              "      <td>8.0</td>\n",
              "      <td>23.5</td>\n",
              "      <td>23.0</td>\n",
              "      <td>Yes</td>\n",
              "      <td>Yes</td>\n",
              "    </tr>\n",
              "    <tr>\n",
              "      <th>3</th>\n",
              "      <td>04-02-2008</td>\n",
              "      <td>Sydney</td>\n",
              "      <td>20.2</td>\n",
              "      <td>22.8</td>\n",
              "      <td>18.8</td>\n",
              "      <td>2.2</td>\n",
              "      <td>0.0</td>\n",
              "      <td>83.0</td>\n",
              "      <td>90.0</td>\n",
              "      <td>1014.2</td>\n",
              "      <td>1011.8</td>\n",
              "      <td>8.0</td>\n",
              "      <td>8.0</td>\n",
              "      <td>21.4</td>\n",
              "      <td>20.9</td>\n",
              "      <td>Yes</td>\n",
              "      <td>Yes</td>\n",
              "    </tr>\n",
              "    <tr>\n",
              "      <th>4</th>\n",
              "      <td>05-02-2008</td>\n",
              "      <td>Sydney</td>\n",
              "      <td>19.7</td>\n",
              "      <td>25.7</td>\n",
              "      <td>77.4</td>\n",
              "      <td>NaN</td>\n",
              "      <td>0.0</td>\n",
              "      <td>88.0</td>\n",
              "      <td>74.0</td>\n",
              "      <td>1008.3</td>\n",
              "      <td>1004.8</td>\n",
              "      <td>8.0</td>\n",
              "      <td>8.0</td>\n",
              "      <td>22.5</td>\n",
              "      <td>25.5</td>\n",
              "      <td>Yes</td>\n",
              "      <td>Yes</td>\n",
              "    </tr>\n",
              "  </tbody>\n",
              "</table>\n",
              "</div>\n",
              "    <div class=\"colab-df-buttons\">\n",
              "\n",
              "  <div class=\"colab-df-container\">\n",
              "    <button class=\"colab-df-convert\" onclick=\"convertToInteractive('df-fe72347d-8e32-45b2-a15c-738902a2713e')\"\n",
              "            title=\"Convert this dataframe to an interactive table.\"\n",
              "            style=\"display:none;\">\n",
              "\n",
              "  <svg xmlns=\"http://www.w3.org/2000/svg\" height=\"24px\" viewBox=\"0 -960 960 960\">\n",
              "    <path d=\"M120-120v-720h720v720H120Zm60-500h600v-160H180v160Zm220 220h160v-160H400v160Zm0 220h160v-160H400v160ZM180-400h160v-160H180v160Zm440 0h160v-160H620v160ZM180-180h160v-160H180v160Zm440 0h160v-160H620v160Z\"/>\n",
              "  </svg>\n",
              "    </button>\n",
              "\n",
              "  <style>\n",
              "    .colab-df-container {\n",
              "      display:flex;\n",
              "      gap: 12px;\n",
              "    }\n",
              "\n",
              "    .colab-df-convert {\n",
              "      background-color: #E8F0FE;\n",
              "      border: none;\n",
              "      border-radius: 50%;\n",
              "      cursor: pointer;\n",
              "      display: none;\n",
              "      fill: #1967D2;\n",
              "      height: 32px;\n",
              "      padding: 0 0 0 0;\n",
              "      width: 32px;\n",
              "    }\n",
              "\n",
              "    .colab-df-convert:hover {\n",
              "      background-color: #E2EBFA;\n",
              "      box-shadow: 0px 1px 2px rgba(60, 64, 67, 0.3), 0px 1px 3px 1px rgba(60, 64, 67, 0.15);\n",
              "      fill: #174EA6;\n",
              "    }\n",
              "\n",
              "    .colab-df-buttons div {\n",
              "      margin-bottom: 4px;\n",
              "    }\n",
              "\n",
              "    [theme=dark] .colab-df-convert {\n",
              "      background-color: #3B4455;\n",
              "      fill: #D2E3FC;\n",
              "    }\n",
              "\n",
              "    [theme=dark] .colab-df-convert:hover {\n",
              "      background-color: #434B5C;\n",
              "      box-shadow: 0px 1px 3px 1px rgba(0, 0, 0, 0.15);\n",
              "      filter: drop-shadow(0px 1px 2px rgba(0, 0, 0, 0.3));\n",
              "      fill: #FFFFFF;\n",
              "    }\n",
              "  </style>\n",
              "\n",
              "    <script>\n",
              "      const buttonEl =\n",
              "        document.querySelector('#df-fe72347d-8e32-45b2-a15c-738902a2713e button.colab-df-convert');\n",
              "      buttonEl.style.display =\n",
              "        google.colab.kernel.accessAllowed ? 'block' : 'none';\n",
              "\n",
              "      async function convertToInteractive(key) {\n",
              "        const element = document.querySelector('#df-fe72347d-8e32-45b2-a15c-738902a2713e');\n",
              "        const dataTable =\n",
              "          await google.colab.kernel.invokeFunction('convertToInteractive',\n",
              "                                                    [key], {});\n",
              "        if (!dataTable) return;\n",
              "\n",
              "        const docLinkHtml = 'Like what you see? Visit the ' +\n",
              "          '<a target=\"_blank\" href=https://colab.research.google.com/notebooks/data_table.ipynb>data table notebook</a>'\n",
              "          + ' to learn more about interactive tables.';\n",
              "        element.innerHTML = '';\n",
              "        dataTable['output_type'] = 'display_data';\n",
              "        await google.colab.output.renderOutput(dataTable, element);\n",
              "        const docLink = document.createElement('div');\n",
              "        docLink.innerHTML = docLinkHtml;\n",
              "        element.appendChild(docLink);\n",
              "      }\n",
              "    </script>\n",
              "  </div>\n",
              "\n",
              "\n",
              "<div id=\"df-967ed2e4-52d3-4132-9915-aff9829fbe28\">\n",
              "  <button class=\"colab-df-quickchart\" onclick=\"quickchart('df-967ed2e4-52d3-4132-9915-aff9829fbe28')\"\n",
              "            title=\"Suggest charts.\"\n",
              "            style=\"display:none;\">\n",
              "\n",
              "<svg xmlns=\"http://www.w3.org/2000/svg\" height=\"24px\"viewBox=\"0 0 24 24\"\n",
              "     width=\"24px\">\n",
              "    <g>\n",
              "        <path d=\"M19 3H5c-1.1 0-2 .9-2 2v14c0 1.1.9 2 2 2h14c1.1 0 2-.9 2-2V5c0-1.1-.9-2-2-2zM9 17H7v-7h2v7zm4 0h-2V7h2v10zm4 0h-2v-4h2v4z\"/>\n",
              "    </g>\n",
              "</svg>\n",
              "  </button>\n",
              "\n",
              "<style>\n",
              "  .colab-df-quickchart {\n",
              "      --bg-color: #E8F0FE;\n",
              "      --fill-color: #1967D2;\n",
              "      --hover-bg-color: #E2EBFA;\n",
              "      --hover-fill-color: #174EA6;\n",
              "      --disabled-fill-color: #AAA;\n",
              "      --disabled-bg-color: #DDD;\n",
              "  }\n",
              "\n",
              "  [theme=dark] .colab-df-quickchart {\n",
              "      --bg-color: #3B4455;\n",
              "      --fill-color: #D2E3FC;\n",
              "      --hover-bg-color: #434B5C;\n",
              "      --hover-fill-color: #FFFFFF;\n",
              "      --disabled-bg-color: #3B4455;\n",
              "      --disabled-fill-color: #666;\n",
              "  }\n",
              "\n",
              "  .colab-df-quickchart {\n",
              "    background-color: var(--bg-color);\n",
              "    border: none;\n",
              "    border-radius: 50%;\n",
              "    cursor: pointer;\n",
              "    display: none;\n",
              "    fill: var(--fill-color);\n",
              "    height: 32px;\n",
              "    padding: 0;\n",
              "    width: 32px;\n",
              "  }\n",
              "\n",
              "  .colab-df-quickchart:hover {\n",
              "    background-color: var(--hover-bg-color);\n",
              "    box-shadow: 0 1px 2px rgba(60, 64, 67, 0.3), 0 1px 3px 1px rgba(60, 64, 67, 0.15);\n",
              "    fill: var(--button-hover-fill-color);\n",
              "  }\n",
              "\n",
              "  .colab-df-quickchart-complete:disabled,\n",
              "  .colab-df-quickchart-complete:disabled:hover {\n",
              "    background-color: var(--disabled-bg-color);\n",
              "    fill: var(--disabled-fill-color);\n",
              "    box-shadow: none;\n",
              "  }\n",
              "\n",
              "  .colab-df-spinner {\n",
              "    border: 2px solid var(--fill-color);\n",
              "    border-color: transparent;\n",
              "    border-bottom-color: var(--fill-color);\n",
              "    animation:\n",
              "      spin 1s steps(1) infinite;\n",
              "  }\n",
              "\n",
              "  @keyframes spin {\n",
              "    0% {\n",
              "      border-color: transparent;\n",
              "      border-bottom-color: var(--fill-color);\n",
              "      border-left-color: var(--fill-color);\n",
              "    }\n",
              "    20% {\n",
              "      border-color: transparent;\n",
              "      border-left-color: var(--fill-color);\n",
              "      border-top-color: var(--fill-color);\n",
              "    }\n",
              "    30% {\n",
              "      border-color: transparent;\n",
              "      border-left-color: var(--fill-color);\n",
              "      border-top-color: var(--fill-color);\n",
              "      border-right-color: var(--fill-color);\n",
              "    }\n",
              "    40% {\n",
              "      border-color: transparent;\n",
              "      border-right-color: var(--fill-color);\n",
              "      border-top-color: var(--fill-color);\n",
              "    }\n",
              "    60% {\n",
              "      border-color: transparent;\n",
              "      border-right-color: var(--fill-color);\n",
              "    }\n",
              "    80% {\n",
              "      border-color: transparent;\n",
              "      border-right-color: var(--fill-color);\n",
              "      border-bottom-color: var(--fill-color);\n",
              "    }\n",
              "    90% {\n",
              "      border-color: transparent;\n",
              "      border-bottom-color: var(--fill-color);\n",
              "    }\n",
              "  }\n",
              "</style>\n",
              "\n",
              "  <script>\n",
              "    async function quickchart(key) {\n",
              "      const quickchartButtonEl =\n",
              "        document.querySelector('#' + key + ' button');\n",
              "      quickchartButtonEl.disabled = true;  // To prevent multiple clicks.\n",
              "      quickchartButtonEl.classList.add('colab-df-spinner');\n",
              "      try {\n",
              "        const charts = await google.colab.kernel.invokeFunction(\n",
              "            'suggestCharts', [key], {});\n",
              "      } catch (error) {\n",
              "        console.error('Error during call to suggestCharts:', error);\n",
              "      }\n",
              "      quickchartButtonEl.classList.remove('colab-df-spinner');\n",
              "      quickchartButtonEl.classList.add('colab-df-quickchart-complete');\n",
              "    }\n",
              "    (() => {\n",
              "      let quickchartButtonEl =\n",
              "        document.querySelector('#df-967ed2e4-52d3-4132-9915-aff9829fbe28 button');\n",
              "      quickchartButtonEl.style.display =\n",
              "        google.colab.kernel.accessAllowed ? 'block' : 'none';\n",
              "    })();\n",
              "  </script>\n",
              "</div>\n",
              "    </div>\n",
              "  </div>\n"
            ]
          },
          "metadata": {},
          "execution_count": 5
        }
      ],
      "source": [
        "###First five value of file shows\n",
        "df.head()"
      ]
    },
    {
      "cell_type": "code",
      "execution_count": 6,
      "id": "f572c944",
      "metadata": {
        "id": "f572c944"
      },
      "outputs": [],
      "source": [
        "###Changing categorical data to numerical data of columns RainToday and RainTommorow.\n",
        "df['RainToday'] = df['RainToday'].replace({'Yes': 1, 'No': 0})\n",
        "df['RainTomorrow'] = df['RainTomorrow'].replace({'Yes': 1, 'No': 0})"
      ]
    },
    {
      "cell_type": "code",
      "execution_count": 7,
      "id": "bc5d5d49",
      "metadata": {
        "id": "bc5d5d49",
        "colab": {
          "base_uri": "https://localhost:8080/",
          "height": 399
        },
        "outputId": "b310a8df-f93f-4752-c559-d4c971b10bf9"
      },
      "outputs": [
        {
          "output_type": "execute_result",
          "data": {
            "text/plain": [
              "         Date Location  MinTemp  MaxTemp  Rainfall  Evaporation  Sunshine  \\\n",
              "0  01-02-2008   Sydney     19.5     22.4      15.6          6.2       0.0   \n",
              "1  02-02-2008   Sydney     19.5     25.6       6.0          3.4       2.7   \n",
              "2  03-02-2008   Sydney     21.6     24.5       6.6          2.4       0.1   \n",
              "3  04-02-2008   Sydney     20.2     22.8      18.8          2.2       0.0   \n",
              "4  05-02-2008   Sydney     19.7     25.7      77.4          NaN       0.0   \n",
              "\n",
              "   Humidity9am  Humidity3pm  Pressure9am  Pressure3pm  Cloud9am  Cloud3pm  \\\n",
              "0         92.0         84.0       1017.6       1017.4       8.0       8.0   \n",
              "1         83.0         73.0       1017.9       1016.4       7.0       7.0   \n",
              "2         88.0         86.0       1016.7       1015.6       7.0       8.0   \n",
              "3         83.0         90.0       1014.2       1011.8       8.0       8.0   \n",
              "4         88.0         74.0       1008.3       1004.8       8.0       8.0   \n",
              "\n",
              "   Temp9am  Temp3pm  RainToday  RainTomorrow  \n",
              "0     20.7     20.9        1.0             1  \n",
              "1     22.4     24.8        1.0             1  \n",
              "2     23.5     23.0        1.0             1  \n",
              "3     21.4     20.9        1.0             1  \n",
              "4     22.5     25.5        1.0             1  "
            ],
            "text/html": [
              "\n",
              "  <div id=\"df-c15d3c11-a3de-4b00-bc87-7919c090ea11\" class=\"colab-df-container\">\n",
              "    <div>\n",
              "<style scoped>\n",
              "    .dataframe tbody tr th:only-of-type {\n",
              "        vertical-align: middle;\n",
              "    }\n",
              "\n",
              "    .dataframe tbody tr th {\n",
              "        vertical-align: top;\n",
              "    }\n",
              "\n",
              "    .dataframe thead th {\n",
              "        text-align: right;\n",
              "    }\n",
              "</style>\n",
              "<table border=\"1\" class=\"dataframe\">\n",
              "  <thead>\n",
              "    <tr style=\"text-align: right;\">\n",
              "      <th></th>\n",
              "      <th>Date</th>\n",
              "      <th>Location</th>\n",
              "      <th>MinTemp</th>\n",
              "      <th>MaxTemp</th>\n",
              "      <th>Rainfall</th>\n",
              "      <th>Evaporation</th>\n",
              "      <th>Sunshine</th>\n",
              "      <th>Humidity9am</th>\n",
              "      <th>Humidity3pm</th>\n",
              "      <th>Pressure9am</th>\n",
              "      <th>Pressure3pm</th>\n",
              "      <th>Cloud9am</th>\n",
              "      <th>Cloud3pm</th>\n",
              "      <th>Temp9am</th>\n",
              "      <th>Temp3pm</th>\n",
              "      <th>RainToday</th>\n",
              "      <th>RainTomorrow</th>\n",
              "    </tr>\n",
              "  </thead>\n",
              "  <tbody>\n",
              "    <tr>\n",
              "      <th>0</th>\n",
              "      <td>01-02-2008</td>\n",
              "      <td>Sydney</td>\n",
              "      <td>19.5</td>\n",
              "      <td>22.4</td>\n",
              "      <td>15.6</td>\n",
              "      <td>6.2</td>\n",
              "      <td>0.0</td>\n",
              "      <td>92.0</td>\n",
              "      <td>84.0</td>\n",
              "      <td>1017.6</td>\n",
              "      <td>1017.4</td>\n",
              "      <td>8.0</td>\n",
              "      <td>8.0</td>\n",
              "      <td>20.7</td>\n",
              "      <td>20.9</td>\n",
              "      <td>1.0</td>\n",
              "      <td>1</td>\n",
              "    </tr>\n",
              "    <tr>\n",
              "      <th>1</th>\n",
              "      <td>02-02-2008</td>\n",
              "      <td>Sydney</td>\n",
              "      <td>19.5</td>\n",
              "      <td>25.6</td>\n",
              "      <td>6.0</td>\n",
              "      <td>3.4</td>\n",
              "      <td>2.7</td>\n",
              "      <td>83.0</td>\n",
              "      <td>73.0</td>\n",
              "      <td>1017.9</td>\n",
              "      <td>1016.4</td>\n",
              "      <td>7.0</td>\n",
              "      <td>7.0</td>\n",
              "      <td>22.4</td>\n",
              "      <td>24.8</td>\n",
              "      <td>1.0</td>\n",
              "      <td>1</td>\n",
              "    </tr>\n",
              "    <tr>\n",
              "      <th>2</th>\n",
              "      <td>03-02-2008</td>\n",
              "      <td>Sydney</td>\n",
              "      <td>21.6</td>\n",
              "      <td>24.5</td>\n",
              "      <td>6.6</td>\n",
              "      <td>2.4</td>\n",
              "      <td>0.1</td>\n",
              "      <td>88.0</td>\n",
              "      <td>86.0</td>\n",
              "      <td>1016.7</td>\n",
              "      <td>1015.6</td>\n",
              "      <td>7.0</td>\n",
              "      <td>8.0</td>\n",
              "      <td>23.5</td>\n",
              "      <td>23.0</td>\n",
              "      <td>1.0</td>\n",
              "      <td>1</td>\n",
              "    </tr>\n",
              "    <tr>\n",
              "      <th>3</th>\n",
              "      <td>04-02-2008</td>\n",
              "      <td>Sydney</td>\n",
              "      <td>20.2</td>\n",
              "      <td>22.8</td>\n",
              "      <td>18.8</td>\n",
              "      <td>2.2</td>\n",
              "      <td>0.0</td>\n",
              "      <td>83.0</td>\n",
              "      <td>90.0</td>\n",
              "      <td>1014.2</td>\n",
              "      <td>1011.8</td>\n",
              "      <td>8.0</td>\n",
              "      <td>8.0</td>\n",
              "      <td>21.4</td>\n",
              "      <td>20.9</td>\n",
              "      <td>1.0</td>\n",
              "      <td>1</td>\n",
              "    </tr>\n",
              "    <tr>\n",
              "      <th>4</th>\n",
              "      <td>05-02-2008</td>\n",
              "      <td>Sydney</td>\n",
              "      <td>19.7</td>\n",
              "      <td>25.7</td>\n",
              "      <td>77.4</td>\n",
              "      <td>NaN</td>\n",
              "      <td>0.0</td>\n",
              "      <td>88.0</td>\n",
              "      <td>74.0</td>\n",
              "      <td>1008.3</td>\n",
              "      <td>1004.8</td>\n",
              "      <td>8.0</td>\n",
              "      <td>8.0</td>\n",
              "      <td>22.5</td>\n",
              "      <td>25.5</td>\n",
              "      <td>1.0</td>\n",
              "      <td>1</td>\n",
              "    </tr>\n",
              "  </tbody>\n",
              "</table>\n",
              "</div>\n",
              "    <div class=\"colab-df-buttons\">\n",
              "\n",
              "  <div class=\"colab-df-container\">\n",
              "    <button class=\"colab-df-convert\" onclick=\"convertToInteractive('df-c15d3c11-a3de-4b00-bc87-7919c090ea11')\"\n",
              "            title=\"Convert this dataframe to an interactive table.\"\n",
              "            style=\"display:none;\">\n",
              "\n",
              "  <svg xmlns=\"http://www.w3.org/2000/svg\" height=\"24px\" viewBox=\"0 -960 960 960\">\n",
              "    <path d=\"M120-120v-720h720v720H120Zm60-500h600v-160H180v160Zm220 220h160v-160H400v160Zm0 220h160v-160H400v160ZM180-400h160v-160H180v160Zm440 0h160v-160H620v160ZM180-180h160v-160H180v160Zm440 0h160v-160H620v160Z\"/>\n",
              "  </svg>\n",
              "    </button>\n",
              "\n",
              "  <style>\n",
              "    .colab-df-container {\n",
              "      display:flex;\n",
              "      gap: 12px;\n",
              "    }\n",
              "\n",
              "    .colab-df-convert {\n",
              "      background-color: #E8F0FE;\n",
              "      border: none;\n",
              "      border-radius: 50%;\n",
              "      cursor: pointer;\n",
              "      display: none;\n",
              "      fill: #1967D2;\n",
              "      height: 32px;\n",
              "      padding: 0 0 0 0;\n",
              "      width: 32px;\n",
              "    }\n",
              "\n",
              "    .colab-df-convert:hover {\n",
              "      background-color: #E2EBFA;\n",
              "      box-shadow: 0px 1px 2px rgba(60, 64, 67, 0.3), 0px 1px 3px 1px rgba(60, 64, 67, 0.15);\n",
              "      fill: #174EA6;\n",
              "    }\n",
              "\n",
              "    .colab-df-buttons div {\n",
              "      margin-bottom: 4px;\n",
              "    }\n",
              "\n",
              "    [theme=dark] .colab-df-convert {\n",
              "      background-color: #3B4455;\n",
              "      fill: #D2E3FC;\n",
              "    }\n",
              "\n",
              "    [theme=dark] .colab-df-convert:hover {\n",
              "      background-color: #434B5C;\n",
              "      box-shadow: 0px 1px 3px 1px rgba(0, 0, 0, 0.15);\n",
              "      filter: drop-shadow(0px 1px 2px rgba(0, 0, 0, 0.3));\n",
              "      fill: #FFFFFF;\n",
              "    }\n",
              "  </style>\n",
              "\n",
              "    <script>\n",
              "      const buttonEl =\n",
              "        document.querySelector('#df-c15d3c11-a3de-4b00-bc87-7919c090ea11 button.colab-df-convert');\n",
              "      buttonEl.style.display =\n",
              "        google.colab.kernel.accessAllowed ? 'block' : 'none';\n",
              "\n",
              "      async function convertToInteractive(key) {\n",
              "        const element = document.querySelector('#df-c15d3c11-a3de-4b00-bc87-7919c090ea11');\n",
              "        const dataTable =\n",
              "          await google.colab.kernel.invokeFunction('convertToInteractive',\n",
              "                                                    [key], {});\n",
              "        if (!dataTable) return;\n",
              "\n",
              "        const docLinkHtml = 'Like what you see? Visit the ' +\n",
              "          '<a target=\"_blank\" href=https://colab.research.google.com/notebooks/data_table.ipynb>data table notebook</a>'\n",
              "          + ' to learn more about interactive tables.';\n",
              "        element.innerHTML = '';\n",
              "        dataTable['output_type'] = 'display_data';\n",
              "        await google.colab.output.renderOutput(dataTable, element);\n",
              "        const docLink = document.createElement('div');\n",
              "        docLink.innerHTML = docLinkHtml;\n",
              "        element.appendChild(docLink);\n",
              "      }\n",
              "    </script>\n",
              "  </div>\n",
              "\n",
              "\n",
              "<div id=\"df-5aeadfd8-1a4c-4c71-8c93-0796cbe42646\">\n",
              "  <button class=\"colab-df-quickchart\" onclick=\"quickchart('df-5aeadfd8-1a4c-4c71-8c93-0796cbe42646')\"\n",
              "            title=\"Suggest charts.\"\n",
              "            style=\"display:none;\">\n",
              "\n",
              "<svg xmlns=\"http://www.w3.org/2000/svg\" height=\"24px\"viewBox=\"0 0 24 24\"\n",
              "     width=\"24px\">\n",
              "    <g>\n",
              "        <path d=\"M19 3H5c-1.1 0-2 .9-2 2v14c0 1.1.9 2 2 2h14c1.1 0 2-.9 2-2V5c0-1.1-.9-2-2-2zM9 17H7v-7h2v7zm4 0h-2V7h2v10zm4 0h-2v-4h2v4z\"/>\n",
              "    </g>\n",
              "</svg>\n",
              "  </button>\n",
              "\n",
              "<style>\n",
              "  .colab-df-quickchart {\n",
              "      --bg-color: #E8F0FE;\n",
              "      --fill-color: #1967D2;\n",
              "      --hover-bg-color: #E2EBFA;\n",
              "      --hover-fill-color: #174EA6;\n",
              "      --disabled-fill-color: #AAA;\n",
              "      --disabled-bg-color: #DDD;\n",
              "  }\n",
              "\n",
              "  [theme=dark] .colab-df-quickchart {\n",
              "      --bg-color: #3B4455;\n",
              "      --fill-color: #D2E3FC;\n",
              "      --hover-bg-color: #434B5C;\n",
              "      --hover-fill-color: #FFFFFF;\n",
              "      --disabled-bg-color: #3B4455;\n",
              "      --disabled-fill-color: #666;\n",
              "  }\n",
              "\n",
              "  .colab-df-quickchart {\n",
              "    background-color: var(--bg-color);\n",
              "    border: none;\n",
              "    border-radius: 50%;\n",
              "    cursor: pointer;\n",
              "    display: none;\n",
              "    fill: var(--fill-color);\n",
              "    height: 32px;\n",
              "    padding: 0;\n",
              "    width: 32px;\n",
              "  }\n",
              "\n",
              "  .colab-df-quickchart:hover {\n",
              "    background-color: var(--hover-bg-color);\n",
              "    box-shadow: 0 1px 2px rgba(60, 64, 67, 0.3), 0 1px 3px 1px rgba(60, 64, 67, 0.15);\n",
              "    fill: var(--button-hover-fill-color);\n",
              "  }\n",
              "\n",
              "  .colab-df-quickchart-complete:disabled,\n",
              "  .colab-df-quickchart-complete:disabled:hover {\n",
              "    background-color: var(--disabled-bg-color);\n",
              "    fill: var(--disabled-fill-color);\n",
              "    box-shadow: none;\n",
              "  }\n",
              "\n",
              "  .colab-df-spinner {\n",
              "    border: 2px solid var(--fill-color);\n",
              "    border-color: transparent;\n",
              "    border-bottom-color: var(--fill-color);\n",
              "    animation:\n",
              "      spin 1s steps(1) infinite;\n",
              "  }\n",
              "\n",
              "  @keyframes spin {\n",
              "    0% {\n",
              "      border-color: transparent;\n",
              "      border-bottom-color: var(--fill-color);\n",
              "      border-left-color: var(--fill-color);\n",
              "    }\n",
              "    20% {\n",
              "      border-color: transparent;\n",
              "      border-left-color: var(--fill-color);\n",
              "      border-top-color: var(--fill-color);\n",
              "    }\n",
              "    30% {\n",
              "      border-color: transparent;\n",
              "      border-left-color: var(--fill-color);\n",
              "      border-top-color: var(--fill-color);\n",
              "      border-right-color: var(--fill-color);\n",
              "    }\n",
              "    40% {\n",
              "      border-color: transparent;\n",
              "      border-right-color: var(--fill-color);\n",
              "      border-top-color: var(--fill-color);\n",
              "    }\n",
              "    60% {\n",
              "      border-color: transparent;\n",
              "      border-right-color: var(--fill-color);\n",
              "    }\n",
              "    80% {\n",
              "      border-color: transparent;\n",
              "      border-right-color: var(--fill-color);\n",
              "      border-bottom-color: var(--fill-color);\n",
              "    }\n",
              "    90% {\n",
              "      border-color: transparent;\n",
              "      border-bottom-color: var(--fill-color);\n",
              "    }\n",
              "  }\n",
              "</style>\n",
              "\n",
              "  <script>\n",
              "    async function quickchart(key) {\n",
              "      const quickchartButtonEl =\n",
              "        document.querySelector('#' + key + ' button');\n",
              "      quickchartButtonEl.disabled = true;  // To prevent multiple clicks.\n",
              "      quickchartButtonEl.classList.add('colab-df-spinner');\n",
              "      try {\n",
              "        const charts = await google.colab.kernel.invokeFunction(\n",
              "            'suggestCharts', [key], {});\n",
              "      } catch (error) {\n",
              "        console.error('Error during call to suggestCharts:', error);\n",
              "      }\n",
              "      quickchartButtonEl.classList.remove('colab-df-spinner');\n",
              "      quickchartButtonEl.classList.add('colab-df-quickchart-complete');\n",
              "    }\n",
              "    (() => {\n",
              "      let quickchartButtonEl =\n",
              "        document.querySelector('#df-5aeadfd8-1a4c-4c71-8c93-0796cbe42646 button');\n",
              "      quickchartButtonEl.style.display =\n",
              "        google.colab.kernel.accessAllowed ? 'block' : 'none';\n",
              "    })();\n",
              "  </script>\n",
              "</div>\n",
              "    </div>\n",
              "  </div>\n"
            ]
          },
          "metadata": {},
          "execution_count": 7
        }
      ],
      "source": [
        "###first five records showing\n",
        "df.head()"
      ]
    },
    {
      "cell_type": "code",
      "execution_count": 8,
      "id": "af5202f1",
      "metadata": {
        "id": "af5202f1"
      },
      "outputs": [],
      "source": [
        "###Deleting Useless Variables from data\n",
        "del df['Location']\n",
        "del df['Date']"
      ]
    },
    {
      "cell_type": "code",
      "execution_count": 9,
      "id": "27f3befe",
      "metadata": {
        "id": "27f3befe",
        "colab": {
          "base_uri": "https://localhost:8080/",
          "height": 206
        },
        "outputId": "dbdd9740-b99b-478b-ddf0-2e3d61b2d68a"
      },
      "outputs": [
        {
          "output_type": "execute_result",
          "data": {
            "text/plain": [
              "   MinTemp  MaxTemp  Rainfall  Evaporation  Sunshine  Humidity9am  \\\n",
              "0     19.5     22.4      15.6          6.2       0.0         92.0   \n",
              "1     19.5     25.6       6.0          3.4       2.7         83.0   \n",
              "2     21.6     24.5       6.6          2.4       0.1         88.0   \n",
              "3     20.2     22.8      18.8          2.2       0.0         83.0   \n",
              "4     19.7     25.7      77.4          NaN       0.0         88.0   \n",
              "\n",
              "   Humidity3pm  Pressure9am  Pressure3pm  Cloud9am  Cloud3pm  Temp9am  \\\n",
              "0         84.0       1017.6       1017.4       8.0       8.0     20.7   \n",
              "1         73.0       1017.9       1016.4       7.0       7.0     22.4   \n",
              "2         86.0       1016.7       1015.6       7.0       8.0     23.5   \n",
              "3         90.0       1014.2       1011.8       8.0       8.0     21.4   \n",
              "4         74.0       1008.3       1004.8       8.0       8.0     22.5   \n",
              "\n",
              "   Temp3pm  RainToday  RainTomorrow  \n",
              "0     20.9        1.0             1  \n",
              "1     24.8        1.0             1  \n",
              "2     23.0        1.0             1  \n",
              "3     20.9        1.0             1  \n",
              "4     25.5        1.0             1  "
            ],
            "text/html": [
              "\n",
              "  <div id=\"df-d32d4159-8fd6-4a37-853c-61099f13d7cf\" class=\"colab-df-container\">\n",
              "    <div>\n",
              "<style scoped>\n",
              "    .dataframe tbody tr th:only-of-type {\n",
              "        vertical-align: middle;\n",
              "    }\n",
              "\n",
              "    .dataframe tbody tr th {\n",
              "        vertical-align: top;\n",
              "    }\n",
              "\n",
              "    .dataframe thead th {\n",
              "        text-align: right;\n",
              "    }\n",
              "</style>\n",
              "<table border=\"1\" class=\"dataframe\">\n",
              "  <thead>\n",
              "    <tr style=\"text-align: right;\">\n",
              "      <th></th>\n",
              "      <th>MinTemp</th>\n",
              "      <th>MaxTemp</th>\n",
              "      <th>Rainfall</th>\n",
              "      <th>Evaporation</th>\n",
              "      <th>Sunshine</th>\n",
              "      <th>Humidity9am</th>\n",
              "      <th>Humidity3pm</th>\n",
              "      <th>Pressure9am</th>\n",
              "      <th>Pressure3pm</th>\n",
              "      <th>Cloud9am</th>\n",
              "      <th>Cloud3pm</th>\n",
              "      <th>Temp9am</th>\n",
              "      <th>Temp3pm</th>\n",
              "      <th>RainToday</th>\n",
              "      <th>RainTomorrow</th>\n",
              "    </tr>\n",
              "  </thead>\n",
              "  <tbody>\n",
              "    <tr>\n",
              "      <th>0</th>\n",
              "      <td>19.5</td>\n",
              "      <td>22.4</td>\n",
              "      <td>15.6</td>\n",
              "      <td>6.2</td>\n",
              "      <td>0.0</td>\n",
              "      <td>92.0</td>\n",
              "      <td>84.0</td>\n",
              "      <td>1017.6</td>\n",
              "      <td>1017.4</td>\n",
              "      <td>8.0</td>\n",
              "      <td>8.0</td>\n",
              "      <td>20.7</td>\n",
              "      <td>20.9</td>\n",
              "      <td>1.0</td>\n",
              "      <td>1</td>\n",
              "    </tr>\n",
              "    <tr>\n",
              "      <th>1</th>\n",
              "      <td>19.5</td>\n",
              "      <td>25.6</td>\n",
              "      <td>6.0</td>\n",
              "      <td>3.4</td>\n",
              "      <td>2.7</td>\n",
              "      <td>83.0</td>\n",
              "      <td>73.0</td>\n",
              "      <td>1017.9</td>\n",
              "      <td>1016.4</td>\n",
              "      <td>7.0</td>\n",
              "      <td>7.0</td>\n",
              "      <td>22.4</td>\n",
              "      <td>24.8</td>\n",
              "      <td>1.0</td>\n",
              "      <td>1</td>\n",
              "    </tr>\n",
              "    <tr>\n",
              "      <th>2</th>\n",
              "      <td>21.6</td>\n",
              "      <td>24.5</td>\n",
              "      <td>6.6</td>\n",
              "      <td>2.4</td>\n",
              "      <td>0.1</td>\n",
              "      <td>88.0</td>\n",
              "      <td>86.0</td>\n",
              "      <td>1016.7</td>\n",
              "      <td>1015.6</td>\n",
              "      <td>7.0</td>\n",
              "      <td>8.0</td>\n",
              "      <td>23.5</td>\n",
              "      <td>23.0</td>\n",
              "      <td>1.0</td>\n",
              "      <td>1</td>\n",
              "    </tr>\n",
              "    <tr>\n",
              "      <th>3</th>\n",
              "      <td>20.2</td>\n",
              "      <td>22.8</td>\n",
              "      <td>18.8</td>\n",
              "      <td>2.2</td>\n",
              "      <td>0.0</td>\n",
              "      <td>83.0</td>\n",
              "      <td>90.0</td>\n",
              "      <td>1014.2</td>\n",
              "      <td>1011.8</td>\n",
              "      <td>8.0</td>\n",
              "      <td>8.0</td>\n",
              "      <td>21.4</td>\n",
              "      <td>20.9</td>\n",
              "      <td>1.0</td>\n",
              "      <td>1</td>\n",
              "    </tr>\n",
              "    <tr>\n",
              "      <th>4</th>\n",
              "      <td>19.7</td>\n",
              "      <td>25.7</td>\n",
              "      <td>77.4</td>\n",
              "      <td>NaN</td>\n",
              "      <td>0.0</td>\n",
              "      <td>88.0</td>\n",
              "      <td>74.0</td>\n",
              "      <td>1008.3</td>\n",
              "      <td>1004.8</td>\n",
              "      <td>8.0</td>\n",
              "      <td>8.0</td>\n",
              "      <td>22.5</td>\n",
              "      <td>25.5</td>\n",
              "      <td>1.0</td>\n",
              "      <td>1</td>\n",
              "    </tr>\n",
              "  </tbody>\n",
              "</table>\n",
              "</div>\n",
              "    <div class=\"colab-df-buttons\">\n",
              "\n",
              "  <div class=\"colab-df-container\">\n",
              "    <button class=\"colab-df-convert\" onclick=\"convertToInteractive('df-d32d4159-8fd6-4a37-853c-61099f13d7cf')\"\n",
              "            title=\"Convert this dataframe to an interactive table.\"\n",
              "            style=\"display:none;\">\n",
              "\n",
              "  <svg xmlns=\"http://www.w3.org/2000/svg\" height=\"24px\" viewBox=\"0 -960 960 960\">\n",
              "    <path d=\"M120-120v-720h720v720H120Zm60-500h600v-160H180v160Zm220 220h160v-160H400v160Zm0 220h160v-160H400v160ZM180-400h160v-160H180v160Zm440 0h160v-160H620v160ZM180-180h160v-160H180v160Zm440 0h160v-160H620v160Z\"/>\n",
              "  </svg>\n",
              "    </button>\n",
              "\n",
              "  <style>\n",
              "    .colab-df-container {\n",
              "      display:flex;\n",
              "      gap: 12px;\n",
              "    }\n",
              "\n",
              "    .colab-df-convert {\n",
              "      background-color: #E8F0FE;\n",
              "      border: none;\n",
              "      border-radius: 50%;\n",
              "      cursor: pointer;\n",
              "      display: none;\n",
              "      fill: #1967D2;\n",
              "      height: 32px;\n",
              "      padding: 0 0 0 0;\n",
              "      width: 32px;\n",
              "    }\n",
              "\n",
              "    .colab-df-convert:hover {\n",
              "      background-color: #E2EBFA;\n",
              "      box-shadow: 0px 1px 2px rgba(60, 64, 67, 0.3), 0px 1px 3px 1px rgba(60, 64, 67, 0.15);\n",
              "      fill: #174EA6;\n",
              "    }\n",
              "\n",
              "    .colab-df-buttons div {\n",
              "      margin-bottom: 4px;\n",
              "    }\n",
              "\n",
              "    [theme=dark] .colab-df-convert {\n",
              "      background-color: #3B4455;\n",
              "      fill: #D2E3FC;\n",
              "    }\n",
              "\n",
              "    [theme=dark] .colab-df-convert:hover {\n",
              "      background-color: #434B5C;\n",
              "      box-shadow: 0px 1px 3px 1px rgba(0, 0, 0, 0.15);\n",
              "      filter: drop-shadow(0px 1px 2px rgba(0, 0, 0, 0.3));\n",
              "      fill: #FFFFFF;\n",
              "    }\n",
              "  </style>\n",
              "\n",
              "    <script>\n",
              "      const buttonEl =\n",
              "        document.querySelector('#df-d32d4159-8fd6-4a37-853c-61099f13d7cf button.colab-df-convert');\n",
              "      buttonEl.style.display =\n",
              "        google.colab.kernel.accessAllowed ? 'block' : 'none';\n",
              "\n",
              "      async function convertToInteractive(key) {\n",
              "        const element = document.querySelector('#df-d32d4159-8fd6-4a37-853c-61099f13d7cf');\n",
              "        const dataTable =\n",
              "          await google.colab.kernel.invokeFunction('convertToInteractive',\n",
              "                                                    [key], {});\n",
              "        if (!dataTable) return;\n",
              "\n",
              "        const docLinkHtml = 'Like what you see? Visit the ' +\n",
              "          '<a target=\"_blank\" href=https://colab.research.google.com/notebooks/data_table.ipynb>data table notebook</a>'\n",
              "          + ' to learn more about interactive tables.';\n",
              "        element.innerHTML = '';\n",
              "        dataTable['output_type'] = 'display_data';\n",
              "        await google.colab.output.renderOutput(dataTable, element);\n",
              "        const docLink = document.createElement('div');\n",
              "        docLink.innerHTML = docLinkHtml;\n",
              "        element.appendChild(docLink);\n",
              "      }\n",
              "    </script>\n",
              "  </div>\n",
              "\n",
              "\n",
              "<div id=\"df-55f06b52-186c-453e-8787-20b973067602\">\n",
              "  <button class=\"colab-df-quickchart\" onclick=\"quickchart('df-55f06b52-186c-453e-8787-20b973067602')\"\n",
              "            title=\"Suggest charts.\"\n",
              "            style=\"display:none;\">\n",
              "\n",
              "<svg xmlns=\"http://www.w3.org/2000/svg\" height=\"24px\"viewBox=\"0 0 24 24\"\n",
              "     width=\"24px\">\n",
              "    <g>\n",
              "        <path d=\"M19 3H5c-1.1 0-2 .9-2 2v14c0 1.1.9 2 2 2h14c1.1 0 2-.9 2-2V5c0-1.1-.9-2-2-2zM9 17H7v-7h2v7zm4 0h-2V7h2v10zm4 0h-2v-4h2v4z\"/>\n",
              "    </g>\n",
              "</svg>\n",
              "  </button>\n",
              "\n",
              "<style>\n",
              "  .colab-df-quickchart {\n",
              "      --bg-color: #E8F0FE;\n",
              "      --fill-color: #1967D2;\n",
              "      --hover-bg-color: #E2EBFA;\n",
              "      --hover-fill-color: #174EA6;\n",
              "      --disabled-fill-color: #AAA;\n",
              "      --disabled-bg-color: #DDD;\n",
              "  }\n",
              "\n",
              "  [theme=dark] .colab-df-quickchart {\n",
              "      --bg-color: #3B4455;\n",
              "      --fill-color: #D2E3FC;\n",
              "      --hover-bg-color: #434B5C;\n",
              "      --hover-fill-color: #FFFFFF;\n",
              "      --disabled-bg-color: #3B4455;\n",
              "      --disabled-fill-color: #666;\n",
              "  }\n",
              "\n",
              "  .colab-df-quickchart {\n",
              "    background-color: var(--bg-color);\n",
              "    border: none;\n",
              "    border-radius: 50%;\n",
              "    cursor: pointer;\n",
              "    display: none;\n",
              "    fill: var(--fill-color);\n",
              "    height: 32px;\n",
              "    padding: 0;\n",
              "    width: 32px;\n",
              "  }\n",
              "\n",
              "  .colab-df-quickchart:hover {\n",
              "    background-color: var(--hover-bg-color);\n",
              "    box-shadow: 0 1px 2px rgba(60, 64, 67, 0.3), 0 1px 3px 1px rgba(60, 64, 67, 0.15);\n",
              "    fill: var(--button-hover-fill-color);\n",
              "  }\n",
              "\n",
              "  .colab-df-quickchart-complete:disabled,\n",
              "  .colab-df-quickchart-complete:disabled:hover {\n",
              "    background-color: var(--disabled-bg-color);\n",
              "    fill: var(--disabled-fill-color);\n",
              "    box-shadow: none;\n",
              "  }\n",
              "\n",
              "  .colab-df-spinner {\n",
              "    border: 2px solid var(--fill-color);\n",
              "    border-color: transparent;\n",
              "    border-bottom-color: var(--fill-color);\n",
              "    animation:\n",
              "      spin 1s steps(1) infinite;\n",
              "  }\n",
              "\n",
              "  @keyframes spin {\n",
              "    0% {\n",
              "      border-color: transparent;\n",
              "      border-bottom-color: var(--fill-color);\n",
              "      border-left-color: var(--fill-color);\n",
              "    }\n",
              "    20% {\n",
              "      border-color: transparent;\n",
              "      border-left-color: var(--fill-color);\n",
              "      border-top-color: var(--fill-color);\n",
              "    }\n",
              "    30% {\n",
              "      border-color: transparent;\n",
              "      border-left-color: var(--fill-color);\n",
              "      border-top-color: var(--fill-color);\n",
              "      border-right-color: var(--fill-color);\n",
              "    }\n",
              "    40% {\n",
              "      border-color: transparent;\n",
              "      border-right-color: var(--fill-color);\n",
              "      border-top-color: var(--fill-color);\n",
              "    }\n",
              "    60% {\n",
              "      border-color: transparent;\n",
              "      border-right-color: var(--fill-color);\n",
              "    }\n",
              "    80% {\n",
              "      border-color: transparent;\n",
              "      border-right-color: var(--fill-color);\n",
              "      border-bottom-color: var(--fill-color);\n",
              "    }\n",
              "    90% {\n",
              "      border-color: transparent;\n",
              "      border-bottom-color: var(--fill-color);\n",
              "    }\n",
              "  }\n",
              "</style>\n",
              "\n",
              "  <script>\n",
              "    async function quickchart(key) {\n",
              "      const quickchartButtonEl =\n",
              "        document.querySelector('#' + key + ' button');\n",
              "      quickchartButtonEl.disabled = true;  // To prevent multiple clicks.\n",
              "      quickchartButtonEl.classList.add('colab-df-spinner');\n",
              "      try {\n",
              "        const charts = await google.colab.kernel.invokeFunction(\n",
              "            'suggestCharts', [key], {});\n",
              "      } catch (error) {\n",
              "        console.error('Error during call to suggestCharts:', error);\n",
              "      }\n",
              "      quickchartButtonEl.classList.remove('colab-df-spinner');\n",
              "      quickchartButtonEl.classList.add('colab-df-quickchart-complete');\n",
              "    }\n",
              "    (() => {\n",
              "      let quickchartButtonEl =\n",
              "        document.querySelector('#df-55f06b52-186c-453e-8787-20b973067602 button');\n",
              "      quickchartButtonEl.style.display =\n",
              "        google.colab.kernel.accessAllowed ? 'block' : 'none';\n",
              "    })();\n",
              "  </script>\n",
              "</div>\n",
              "    </div>\n",
              "  </div>\n"
            ]
          },
          "metadata": {},
          "execution_count": 9
        }
      ],
      "source": [
        "###Shows first five records\n",
        "df.head()"
      ]
    },
    {
      "cell_type": "code",
      "execution_count": 10,
      "id": "260e9066",
      "metadata": {
        "id": "260e9066",
        "colab": {
          "base_uri": "https://localhost:8080/",
          "height": 0
        },
        "outputId": "615b14b3-a29f-46c8-b506-b1b7a396be21"
      },
      "outputs": [
        {
          "output_type": "stream",
          "name": "stdout",
          "text": [
            "<class 'pandas.core.frame.DataFrame'>\n",
            "RangeIndex: 3337 entries, 0 to 3336\n",
            "Data columns (total 15 columns):\n",
            " #   Column        Non-Null Count  Dtype  \n",
            "---  ------        --------------  -----  \n",
            " 0   MinTemp       3334 non-null   float64\n",
            " 1   MaxTemp       3335 non-null   float64\n",
            " 2   Rainfall      3331 non-null   float64\n",
            " 3   Evaporation   3286 non-null   float64\n",
            " 4   Sunshine      3321 non-null   float64\n",
            " 5   Humidity9am   3323 non-null   float64\n",
            " 6   Humidity3pm   3324 non-null   float64\n",
            " 7   Pressure9am   3317 non-null   float64\n",
            " 8   Pressure3pm   3318 non-null   float64\n",
            " 9   Cloud9am      2771 non-null   float64\n",
            " 10  Cloud3pm      2776 non-null   float64\n",
            " 11  Temp9am       3333 non-null   float64\n",
            " 12  Temp3pm       3333 non-null   float64\n",
            " 13  RainToday     3331 non-null   float64\n",
            " 14  RainTomorrow  3337 non-null   int64  \n",
            "dtypes: float64(14), int64(1)\n",
            "memory usage: 391.2 KB\n"
          ]
        }
      ],
      "source": [
        "###Getting information of columns\n",
        "df.info()"
      ]
    },
    {
      "cell_type": "code",
      "execution_count": 11,
      "id": "5d537af6",
      "metadata": {
        "id": "5d537af6",
        "colab": {
          "base_uri": "https://localhost:8080/",
          "height": 320
        },
        "outputId": "a6002db2-a29a-41cd-82ea-4f0bdf70c192"
      },
      "outputs": [
        {
          "output_type": "execute_result",
          "data": {
            "text/plain": [
              "           MinTemp      MaxTemp     Rainfall  Evaporation     Sunshine  \\\n",
              "count  3334.000000  3335.000000  3331.000000  3286.000000  3321.000000   \n",
              "mean     14.865057    23.002339     3.330231     5.187432     7.179374   \n",
              "std       4.553641     4.494638     9.895172     2.777407     3.810886   \n",
              "min       4.300000    11.700000     0.000000     0.000000     0.000000   \n",
              "25%      11.000000    19.600000     0.000000     3.200000     4.300000   \n",
              "50%      14.900000    22.800000     0.000000     4.800000     8.300000   \n",
              "75%      18.700000    26.000000     1.400000     7.000000    10.200000   \n",
              "max      27.600000    45.800000   119.400000    18.400000    13.600000   \n",
              "\n",
              "       Humidity9am  Humidity3pm  Pressure9am  Pressure3pm     Cloud9am  \\\n",
              "count  3323.000000  3324.000000  3317.000000  3318.000000  2771.000000   \n",
              "mean     68.229010    54.699158  1018.346156  1016.018774     4.181523   \n",
              "std      15.085355    16.293530     7.021571     7.032211     2.749578   \n",
              "min      19.000000    10.000000   986.700000   989.800000     0.000000   \n",
              "25%      58.000000    44.000000  1013.700000  1011.300000     1.000000   \n",
              "50%      69.000000    56.000000  1018.600000  1016.300000     5.000000   \n",
              "75%      80.000000    65.000000  1023.100000  1020.800000     7.000000   \n",
              "max     100.000000    99.000000  1039.000000  1036.700000     9.000000   \n",
              "\n",
              "          Cloud3pm      Temp9am      Temp3pm    RainToday  RainTomorrow  \n",
              "count  2776.000000  3333.000000  3333.000000  3331.000000   3337.000000  \n",
              "mean      4.218660    17.819742    21.533333     0.259982      0.259215  \n",
              "std       2.641885     4.897177     4.303737     0.438690      0.438269  \n",
              "min       0.000000     6.400000    10.200000     0.000000      0.000000  \n",
              "25%       1.000000    13.800000    18.400000     0.000000      0.000000  \n",
              "50%       4.000000    18.200000    21.300000     0.000000      0.000000  \n",
              "75%       7.000000    21.700000    24.500000     1.000000      1.000000  \n",
              "max       8.000000    36.500000    44.700000     1.000000      1.000000  "
            ],
            "text/html": [
              "\n",
              "  <div id=\"df-1058ad11-1da6-4338-b013-b6fe33d6c8db\" class=\"colab-df-container\">\n",
              "    <div>\n",
              "<style scoped>\n",
              "    .dataframe tbody tr th:only-of-type {\n",
              "        vertical-align: middle;\n",
              "    }\n",
              "\n",
              "    .dataframe tbody tr th {\n",
              "        vertical-align: top;\n",
              "    }\n",
              "\n",
              "    .dataframe thead th {\n",
              "        text-align: right;\n",
              "    }\n",
              "</style>\n",
              "<table border=\"1\" class=\"dataframe\">\n",
              "  <thead>\n",
              "    <tr style=\"text-align: right;\">\n",
              "      <th></th>\n",
              "      <th>MinTemp</th>\n",
              "      <th>MaxTemp</th>\n",
              "      <th>Rainfall</th>\n",
              "      <th>Evaporation</th>\n",
              "      <th>Sunshine</th>\n",
              "      <th>Humidity9am</th>\n",
              "      <th>Humidity3pm</th>\n",
              "      <th>Pressure9am</th>\n",
              "      <th>Pressure3pm</th>\n",
              "      <th>Cloud9am</th>\n",
              "      <th>Cloud3pm</th>\n",
              "      <th>Temp9am</th>\n",
              "      <th>Temp3pm</th>\n",
              "      <th>RainToday</th>\n",
              "      <th>RainTomorrow</th>\n",
              "    </tr>\n",
              "  </thead>\n",
              "  <tbody>\n",
              "    <tr>\n",
              "      <th>count</th>\n",
              "      <td>3334.000000</td>\n",
              "      <td>3335.000000</td>\n",
              "      <td>3331.000000</td>\n",
              "      <td>3286.000000</td>\n",
              "      <td>3321.000000</td>\n",
              "      <td>3323.000000</td>\n",
              "      <td>3324.000000</td>\n",
              "      <td>3317.000000</td>\n",
              "      <td>3318.000000</td>\n",
              "      <td>2771.000000</td>\n",
              "      <td>2776.000000</td>\n",
              "      <td>3333.000000</td>\n",
              "      <td>3333.000000</td>\n",
              "      <td>3331.000000</td>\n",
              "      <td>3337.000000</td>\n",
              "    </tr>\n",
              "    <tr>\n",
              "      <th>mean</th>\n",
              "      <td>14.865057</td>\n",
              "      <td>23.002339</td>\n",
              "      <td>3.330231</td>\n",
              "      <td>5.187432</td>\n",
              "      <td>7.179374</td>\n",
              "      <td>68.229010</td>\n",
              "      <td>54.699158</td>\n",
              "      <td>1018.346156</td>\n",
              "      <td>1016.018774</td>\n",
              "      <td>4.181523</td>\n",
              "      <td>4.218660</td>\n",
              "      <td>17.819742</td>\n",
              "      <td>21.533333</td>\n",
              "      <td>0.259982</td>\n",
              "      <td>0.259215</td>\n",
              "    </tr>\n",
              "    <tr>\n",
              "      <th>std</th>\n",
              "      <td>4.553641</td>\n",
              "      <td>4.494638</td>\n",
              "      <td>9.895172</td>\n",
              "      <td>2.777407</td>\n",
              "      <td>3.810886</td>\n",
              "      <td>15.085355</td>\n",
              "      <td>16.293530</td>\n",
              "      <td>7.021571</td>\n",
              "      <td>7.032211</td>\n",
              "      <td>2.749578</td>\n",
              "      <td>2.641885</td>\n",
              "      <td>4.897177</td>\n",
              "      <td>4.303737</td>\n",
              "      <td>0.438690</td>\n",
              "      <td>0.438269</td>\n",
              "    </tr>\n",
              "    <tr>\n",
              "      <th>min</th>\n",
              "      <td>4.300000</td>\n",
              "      <td>11.700000</td>\n",
              "      <td>0.000000</td>\n",
              "      <td>0.000000</td>\n",
              "      <td>0.000000</td>\n",
              "      <td>19.000000</td>\n",
              "      <td>10.000000</td>\n",
              "      <td>986.700000</td>\n",
              "      <td>989.800000</td>\n",
              "      <td>0.000000</td>\n",
              "      <td>0.000000</td>\n",
              "      <td>6.400000</td>\n",
              "      <td>10.200000</td>\n",
              "      <td>0.000000</td>\n",
              "      <td>0.000000</td>\n",
              "    </tr>\n",
              "    <tr>\n",
              "      <th>25%</th>\n",
              "      <td>11.000000</td>\n",
              "      <td>19.600000</td>\n",
              "      <td>0.000000</td>\n",
              "      <td>3.200000</td>\n",
              "      <td>4.300000</td>\n",
              "      <td>58.000000</td>\n",
              "      <td>44.000000</td>\n",
              "      <td>1013.700000</td>\n",
              "      <td>1011.300000</td>\n",
              "      <td>1.000000</td>\n",
              "      <td>1.000000</td>\n",
              "      <td>13.800000</td>\n",
              "      <td>18.400000</td>\n",
              "      <td>0.000000</td>\n",
              "      <td>0.000000</td>\n",
              "    </tr>\n",
              "    <tr>\n",
              "      <th>50%</th>\n",
              "      <td>14.900000</td>\n",
              "      <td>22.800000</td>\n",
              "      <td>0.000000</td>\n",
              "      <td>4.800000</td>\n",
              "      <td>8.300000</td>\n",
              "      <td>69.000000</td>\n",
              "      <td>56.000000</td>\n",
              "      <td>1018.600000</td>\n",
              "      <td>1016.300000</td>\n",
              "      <td>5.000000</td>\n",
              "      <td>4.000000</td>\n",
              "      <td>18.200000</td>\n",
              "      <td>21.300000</td>\n",
              "      <td>0.000000</td>\n",
              "      <td>0.000000</td>\n",
              "    </tr>\n",
              "    <tr>\n",
              "      <th>75%</th>\n",
              "      <td>18.700000</td>\n",
              "      <td>26.000000</td>\n",
              "      <td>1.400000</td>\n",
              "      <td>7.000000</td>\n",
              "      <td>10.200000</td>\n",
              "      <td>80.000000</td>\n",
              "      <td>65.000000</td>\n",
              "      <td>1023.100000</td>\n",
              "      <td>1020.800000</td>\n",
              "      <td>7.000000</td>\n",
              "      <td>7.000000</td>\n",
              "      <td>21.700000</td>\n",
              "      <td>24.500000</td>\n",
              "      <td>1.000000</td>\n",
              "      <td>1.000000</td>\n",
              "    </tr>\n",
              "    <tr>\n",
              "      <th>max</th>\n",
              "      <td>27.600000</td>\n",
              "      <td>45.800000</td>\n",
              "      <td>119.400000</td>\n",
              "      <td>18.400000</td>\n",
              "      <td>13.600000</td>\n",
              "      <td>100.000000</td>\n",
              "      <td>99.000000</td>\n",
              "      <td>1039.000000</td>\n",
              "      <td>1036.700000</td>\n",
              "      <td>9.000000</td>\n",
              "      <td>8.000000</td>\n",
              "      <td>36.500000</td>\n",
              "      <td>44.700000</td>\n",
              "      <td>1.000000</td>\n",
              "      <td>1.000000</td>\n",
              "    </tr>\n",
              "  </tbody>\n",
              "</table>\n",
              "</div>\n",
              "    <div class=\"colab-df-buttons\">\n",
              "\n",
              "  <div class=\"colab-df-container\">\n",
              "    <button class=\"colab-df-convert\" onclick=\"convertToInteractive('df-1058ad11-1da6-4338-b013-b6fe33d6c8db')\"\n",
              "            title=\"Convert this dataframe to an interactive table.\"\n",
              "            style=\"display:none;\">\n",
              "\n",
              "  <svg xmlns=\"http://www.w3.org/2000/svg\" height=\"24px\" viewBox=\"0 -960 960 960\">\n",
              "    <path d=\"M120-120v-720h720v720H120Zm60-500h600v-160H180v160Zm220 220h160v-160H400v160Zm0 220h160v-160H400v160ZM180-400h160v-160H180v160Zm440 0h160v-160H620v160ZM180-180h160v-160H180v160Zm440 0h160v-160H620v160Z\"/>\n",
              "  </svg>\n",
              "    </button>\n",
              "\n",
              "  <style>\n",
              "    .colab-df-container {\n",
              "      display:flex;\n",
              "      gap: 12px;\n",
              "    }\n",
              "\n",
              "    .colab-df-convert {\n",
              "      background-color: #E8F0FE;\n",
              "      border: none;\n",
              "      border-radius: 50%;\n",
              "      cursor: pointer;\n",
              "      display: none;\n",
              "      fill: #1967D2;\n",
              "      height: 32px;\n",
              "      padding: 0 0 0 0;\n",
              "      width: 32px;\n",
              "    }\n",
              "\n",
              "    .colab-df-convert:hover {\n",
              "      background-color: #E2EBFA;\n",
              "      box-shadow: 0px 1px 2px rgba(60, 64, 67, 0.3), 0px 1px 3px 1px rgba(60, 64, 67, 0.15);\n",
              "      fill: #174EA6;\n",
              "    }\n",
              "\n",
              "    .colab-df-buttons div {\n",
              "      margin-bottom: 4px;\n",
              "    }\n",
              "\n",
              "    [theme=dark] .colab-df-convert {\n",
              "      background-color: #3B4455;\n",
              "      fill: #D2E3FC;\n",
              "    }\n",
              "\n",
              "    [theme=dark] .colab-df-convert:hover {\n",
              "      background-color: #434B5C;\n",
              "      box-shadow: 0px 1px 3px 1px rgba(0, 0, 0, 0.15);\n",
              "      filter: drop-shadow(0px 1px 2px rgba(0, 0, 0, 0.3));\n",
              "      fill: #FFFFFF;\n",
              "    }\n",
              "  </style>\n",
              "\n",
              "    <script>\n",
              "      const buttonEl =\n",
              "        document.querySelector('#df-1058ad11-1da6-4338-b013-b6fe33d6c8db button.colab-df-convert');\n",
              "      buttonEl.style.display =\n",
              "        google.colab.kernel.accessAllowed ? 'block' : 'none';\n",
              "\n",
              "      async function convertToInteractive(key) {\n",
              "        const element = document.querySelector('#df-1058ad11-1da6-4338-b013-b6fe33d6c8db');\n",
              "        const dataTable =\n",
              "          await google.colab.kernel.invokeFunction('convertToInteractive',\n",
              "                                                    [key], {});\n",
              "        if (!dataTable) return;\n",
              "\n",
              "        const docLinkHtml = 'Like what you see? Visit the ' +\n",
              "          '<a target=\"_blank\" href=https://colab.research.google.com/notebooks/data_table.ipynb>data table notebook</a>'\n",
              "          + ' to learn more about interactive tables.';\n",
              "        element.innerHTML = '';\n",
              "        dataTable['output_type'] = 'display_data';\n",
              "        await google.colab.output.renderOutput(dataTable, element);\n",
              "        const docLink = document.createElement('div');\n",
              "        docLink.innerHTML = docLinkHtml;\n",
              "        element.appendChild(docLink);\n",
              "      }\n",
              "    </script>\n",
              "  </div>\n",
              "\n",
              "\n",
              "<div id=\"df-abe78e63-0186-4d0b-9f81-43ce2285294b\">\n",
              "  <button class=\"colab-df-quickchart\" onclick=\"quickchart('df-abe78e63-0186-4d0b-9f81-43ce2285294b')\"\n",
              "            title=\"Suggest charts.\"\n",
              "            style=\"display:none;\">\n",
              "\n",
              "<svg xmlns=\"http://www.w3.org/2000/svg\" height=\"24px\"viewBox=\"0 0 24 24\"\n",
              "     width=\"24px\">\n",
              "    <g>\n",
              "        <path d=\"M19 3H5c-1.1 0-2 .9-2 2v14c0 1.1.9 2 2 2h14c1.1 0 2-.9 2-2V5c0-1.1-.9-2-2-2zM9 17H7v-7h2v7zm4 0h-2V7h2v10zm4 0h-2v-4h2v4z\"/>\n",
              "    </g>\n",
              "</svg>\n",
              "  </button>\n",
              "\n",
              "<style>\n",
              "  .colab-df-quickchart {\n",
              "      --bg-color: #E8F0FE;\n",
              "      --fill-color: #1967D2;\n",
              "      --hover-bg-color: #E2EBFA;\n",
              "      --hover-fill-color: #174EA6;\n",
              "      --disabled-fill-color: #AAA;\n",
              "      --disabled-bg-color: #DDD;\n",
              "  }\n",
              "\n",
              "  [theme=dark] .colab-df-quickchart {\n",
              "      --bg-color: #3B4455;\n",
              "      --fill-color: #D2E3FC;\n",
              "      --hover-bg-color: #434B5C;\n",
              "      --hover-fill-color: #FFFFFF;\n",
              "      --disabled-bg-color: #3B4455;\n",
              "      --disabled-fill-color: #666;\n",
              "  }\n",
              "\n",
              "  .colab-df-quickchart {\n",
              "    background-color: var(--bg-color);\n",
              "    border: none;\n",
              "    border-radius: 50%;\n",
              "    cursor: pointer;\n",
              "    display: none;\n",
              "    fill: var(--fill-color);\n",
              "    height: 32px;\n",
              "    padding: 0;\n",
              "    width: 32px;\n",
              "  }\n",
              "\n",
              "  .colab-df-quickchart:hover {\n",
              "    background-color: var(--hover-bg-color);\n",
              "    box-shadow: 0 1px 2px rgba(60, 64, 67, 0.3), 0 1px 3px 1px rgba(60, 64, 67, 0.15);\n",
              "    fill: var(--button-hover-fill-color);\n",
              "  }\n",
              "\n",
              "  .colab-df-quickchart-complete:disabled,\n",
              "  .colab-df-quickchart-complete:disabled:hover {\n",
              "    background-color: var(--disabled-bg-color);\n",
              "    fill: var(--disabled-fill-color);\n",
              "    box-shadow: none;\n",
              "  }\n",
              "\n",
              "  .colab-df-spinner {\n",
              "    border: 2px solid var(--fill-color);\n",
              "    border-color: transparent;\n",
              "    border-bottom-color: var(--fill-color);\n",
              "    animation:\n",
              "      spin 1s steps(1) infinite;\n",
              "  }\n",
              "\n",
              "  @keyframes spin {\n",
              "    0% {\n",
              "      border-color: transparent;\n",
              "      border-bottom-color: var(--fill-color);\n",
              "      border-left-color: var(--fill-color);\n",
              "    }\n",
              "    20% {\n",
              "      border-color: transparent;\n",
              "      border-left-color: var(--fill-color);\n",
              "      border-top-color: var(--fill-color);\n",
              "    }\n",
              "    30% {\n",
              "      border-color: transparent;\n",
              "      border-left-color: var(--fill-color);\n",
              "      border-top-color: var(--fill-color);\n",
              "      border-right-color: var(--fill-color);\n",
              "    }\n",
              "    40% {\n",
              "      border-color: transparent;\n",
              "      border-right-color: var(--fill-color);\n",
              "      border-top-color: var(--fill-color);\n",
              "    }\n",
              "    60% {\n",
              "      border-color: transparent;\n",
              "      border-right-color: var(--fill-color);\n",
              "    }\n",
              "    80% {\n",
              "      border-color: transparent;\n",
              "      border-right-color: var(--fill-color);\n",
              "      border-bottom-color: var(--fill-color);\n",
              "    }\n",
              "    90% {\n",
              "      border-color: transparent;\n",
              "      border-bottom-color: var(--fill-color);\n",
              "    }\n",
              "  }\n",
              "</style>\n",
              "\n",
              "  <script>\n",
              "    async function quickchart(key) {\n",
              "      const quickchartButtonEl =\n",
              "        document.querySelector('#' + key + ' button');\n",
              "      quickchartButtonEl.disabled = true;  // To prevent multiple clicks.\n",
              "      quickchartButtonEl.classList.add('colab-df-spinner');\n",
              "      try {\n",
              "        const charts = await google.colab.kernel.invokeFunction(\n",
              "            'suggestCharts', [key], {});\n",
              "      } catch (error) {\n",
              "        console.error('Error during call to suggestCharts:', error);\n",
              "      }\n",
              "      quickchartButtonEl.classList.remove('colab-df-spinner');\n",
              "      quickchartButtonEl.classList.add('colab-df-quickchart-complete');\n",
              "    }\n",
              "    (() => {\n",
              "      let quickchartButtonEl =\n",
              "        document.querySelector('#df-abe78e63-0186-4d0b-9f81-43ce2285294b button');\n",
              "      quickchartButtonEl.style.display =\n",
              "        google.colab.kernel.accessAllowed ? 'block' : 'none';\n",
              "    })();\n",
              "  </script>\n",
              "</div>\n",
              "    </div>\n",
              "  </div>\n"
            ]
          },
          "metadata": {},
          "execution_count": 11
        }
      ],
      "source": [
        "###Getting extended data dictionary\n",
        "df.describe()"
      ]
    },
    {
      "cell_type": "code",
      "execution_count": 12,
      "id": "2f3b70cc",
      "metadata": {
        "id": "2f3b70cc",
        "colab": {
          "base_uri": "https://localhost:8080/",
          "height": 0
        },
        "outputId": "b30720ac-7294-47da-c4a1-b72995962846"
      },
      "outputs": [
        {
          "output_type": "execute_result",
          "data": {
            "text/plain": [
              "array([nan])"
            ]
          },
          "metadata": {},
          "execution_count": 12
        }
      ],
      "source": [
        "###getting percentile of variable\n",
        "np.percentile(df.MaxTemp,[99])"
      ]
    },
    {
      "cell_type": "code",
      "execution_count": 13,
      "id": "21e04943",
      "metadata": {
        "id": "21e04943",
        "colab": {
          "base_uri": "https://localhost:8080/",
          "height": 0
        },
        "outputId": "4cb222fe-5215-4fcc-f57f-641daf2eb3f5"
      },
      "outputs": [
        {
          "output_type": "execute_result",
          "data": {
            "text/plain": [
              "array([nan])"
            ]
          },
          "metadata": {},
          "execution_count": 13
        }
      ],
      "source": [
        "###getting percentile of variable\n",
        "np.percentile(df.MaxTemp,[1])"
      ]
    },
    {
      "cell_type": "code",
      "execution_count": 14,
      "id": "6a15b4c5",
      "metadata": {
        "id": "6a15b4c5",
        "colab": {
          "base_uri": "https://localhost:8080/",
          "height": 0
        },
        "outputId": "effc4b7c-97a6-45f0-a466-3b5f1ed464eb"
      },
      "outputs": [
        {
          "output_type": "execute_result",
          "data": {
            "text/plain": [
              "array([nan])"
            ]
          },
          "metadata": {},
          "execution_count": 14
        }
      ],
      "source": [
        "###getting percentile of variable\n",
        "np.percentile(df.MinTemp,[1])"
      ]
    },
    {
      "cell_type": "code",
      "execution_count": 15,
      "id": "be8cffa8",
      "metadata": {
        "id": "be8cffa8",
        "colab": {
          "base_uri": "https://localhost:8080/",
          "height": 0
        },
        "outputId": "8e599fd8-37f9-45f4-b2c8-1a9c3eb2e5bf"
      },
      "outputs": [
        {
          "output_type": "execute_result",
          "data": {
            "text/plain": [
              "array([nan])"
            ]
          },
          "metadata": {},
          "execution_count": 15
        }
      ],
      "source": [
        "###getting percentile of variable\n",
        "np.percentile(df.MinTemp,[99])"
      ]
    },
    {
      "cell_type": "code",
      "execution_count": 16,
      "id": "80a2488c",
      "metadata": {
        "id": "80a2488c",
        "colab": {
          "base_uri": "https://localhost:8080/",
          "height": 0
        },
        "outputId": "0fd3b628-1f15-4d6d-ffa4-f9e70b1e9a60"
      },
      "outputs": [
        {
          "output_type": "execute_result",
          "data": {
            "text/plain": [
              "array([nan])"
            ]
          },
          "metadata": {},
          "execution_count": 16
        }
      ],
      "source": [
        "###getting percentile of variable\n",
        "np.percentile(df.Rainfall,[1])"
      ]
    },
    {
      "cell_type": "code",
      "execution_count": 17,
      "id": "882cf921",
      "metadata": {
        "id": "882cf921",
        "colab": {
          "base_uri": "https://localhost:8080/",
          "height": 0
        },
        "outputId": "6275f80d-d149-4ae5-d30d-04c44bc8f33a"
      },
      "outputs": [
        {
          "output_type": "execute_result",
          "data": {
            "text/plain": [
              "array([nan])"
            ]
          },
          "metadata": {},
          "execution_count": 17
        }
      ],
      "source": [
        "###getting percentile of variable\n",
        "np.percentile(df.Evaporation,[1])"
      ]
    },
    {
      "cell_type": "code",
      "execution_count": 18,
      "id": "07666fab",
      "metadata": {
        "id": "07666fab",
        "colab": {
          "base_uri": "https://localhost:8080/",
          "height": 0
        },
        "outputId": "a2d2c325-073c-4d61-95af-bbf68c19b7e9"
      },
      "outputs": [
        {
          "output_type": "execute_result",
          "data": {
            "text/plain": [
              "array([nan])"
            ]
          },
          "metadata": {},
          "execution_count": 18
        }
      ],
      "source": [
        "###getting percentile of variable\n",
        "np.percentile(df.Sunshine,[1])"
      ]
    },
    {
      "cell_type": "code",
      "execution_count": 19,
      "id": "a34e8f4b",
      "metadata": {
        "id": "a34e8f4b",
        "colab": {
          "base_uri": "https://localhost:8080/",
          "height": 0
        },
        "outputId": "916b7e18-b53b-443d-b33f-9f9c2dc6ec4c"
      },
      "outputs": [
        {
          "output_type": "execute_result",
          "data": {
            "text/plain": [
              "array([nan])"
            ]
          },
          "metadata": {},
          "execution_count": 19
        }
      ],
      "source": [
        "###getting percentile of variable\n",
        "np.percentile(df.Sunshine,[99])"
      ]
    },
    {
      "cell_type": "code",
      "execution_count": 20,
      "id": "b560252f",
      "metadata": {
        "id": "b560252f",
        "colab": {
          "base_uri": "https://localhost:8080/",
          "height": 0
        },
        "outputId": "77ff7828-fcbf-440a-cc37-126c3d2bdbe3"
      },
      "outputs": [
        {
          "output_type": "execute_result",
          "data": {
            "text/plain": [
              "array([nan])"
            ]
          },
          "metadata": {},
          "execution_count": 20
        }
      ],
      "source": [
        "###getting percentile of variable\n",
        "np.percentile(df.Humidity9am,[99])"
      ]
    },
    {
      "cell_type": "code",
      "execution_count": 21,
      "id": "44aa1c96",
      "metadata": {
        "id": "44aa1c96",
        "colab": {
          "base_uri": "https://localhost:8080/",
          "height": 0
        },
        "outputId": "3316e7ec-45ef-408b-b3c7-532c87316604"
      },
      "outputs": [
        {
          "output_type": "execute_result",
          "data": {
            "text/plain": [
              "array([nan])"
            ]
          },
          "metadata": {},
          "execution_count": 21
        }
      ],
      "source": [
        "###getting percentile of variable\n",
        "np.percentile(df.Pressure9am,[99])"
      ]
    },
    {
      "cell_type": "code",
      "execution_count": 22,
      "id": "0646646b",
      "metadata": {
        "id": "0646646b",
        "colab": {
          "base_uri": "https://localhost:8080/",
          "height": 0
        },
        "outputId": "4f30c00a-f214-454c-c11f-c6b0a712e72c"
      },
      "outputs": [
        {
          "output_type": "execute_result",
          "data": {
            "text/plain": [
              "array([nan])"
            ]
          },
          "metadata": {},
          "execution_count": 22
        }
      ],
      "source": [
        "###getting percentile of variable\n",
        "np.percentile(df.Pressure3pm,[99])"
      ]
    },
    {
      "cell_type": "code",
      "execution_count": 23,
      "id": "99281837",
      "metadata": {
        "id": "99281837",
        "colab": {
          "base_uri": "https://localhost:8080/",
          "height": 0
        },
        "outputId": "23cadc5d-d684-41c2-97bd-b1ad4cd00f9c"
      },
      "outputs": [
        {
          "output_type": "execute_result",
          "data": {
            "text/plain": [
              "array([nan])"
            ]
          },
          "metadata": {},
          "execution_count": 23
        }
      ],
      "source": [
        "###getting percentile of variable\n",
        "np.percentile(df.Cloud9am,[99])"
      ]
    },
    {
      "cell_type": "code",
      "execution_count": 24,
      "id": "83ffa7b8",
      "metadata": {
        "id": "83ffa7b8",
        "colab": {
          "base_uri": "https://localhost:8080/",
          "height": 0
        },
        "outputId": "a6843361-5861-4f47-efa1-3999562c8632"
      },
      "outputs": [
        {
          "output_type": "execute_result",
          "data": {
            "text/plain": [
              "array([nan])"
            ]
          },
          "metadata": {},
          "execution_count": 24
        }
      ],
      "source": [
        "###getting percentile of variable\n",
        "np.percentile(df.Cloud3pm,[99])"
      ]
    },
    {
      "cell_type": "code",
      "execution_count": 25,
      "id": "42853928",
      "metadata": {
        "id": "42853928",
        "colab": {
          "base_uri": "https://localhost:8080/",
          "height": 0
        },
        "outputId": "348d000b-77bc-4c9d-d107-a2424e76bb6e"
      },
      "outputs": [
        {
          "output_type": "execute_result",
          "data": {
            "text/plain": [
              "array([nan])"
            ]
          },
          "metadata": {},
          "execution_count": 25
        }
      ],
      "source": [
        "###getting percentile of variable\n",
        "np.percentile(df.Temp9am,[99])"
      ]
    },
    {
      "cell_type": "code",
      "execution_count": 26,
      "id": "2ece35d5",
      "metadata": {
        "id": "2ece35d5",
        "colab": {
          "base_uri": "https://localhost:8080/",
          "height": 0
        },
        "outputId": "5538f3de-f3b3-4cc9-832a-e5eacc5bdf27"
      },
      "outputs": [
        {
          "output_type": "execute_result",
          "data": {
            "text/plain": [
              "array([nan])"
            ]
          },
          "metadata": {},
          "execution_count": 26
        }
      ],
      "source": [
        "###getting percentile of variable\n",
        "np.percentile(df.Temp3pm,[99])"
      ]
    },
    {
      "cell_type": "code",
      "execution_count": 27,
      "id": "10820bf2",
      "metadata": {
        "id": "10820bf2",
        "colab": {
          "base_uri": "https://localhost:8080/",
          "height": 0
        },
        "outputId": "2a3e0fcf-3dc7-409a-cba8-45f34408e578"
      },
      "outputs": [
        {
          "output_type": "execute_result",
          "data": {
            "text/plain": [
              "array([nan])"
            ]
          },
          "metadata": {},
          "execution_count": 27
        }
      ],
      "source": [
        "###getting percentile of variable\n",
        "np.percentile(df.RainToday,[99])"
      ]
    },
    {
      "cell_type": "code",
      "execution_count": 28,
      "id": "4d85c81e",
      "metadata": {
        "id": "4d85c81e",
        "colab": {
          "base_uri": "https://localhost:8080/",
          "height": 624
        },
        "outputId": "9e9f8bd8-8836-463a-8ca1-390da9658a23"
      },
      "outputs": [
        {
          "output_type": "execute_result",
          "data": {
            "text/plain": [
              "<seaborn.axisgrid.JointGrid at 0x7927e47c8d60>"
            ]
          },
          "metadata": {},
          "execution_count": 28
        },
        {
          "output_type": "display_data",
          "data": {
            "text/plain": [
              "<Figure size 600x600 with 3 Axes>"
            ],
            "image/png": "[encoded data removed]"
          },
          "metadata": {}
        }
      ],
      "source": [
        "####Jointplot of x variable with rainTOmorrow\n",
        "sns.jointplot(x=df.MinTemp, y=df.RainTomorrow)"
      ]
    },
    {
      "cell_type": "code",
      "execution_count": 29,
      "id": "edbdd5f0",
      "metadata": {
        "id": "edbdd5f0",
        "colab": {
          "base_uri": "https://localhost:8080/",
          "height": 624
        },
        "outputId": "0f9c8493-634c-44df-99a6-d6a774fc4cee"
      },
      "outputs": [
        {
          "output_type": "execute_result",
          "data": {
            "text/plain": [
              "<seaborn.axisgrid.JointGrid at 0x7927e27ae6e0>"
            ]
          },
          "metadata": {},
          "execution_count": 29
        },
        {
          "output_type": "display_data",
          "data": {
            "text/plain": [
              "<Figure size 600x600 with 3 Axes>"
            ],
            "image/png": "[encoded data removed]"
          },
          "metadata": {}
        }
      ],
      "source": [
        "####Jointplot of x variable with rainTOmorrow\n",
        "sns.jointplot(x=df.MaxTemp, y=df.RainTomorrow)"
      ]
    },
    {
      "cell_type": "markdown",
      "id": "148922b9",
      "metadata": {
        "id": "148922b9"
      },
      "source": [
        "Missing Value Imputation"
      ]
    },
    {
      "cell_type": "code",
      "execution_count": 30,
      "id": "c36df7b6",
      "metadata": {
        "id": "c36df7b6",
        "colab": {
          "base_uri": "https://localhost:8080/",
          "height": 624
        },
        "outputId": "c57cc44e-46c2-487e-91a5-13936a9ce897"
      },
      "outputs": [
        {
          "output_type": "execute_result",
          "data": {
            "text/plain": [
              "<seaborn.axisgrid.JointGrid at 0x7927e23dad40>"
            ]
          },
          "metadata": {},
          "execution_count": 30
        },
        {
          "output_type": "display_data",
          "data": {
            "text/plain": [
              "<Figure size 600x600 with 3 Axes>"
            ],
            "image/png": "[encoded data removed]"
          },
          "metadata": {}
        }
      ],
      "source": [
        "####Jointplot of x variable with rainTOmorrow\n",
        "sns.jointplot(x=df.Rainfall, y=df.RainTomorrow)"
      ]
    },
    {
      "cell_type": "code",
      "execution_count": 31,
      "id": "3a9c0dc9",
      "metadata": {
        "id": "3a9c0dc9",
        "colab": {
          "base_uri": "https://localhost:8080/",
          "height": 624
        },
        "outputId": "a8915a52-5c34-4e65-bd80-d3a8833c2cdb"
      },
      "outputs": [
        {
          "output_type": "execute_result",
          "data": {
            "text/plain": [
              "<seaborn.axisgrid.JointGrid at 0x7927e1a5fc10>"
            ]
          },
          "metadata": {},
          "execution_count": 31
        },
        {
          "output_type": "display_data",
          "data": {
            "text/plain": [
              "<Figure size 600x600 with 3 Axes>"
            ],
            "image/png": "[encoded data removed]"
          },
          "metadata": {}
        }
      ],
      "source": [
        "####Jointplot of x variable with rainTOmorrow\n",
        "sns.jointplot(x=df.Evaporation, y=df.RainTomorrow)"
      ]
    },
    {
      "cell_type": "code",
      "execution_count": 32,
      "id": "99b5650b",
      "metadata": {
        "id": "99b5650b",
        "colab": {
          "base_uri": "https://localhost:8080/",
          "height": 624
        },
        "outputId": "fc198952-9446-4070-cadc-2e4d44faa7c4"
      },
      "outputs": [
        {
          "output_type": "execute_result",
          "data": {
            "text/plain": [
              "<seaborn.axisgrid.JointGrid at 0x7927e17ff520>"
            ]
          },
          "metadata": {},
          "execution_count": 32
        },
        {
          "output_type": "display_data",
          "data": {
            "text/plain": [
              "<Figure size 600x600 with 3 Axes>"
            ],
            "image/png": "[encoded data removed]"
          },
          "metadata": {}
        }
      ],
      "source": [
        "####Jointplot of x variable with rainTOmorrow\n",
        "sns.jointplot(x=df.Sunshine, y=df.RainTomorrow)"
      ]
    },
    {
      "cell_type": "code",
      "execution_count": 33,
      "id": "9acb52f6",
      "metadata": {
        "id": "9acb52f6",
        "colab": {
          "base_uri": "https://localhost:8080/",
          "height": 624
        },
        "outputId": "151a0ee4-3275-4b47-ac75-543086bb9eec"
      },
      "outputs": [
        {
          "output_type": "execute_result",
          "data": {
            "text/plain": [
              "<seaborn.axisgrid.JointGrid at 0x7927e1a5fbb0>"
            ]
          },
          "metadata": {},
          "execution_count": 33
        },
        {
          "output_type": "display_data",
          "data": {
            "text/plain": [
              "<Figure size 600x600 with 3 Axes>"
            ],
            "image/png": "[encoded data removed]"
          },
          "metadata": {}
        }
      ],
      "source": [
        "####Jointplot of x variable with rainTOmorrow\n",
        "sns.jointplot(x=df.Humidity9am, y=df.RainTomorrow)"
      ]
    },
    {
      "cell_type": "code",
      "execution_count": 34,
      "id": "c12246a2",
      "metadata": {
        "id": "c12246a2",
        "colab": {
          "base_uri": "https://localhost:8080/",
          "height": 624
        },
        "outputId": "f9ff5b99-9340-4abc-94d8-ef78a89183fc"
      },
      "outputs": [
        {
          "output_type": "execute_result",
          "data": {
            "text/plain": [
              "<seaborn.axisgrid.JointGrid at 0x7927e1251390>"
            ]
          },
          "metadata": {},
          "execution_count": 34
        },
        {
          "output_type": "display_data",
          "data": {
            "text/plain": [
              "<Figure size 600x600 with 3 Axes>"
            ],
            "image/png": "[encoded data removed]"
          },
          "metadata": {}
        }
      ],
      "source": [
        "####Jointplot of x variable with rainTOmorrow\n",
        "sns.jointplot(x=df.Humidity3pm, y=df.RainTomorrow)"
      ]
    },
    {
      "cell_type": "code",
      "execution_count": 35,
      "id": "f285dd69",
      "metadata": {
        "id": "f285dd69",
        "colab": {
          "base_uri": "https://localhost:8080/",
          "height": 624
        },
        "outputId": "3b1a563d-5e6f-4b76-8924-aa232b853514"
      },
      "outputs": [
        {
          "output_type": "execute_result",
          "data": {
            "text/plain": [
              "<seaborn.axisgrid.JointGrid at 0x7927e11d2620>"
            ]
          },
          "metadata": {},
          "execution_count": 35
        },
        {
          "output_type": "display_data",
          "data": {
            "text/plain": [
              "<Figure size 600x600 with 3 Axes>"
            ],
            "image/png": "[encoded data removed]"
          },
          "metadata": {}
        }
      ],
      "source": [
        "####Jointplot of x variable with rainTOmorrow\n",
        "sns.jointplot(x=df.Pressure9am, y=df.RainTomorrow)"
      ]
    },
    {
      "cell_type": "code",
      "execution_count": 36,
      "id": "7599e507",
      "metadata": {
        "id": "7599e507",
        "colab": {
          "base_uri": "https://localhost:8080/",
          "height": 624
        },
        "outputId": "5fda5a35-417a-4ec9-f9cc-f8002370817c"
      },
      "outputs": [
        {
          "output_type": "execute_result",
          "data": {
            "text/plain": [
              "<seaborn.axisgrid.JointGrid at 0x7927e0e44bb0>"
            ]
          },
          "metadata": {},
          "execution_count": 36
        },
        {
          "output_type": "display_data",
          "data": {
            "text/plain": [
              "<Figure size 600x600 with 3 Axes>"
            ],
            "image/png": "[encoded data removed]"
          },
          "metadata": {}
        }
      ],
      "source": [
        "####Jointplot of x variable with rainTOmorrow\n",
        "sns.jointplot(x=df.Pressure3pm, y=df.RainTomorrow)"
      ]
    },
    {
      "cell_type": "code",
      "execution_count": 37,
      "id": "0cdde4f4",
      "metadata": {
        "id": "0cdde4f4",
        "colab": {
          "base_uri": "https://localhost:8080/",
          "height": 624
        },
        "outputId": "0b73dc5e-6149-45e3-8065-1774ce79968b"
      },
      "outputs": [
        {
          "output_type": "execute_result",
          "data": {
            "text/plain": [
              "<seaborn.axisgrid.JointGrid at 0x7927e0a4b9a0>"
            ]
          },
          "metadata": {},
          "execution_count": 37
        },
        {
          "output_type": "display_data",
          "data": {
            "text/plain": [
              "<Figure size 600x600 with 3 Axes>"
            ],
            "image/png": "[encoded data removed]"
          },
          "metadata": {}
        }
      ],
      "source": [
        "####Jointplot of x variable with rainTOmorrow\n",
        "sns.jointplot(x=df.Cloud9am, y=df.RainTomorrow)"
      ]
    },
    {
      "cell_type": "code",
      "execution_count": 38,
      "id": "5966c317",
      "metadata": {
        "id": "5966c317",
        "colab": {
          "base_uri": "https://localhost:8080/",
          "height": 624
        },
        "outputId": "94a3d29b-e0b7-4d6b-8356-e2352e9030aa"
      },
      "outputs": [
        {
          "output_type": "execute_result",
          "data": {
            "text/plain": [
              "<seaborn.axisgrid.JointGrid at 0x7927e182c310>"
            ]
          },
          "metadata": {},
          "execution_count": 38
        },
        {
          "output_type": "display_data",
          "data": {
            "text/plain": [
              "<Figure size 600x600 with 3 Axes>"
            ],
            "image/png": "[encoded data removed]"
          },
          "metadata": {}
        }
      ],
      "source": [
        "####Jointplot of x variable with rainTOmorrow\n",
        "sns.jointplot(x=df.Cloud3pm, y=df.RainTomorrow)"
      ]
    },
    {
      "cell_type": "code",
      "execution_count": 39,
      "id": "fe823392",
      "metadata": {
        "id": "fe823392",
        "colab": {
          "base_uri": "https://localhost:8080/",
          "height": 624
        },
        "outputId": "d4d61a25-eda2-4282-c91a-b40d5eabdc49"
      },
      "outputs": [
        {
          "output_type": "execute_result",
          "data": {
            "text/plain": [
              "<seaborn.axisgrid.JointGrid at 0x7927e08f3ca0>"
            ]
          },
          "metadata": {},
          "execution_count": 39
        },
        {
          "output_type": "display_data",
          "data": {
            "text/plain": [
              "<Figure size 600x600 with 3 Axes>"
            ],
            "image/png": "[encoded data removed]"
          },
          "metadata": {}
        }
      ],
      "source": [
        "####Jointplot of x variable with rainTOmorrow\n",
        "sns.jointplot(x=df.Temp9am, y=df.RainTomorrow)"
      ]
    },
    {
      "cell_type": "code",
      "execution_count": 40,
      "id": "5e7b8a4e",
      "metadata": {
        "id": "5e7b8a4e",
        "colab": {
          "base_uri": "https://localhost:8080/",
          "height": 624
        },
        "outputId": "08248b1a-d81e-4abf-a177-2cd41ecf1142"
      },
      "outputs": [
        {
          "output_type": "execute_result",
          "data": {
            "text/plain": [
              "<seaborn.axisgrid.JointGrid at 0x7927e0519ae0>"
            ]
          },
          "metadata": {},
          "execution_count": 40
        },
        {
          "output_type": "display_data",
          "data": {
            "text/plain": [
              "<Figure size 600x600 with 3 Axes>"
            ],
            "image/png": "[encoded data removed]"
          },
          "metadata": {}
        }
      ],
      "source": [
        "####Jointplot of x variable with rainTOmorrow\n",
        "sns.jointplot(x=df.Temp3pm, y=df.RainTomorrow)"
      ]
    },
    {
      "cell_type": "code",
      "execution_count": 41,
      "id": "c6bbeae1",
      "metadata": {
        "id": "c6bbeae1",
        "colab": {
          "base_uri": "https://localhost:8080/",
          "height": 624
        },
        "outputId": "485e185f-1289-4dbf-e2d4-fdc636e24876"
      },
      "outputs": [
        {
          "output_type": "execute_result",
          "data": {
            "text/plain": [
              "<seaborn.axisgrid.JointGrid at 0x7927e04cf9a0>"
            ]
          },
          "metadata": {},
          "execution_count": 41
        },
        {
          "output_type": "display_data",
          "data": {
            "text/plain": [
              "<Figure size 600x600 with 3 Axes>"
            ],
            "image/png": "[encoded data removed]"
          },
          "metadata": {}
        }
      ],
      "source": [
        "####Jointplot of x variable with rainTOmorrow\n",
        "sns.jointplot(x=df.RainToday, y=df.RainTomorrow)"
      ]
    },
    {
      "cell_type": "code",
      "execution_count": 42,
      "id": "b1ea76ea",
      "metadata": {
        "id": "b1ea76ea"
      },
      "outputs": [],
      "source": [
        "###creating mode\n",
        "a=df.RainToday.mode()"
      ]
    },
    {
      "cell_type": "code",
      "execution_count": 43,
      "id": "f7101e41",
      "metadata": {
        "id": "f7101e41",
        "colab": {
          "base_uri": "https://localhost:8080/",
          "height": 0
        },
        "outputId": "c0e1af99-ec3c-4513-990e-1b88ce5dc3fa"
      },
      "outputs": [
        {
          "output_type": "stream",
          "name": "stdout",
          "text": [
            "0    0.0\n",
            "Name: RainToday, dtype: float64\n"
          ]
        }
      ],
      "source": [
        "###Printing variable a\n",
        "print(a)"
      ]
    },
    {
      "cell_type": "code",
      "execution_count": 44,
      "id": "2c01bfc3",
      "metadata": {
        "id": "2c01bfc3"
      },
      "outputs": [],
      "source": [
        "###Replacing missing values by mean ,median and mode.\n",
        "df.MinTemp= df.MinTemp.fillna(df.MinTemp.mean())\n",
        "df.MaxTemp= df.MaxTemp.fillna(df.MaxTemp.median())\n",
        "df.Rainfall= df.Rainfall.fillna(df.Rainfall.median())\n",
        "df.Evaporation= df.Evaporation.fillna(df.Evaporation.median())\n",
        "df.Sunshine= df.Sunshine.fillna(df.Sunshine.median())\n",
        "df.Humidity9am= df.Humidity9am.fillna(df.Humidity9am.median())\n",
        "df.Humidity3pm= df.Humidity3pm.fillna(df.Humidity3pm.median())\n",
        "df.Pressure9am= df.Pressure9am.fillna(df.Pressure9am.median())\n",
        "df.Pressure3pm= df.Pressure3pm.fillna(df.Pressure3pm.median())\n",
        "df.Cloud9am= df.Cloud9am.fillna(df.Cloud9am.median())\n",
        "df.Cloud3pm= df.Cloud3pm.fillna(df.Cloud3pm.median())\n",
        "df.Temp9am= df.Temp9am.fillna(df.Temp9am.median())\n",
        "df.Temp3pm= df.Temp3pm.fillna(df.Temp3pm.median())\n",
        "\n"
      ]
    },
    {
      "cell_type": "code",
      "execution_count": 45,
      "id": "1368665e",
      "metadata": {
        "id": "1368665e"
      },
      "outputs": [],
      "source": [
        "###filling missing value\n",
        "df.RainToday=df.RainToday.fillna(a[0])"
      ]
    },
    {
      "cell_type": "code",
      "execution_count": 46,
      "id": "47f65192",
      "metadata": {
        "id": "47f65192",
        "colab": {
          "base_uri": "https://localhost:8080/",
          "height": 0
        },
        "outputId": "70efb195-d75a-4dc3-e5a9-20bc7cfb64df"
      },
      "outputs": [
        {
          "output_type": "stream",
          "name": "stdout",
          "text": [
            "<class 'pandas.core.frame.DataFrame'>\n",
            "RangeIndex: 3337 entries, 0 to 3336\n",
            "Data columns (total 15 columns):\n",
            " #   Column        Non-Null Count  Dtype  \n",
            "---  ------        --------------  -----  \n",
            " 0   MinTemp       3337 non-null   float64\n",
            " 1   MaxTemp       3337 non-null   float64\n",
            " 2   Rainfall      3337 non-null   float64\n",
            " 3   Evaporation   3337 non-null   float64\n",
            " 4   Sunshine      3337 non-null   float64\n",
            " 5   Humidity9am   3337 non-null   float64\n",
            " 6   Humidity3pm   3337 non-null   float64\n",
            " 7   Pressure9am   3337 non-null   float64\n",
            " 8   Pressure3pm   3337 non-null   float64\n",
            " 9   Cloud9am      3337 non-null   float64\n",
            " 10  Cloud3pm      3337 non-null   float64\n",
            " 11  Temp9am       3337 non-null   float64\n",
            " 12  Temp3pm       3337 non-null   float64\n",
            " 13  RainToday     3337 non-null   float64\n",
            " 14  RainTomorrow  3337 non-null   int64  \n",
            "dtypes: float64(14), int64(1)\n",
            "memory usage: 391.2 KB\n"
          ]
        }
      ],
      "source": [
        "###Getting information of columns\n",
        "df.info()"
      ]
    },
    {
      "cell_type": "markdown",
      "id": "dbc8a943",
      "metadata": {
        "id": "dbc8a943"
      },
      "source": [
        "#### Outlier Treatment"
      ]
    },
    {
      "cell_type": "code",
      "execution_count": 47,
      "id": "a024addf",
      "metadata": {
        "id": "a024addf",
        "colab": {
          "base_uri": "https://localhost:8080/",
          "height": 320
        },
        "outputId": "861299b0-057b-4b84-834c-c5e1371e023b"
      },
      "outputs": [
        {
          "output_type": "execute_result",
          "data": {
            "text/plain": [
              "           MinTemp      MaxTemp     Rainfall  Evaporation     Sunshine  \\\n",
              "count  3337.000000  3337.000000  3337.000000  3337.000000  3337.000000   \n",
              "mean     14.865057    23.002218     3.324243     5.181510     7.184747   \n",
              "std       4.551593     4.493293     9.887277     2.756505     3.802525   \n",
              "min       4.300000    11.700000     0.000000     0.000000     0.000000   \n",
              "25%      11.000000    19.600000     0.000000     3.200000     4.300000   \n",
              "50%      14.900000    22.800000     0.000000     4.800000     8.300000   \n",
              "75%      18.700000    26.000000     1.400000     7.000000    10.200000   \n",
              "max      27.600000    45.800000   119.400000    18.400000    13.600000   \n",
              "\n",
              "       Humidity9am  Humidity3pm  Pressure9am  Pressure3pm     Cloud9am  \\\n",
              "count  3337.000000  3337.000000  3337.000000  3337.000000  3337.000000   \n",
              "mean     68.232245    54.704225  1018.347678  1016.020375     4.320348   \n",
              "std      15.053751    16.261954     7.000519     7.012189     2.524256   \n",
              "min      19.000000    10.000000   986.700000   989.800000     0.000000   \n",
              "25%      58.000000    44.000000  1013.800000  1011.300000     2.000000   \n",
              "50%      69.000000    56.000000  1018.600000  1016.300000     5.000000   \n",
              "75%      80.000000    64.000000  1023.100000  1020.800000     7.000000   \n",
              "max     100.000000    99.000000  1039.000000  1036.700000     9.000000   \n",
              "\n",
              "          Cloud3pm      Temp9am      Temp3pm    RainToday  RainTomorrow  \n",
              "count  3337.000000  3337.000000  3337.000000  3337.000000   3337.000000  \n",
              "mean      4.181900    17.820198    21.533054     0.259515      0.259215  \n",
              "std       2.410918     4.894258     4.301163     0.438434      0.438269  \n",
              "min       0.000000     6.400000    10.200000     0.000000      0.000000  \n",
              "25%       2.000000    13.800000    18.400000     0.000000      0.000000  \n",
              "50%       4.000000    18.200000    21.300000     0.000000      0.000000  \n",
              "75%       7.000000    21.700000    24.500000     1.000000      1.000000  \n",
              "max       8.000000    36.500000    44.700000     1.000000      1.000000  "
            ],
            "text/html": [
              "\n",
              "  <div id=\"df-db553230-ead9-4075-819b-8adb28ad59b9\" class=\"colab-df-container\">\n",
              "    <div>\n",
              "<style scoped>\n",
              "    .dataframe tbody tr th:only-of-type {\n",
              "        vertical-align: middle;\n",
              "    }\n",
              "\n",
              "    .dataframe tbody tr th {\n",
              "        vertical-align: top;\n",
              "    }\n",
              "\n",
              "    .dataframe thead th {\n",
              "        text-align: right;\n",
              "    }\n",
              "</style>\n",
              "<table border=\"1\" class=\"dataframe\">\n",
              "  <thead>\n",
              "    <tr style=\"text-align: right;\">\n",
              "      <th></th>\n",
              "      <th>MinTemp</th>\n",
              "      <th>MaxTemp</th>\n",
              "      <th>Rainfall</th>\n",
              "      <th>Evaporation</th>\n",
              "      <th>Sunshine</th>\n",
              "      <th>Humidity9am</th>\n",
              "      <th>Humidity3pm</th>\n",
              "      <th>Pressure9am</th>\n",
              "      <th>Pressure3pm</th>\n",
              "      <th>Cloud9am</th>\n",
              "      <th>Cloud3pm</th>\n",
              "      <th>Temp9am</th>\n",
              "      <th>Temp3pm</th>\n",
              "      <th>RainToday</th>\n",
              "      <th>RainTomorrow</th>\n",
              "    </tr>\n",
              "  </thead>\n",
              "  <tbody>\n",
              "    <tr>\n",
              "      <th>count</th>\n",
              "      <td>3337.000000</td>\n",
              "      <td>3337.000000</td>\n",
              "      <td>3337.000000</td>\n",
              "      <td>3337.000000</td>\n",
              "      <td>3337.000000</td>\n",
              "      <td>3337.000000</td>\n",
              "      <td>3337.000000</td>\n",
              "      <td>3337.000000</td>\n",
              "      <td>3337.000000</td>\n",
              "      <td>3337.000000</td>\n",
              "      <td>3337.000000</td>\n",
              "      <td>3337.000000</td>\n",
              "      <td>3337.000000</td>\n",
              "      <td>3337.000000</td>\n",
              "      <td>3337.000000</td>\n",
              "    </tr>\n",
              "    <tr>\n",
              "      <th>mean</th>\n",
              "      <td>14.865057</td>\n",
              "      <td>23.002218</td>\n",
              "      <td>3.324243</td>\n",
              "      <td>5.181510</td>\n",
              "      <td>7.184747</td>\n",
              "      <td>68.232245</td>\n",
              "      <td>54.704225</td>\n",
              "      <td>1018.347678</td>\n",
              "      <td>1016.020375</td>\n",
              "      <td>4.320348</td>\n",
              "      <td>4.181900</td>\n",
              "      <td>17.820198</td>\n",
              "      <td>21.533054</td>\n",
              "      <td>0.259515</td>\n",
              "      <td>0.259215</td>\n",
              "    </tr>\n",
              "    <tr>\n",
              "      <th>std</th>\n",
              "      <td>4.551593</td>\n",
              "      <td>4.493293</td>\n",
              "      <td>9.887277</td>\n",
              "      <td>2.756505</td>\n",
              "      <td>3.802525</td>\n",
              "      <td>15.053751</td>\n",
              "      <td>16.261954</td>\n",
              "      <td>7.000519</td>\n",
              "      <td>7.012189</td>\n",
              "      <td>2.524256</td>\n",
              "      <td>2.410918</td>\n",
              "      <td>4.894258</td>\n",
              "      <td>4.301163</td>\n",
              "      <td>0.438434</td>\n",
              "      <td>0.438269</td>\n",
              "    </tr>\n",
              "    <tr>\n",
              "      <th>min</th>\n",
              "      <td>4.300000</td>\n",
              "      <td>11.700000</td>\n",
              "      <td>0.000000</td>\n",
              "      <td>0.000000</td>\n",
              "      <td>0.000000</td>\n",
              "      <td>19.000000</td>\n",
              "      <td>10.000000</td>\n",
              "      <td>986.700000</td>\n",
              "      <td>989.800000</td>\n",
              "      <td>0.000000</td>\n",
              "      <td>0.000000</td>\n",
              "      <td>6.400000</td>\n",
              "      <td>10.200000</td>\n",
              "      <td>0.000000</td>\n",
              "      <td>0.000000</td>\n",
              "    </tr>\n",
              "    <tr>\n",
              "      <th>25%</th>\n",
              "      <td>11.000000</td>\n",
              "      <td>19.600000</td>\n",
              "      <td>0.000000</td>\n",
              "      <td>3.200000</td>\n",
              "      <td>4.300000</td>\n",
              "      <td>58.000000</td>\n",
              "      <td>44.000000</td>\n",
              "      <td>1013.800000</td>\n",
              "      <td>1011.300000</td>\n",
              "      <td>2.000000</td>\n",
              "      <td>2.000000</td>\n",
              "      <td>13.800000</td>\n",
              "      <td>18.400000</td>\n",
              "      <td>0.000000</td>\n",
              "      <td>0.000000</td>\n",
              "    </tr>\n",
              "    <tr>\n",
              "      <th>50%</th>\n",
              "      <td>14.900000</td>\n",
              "      <td>22.800000</td>\n",
              "      <td>0.000000</td>\n",
              "      <td>4.800000</td>\n",
              "      <td>8.300000</td>\n",
              "      <td>69.000000</td>\n",
              "      <td>56.000000</td>\n",
              "      <td>1018.600000</td>\n",
              "      <td>1016.300000</td>\n",
              "      <td>5.000000</td>\n",
              "      <td>4.000000</td>\n",
              "      <td>18.200000</td>\n",
              "      <td>21.300000</td>\n",
              "      <td>0.000000</td>\n",
              "      <td>0.000000</td>\n",
              "    </tr>\n",
              "    <tr>\n",
              "      <th>75%</th>\n",
              "      <td>18.700000</td>\n",
              "      <td>26.000000</td>\n",
              "      <td>1.400000</td>\n",
              "      <td>7.000000</td>\n",
              "      <td>10.200000</td>\n",
              "      <td>80.000000</td>\n",
              "      <td>64.000000</td>\n",
              "      <td>1023.100000</td>\n",
              "      <td>1020.800000</td>\n",
              "      <td>7.000000</td>\n",
              "      <td>7.000000</td>\n",
              "      <td>21.700000</td>\n",
              "      <td>24.500000</td>\n",
              "      <td>1.000000</td>\n",
              "      <td>1.000000</td>\n",
              "    </tr>\n",
              "    <tr>\n",
              "      <th>max</th>\n",
              "      <td>27.600000</td>\n",
              "      <td>45.800000</td>\n",
              "      <td>119.400000</td>\n",
              "      <td>18.400000</td>\n",
              "      <td>13.600000</td>\n",
              "      <td>100.000000</td>\n",
              "      <td>99.000000</td>\n",
              "      <td>1039.000000</td>\n",
              "      <td>1036.700000</td>\n",
              "      <td>9.000000</td>\n",
              "      <td>8.000000</td>\n",
              "      <td>36.500000</td>\n",
              "      <td>44.700000</td>\n",
              "      <td>1.000000</td>\n",
              "      <td>1.000000</td>\n",
              "    </tr>\n",
              "  </tbody>\n",
              "</table>\n",
              "</div>\n",
              "    <div class=\"colab-df-buttons\">\n",
              "\n",
              "  <div class=\"colab-df-container\">\n",
              "    <button class=\"colab-df-convert\" onclick=\"convertToInteractive('df-db553230-ead9-4075-819b-8adb28ad59b9')\"\n",
              "            title=\"Convert this dataframe to an interactive table.\"\n",
              "            style=\"display:none;\">\n",
              "\n",
              "  <svg xmlns=\"http://www.w3.org/2000/svg\" height=\"24px\" viewBox=\"0 -960 960 960\">\n",
              "    <path d=\"M120-120v-720h720v720H120Zm60-500h600v-160H180v160Zm220 220h160v-160H400v160Zm0 220h160v-160H400v160ZM180-400h160v-160H180v160Zm440 0h160v-160H620v160ZM180-180h160v-160H180v160Zm440 0h160v-160H620v160Z\"/>\n",
              "  </svg>\n",
              "    </button>\n",
              "\n",
              "  <style>\n",
              "    .colab-df-container {\n",
              "      display:flex;\n",
              "      gap: 12px;\n",
              "    }\n",
              "\n",
              "    .colab-df-convert {\n",
              "      background-color: #E8F0FE;\n",
              "      border: none;\n",
              "      border-radius: 50%;\n",
              "      cursor: pointer;\n",
              "      display: none;\n",
              "      fill: #1967D2;\n",
              "      height: 32px;\n",
              "      padding: 0 0 0 0;\n",
              "      width: 32px;\n",
              "    }\n",
              "\n",
              "    .colab-df-convert:hover {\n",
              "      background-color: #E2EBFA;\n",
              "      box-shadow: 0px 1px 2px rgba(60, 64, 67, 0.3), 0px 1px 3px 1px rgba(60, 64, 67, 0.15);\n",
              "      fill: #174EA6;\n",
              "    }\n",
              "\n",
              "    .colab-df-buttons div {\n",
              "      margin-bottom: 4px;\n",
              "    }\n",
              "\n",
              "    [theme=dark] .colab-df-convert {\n",
              "      background-color: #3B4455;\n",
              "      fill: #D2E3FC;\n",
              "    }\n",
              "\n",
              "    [theme=dark] .colab-df-convert:hover {\n",
              "      background-color: #434B5C;\n",
              "      box-shadow: 0px 1px 3px 1px rgba(0, 0, 0, 0.15);\n",
              "      filter: drop-shadow(0px 1px 2px rgba(0, 0, 0, 0.3));\n",
              "      fill: #FFFFFF;\n",
              "    }\n",
              "  </style>\n",
              "\n",
              "    <script>\n",
              "      const buttonEl =\n",
              "        document.querySelector('#df-db553230-ead9-4075-819b-8adb28ad59b9 button.colab-df-convert');\n",
              "      buttonEl.style.display =\n",
              "        google.colab.kernel.accessAllowed ? 'block' : 'none';\n",
              "\n",
              "      async function convertToInteractive(key) {\n",
              "        const element = document.querySelector('#df-db553230-ead9-4075-819b-8adb28ad59b9');\n",
              "        const dataTable =\n",
              "          await google.colab.kernel.invokeFunction('convertToInteractive',\n",
              "                                                    [key], {});\n",
              "        if (!dataTable) return;\n",
              "\n",
              "        const docLinkHtml = 'Like what you see? Visit the ' +\n",
              "          '<a target=\"_blank\" href=https://colab.research.google.com/notebooks/data_table.ipynb>data table notebook</a>'\n",
              "          + ' to learn more about interactive tables.';\n",
              "        element.innerHTML = '';\n",
              "        dataTable['output_type'] = 'display_data';\n",
              "        await google.colab.output.renderOutput(dataTable, element);\n",
              "        const docLink = document.createElement('div');\n",
              "        docLink.innerHTML = docLinkHtml;\n",
              "        element.appendChild(docLink);\n",
              "      }\n",
              "    </script>\n",
              "  </div>\n",
              "\n",
              "\n",
              "<div id=\"df-308e04ba-412f-4124-bdff-1ef74a57066c\">\n",
              "  <button class=\"colab-df-quickchart\" onclick=\"quickchart('df-308e04ba-412f-4124-bdff-1ef74a57066c')\"\n",
              "            title=\"Suggest charts.\"\n",
              "            style=\"display:none;\">\n",
              "\n",
              "<svg xmlns=\"http://www.w3.org/2000/svg\" height=\"24px\"viewBox=\"0 0 24 24\"\n",
              "     width=\"24px\">\n",
              "    <g>\n",
              "        <path d=\"M19 3H5c-1.1 0-2 .9-2 2v14c0 1.1.9 2 2 2h14c1.1 0 2-.9 2-2V5c0-1.1-.9-2-2-2zM9 17H7v-7h2v7zm4 0h-2V7h2v10zm4 0h-2v-4h2v4z\"/>\n",
              "    </g>\n",
              "</svg>\n",
              "  </button>\n",
              "\n",
              "<style>\n",
              "  .colab-df-quickchart {\n",
              "      --bg-color: #E8F0FE;\n",
              "      --fill-color: #1967D2;\n",
              "      --hover-bg-color: #E2EBFA;\n",
              "      --hover-fill-color: #174EA6;\n",
              "      --disabled-fill-color: #AAA;\n",
              "      --disabled-bg-color: #DDD;\n",
              "  }\n",
              "\n",
              "  [theme=dark] .colab-df-quickchart {\n",
              "      --bg-color: #3B4455;\n",
              "      --fill-color: #D2E3FC;\n",
              "      --hover-bg-color: #434B5C;\n",
              "      --hover-fill-color: #FFFFFF;\n",
              "      --disabled-bg-color: #3B4455;\n",
              "      --disabled-fill-color: #666;\n",
              "  }\n",
              "\n",
              "  .colab-df-quickchart {\n",
              "    background-color: var(--bg-color);\n",
              "    border: none;\n",
              "    border-radius: 50%;\n",
              "    cursor: pointer;\n",
              "    display: none;\n",
              "    fill: var(--fill-color);\n",
              "    height: 32px;\n",
              "    padding: 0;\n",
              "    width: 32px;\n",
              "  }\n",
              "\n",
              "  .colab-df-quickchart:hover {\n",
              "    background-color: var(--hover-bg-color);\n",
              "    box-shadow: 0 1px 2px rgba(60, 64, 67, 0.3), 0 1px 3px 1px rgba(60, 64, 67, 0.15);\n",
              "    fill: var(--button-hover-fill-color);\n",
              "  }\n",
              "\n",
              "  .colab-df-quickchart-complete:disabled,\n",
              "  .colab-df-quickchart-complete:disabled:hover {\n",
              "    background-color: var(--disabled-bg-color);\n",
              "    fill: var(--disabled-fill-color);\n",
              "    box-shadow: none;\n",
              "  }\n",
              "\n",
              "  .colab-df-spinner {\n",
              "    border: 2px solid var(--fill-color);\n",
              "    border-color: transparent;\n",
              "    border-bottom-color: var(--fill-color);\n",
              "    animation:\n",
              "      spin 1s steps(1) infinite;\n",
              "  }\n",
              "\n",
              "  @keyframes spin {\n",
              "    0% {\n",
              "      border-color: transparent;\n",
              "      border-bottom-color: var(--fill-color);\n",
              "      border-left-color: var(--fill-color);\n",
              "    }\n",
              "    20% {\n",
              "      border-color: transparent;\n",
              "      border-left-color: var(--fill-color);\n",
              "      border-top-color: var(--fill-color);\n",
              "    }\n",
              "    30% {\n",
              "      border-color: transparent;\n",
              "      border-left-color: var(--fill-color);\n",
              "      border-top-color: var(--fill-color);\n",
              "      border-right-color: var(--fill-color);\n",
              "    }\n",
              "    40% {\n",
              "      border-color: transparent;\n",
              "      border-right-color: var(--fill-color);\n",
              "      border-top-color: var(--fill-color);\n",
              "    }\n",
              "    60% {\n",
              "      border-color: transparent;\n",
              "      border-right-color: var(--fill-color);\n",
              "    }\n",
              "    80% {\n",
              "      border-color: transparent;\n",
              "      border-right-color: var(--fill-color);\n",
              "      border-bottom-color: var(--fill-color);\n",
              "    }\n",
              "    90% {\n",
              "      border-color: transparent;\n",
              "      border-bottom-color: var(--fill-color);\n",
              "    }\n",
              "  }\n",
              "</style>\n",
              "\n",
              "  <script>\n",
              "    async function quickchart(key) {\n",
              "      const quickchartButtonEl =\n",
              "        document.querySelector('#' + key + ' button');\n",
              "      quickchartButtonEl.disabled = true;  // To prevent multiple clicks.\n",
              "      quickchartButtonEl.classList.add('colab-df-spinner');\n",
              "      try {\n",
              "        const charts = await google.colab.kernel.invokeFunction(\n",
              "            'suggestCharts', [key], {});\n",
              "      } catch (error) {\n",
              "        console.error('Error during call to suggestCharts:', error);\n",
              "      }\n",
              "      quickchartButtonEl.classList.remove('colab-df-spinner');\n",
              "      quickchartButtonEl.classList.add('colab-df-quickchart-complete');\n",
              "    }\n",
              "    (() => {\n",
              "      let quickchartButtonEl =\n",
              "        document.querySelector('#df-308e04ba-412f-4124-bdff-1ef74a57066c button');\n",
              "      quickchartButtonEl.style.display =\n",
              "        google.colab.kernel.accessAllowed ? 'block' : 'none';\n",
              "    })();\n",
              "  </script>\n",
              "</div>\n",
              "    </div>\n",
              "  </div>\n"
            ]
          },
          "metadata": {},
          "execution_count": 47
        }
      ],
      "source": [
        "###Getting extended dictionary of data\n",
        "df.describe()"
      ]
    },
    {
      "cell_type": "code",
      "execution_count": 48,
      "id": "96ae9194",
      "metadata": {
        "id": "96ae9194",
        "colab": {
          "base_uri": "https://localhost:8080/",
          "height": 0
        },
        "outputId": "5d4757c3-155e-48eb-9329-6ddd8b4b4c2b"
      },
      "outputs": [
        {
          "output_type": "execute_result",
          "data": {
            "text/plain": [
              "23.5"
            ]
          },
          "metadata": {},
          "execution_count": 48
        }
      ],
      "source": [
        "###Getting percentile of variable\n",
        "np.percentile(df.MinTemp,[99])[0]"
      ]
    },
    {
      "cell_type": "code",
      "execution_count": 49,
      "id": "31fcc06a",
      "metadata": {
        "id": "31fcc06a",
        "colab": {
          "base_uri": "https://localhost:8080/",
          "height": 0
        },
        "outputId": "54d48b15-f462-4f68-f8df-f9b83f9fd9f8"
      },
      "outputs": [
        {
          "output_type": "execute_result",
          "data": {
            "text/plain": [
              "6.2"
            ]
          },
          "metadata": {},
          "execution_count": 49
        }
      ],
      "source": [
        "###Getting percentile of variable\n",
        "np.percentile(df.MinTemp,[1])[0]"
      ]
    },
    {
      "cell_type": "code",
      "execution_count": 50,
      "id": "d0a926e3",
      "metadata": {
        "id": "d0a926e3",
        "colab": {
          "base_uri": "https://localhost:8080/",
          "height": 0
        },
        "outputId": "5f264406-348d-4f3e-b0d8-bb4c6238bdbb"
      },
      "outputs": [
        {
          "output_type": "execute_result",
          "data": {
            "text/plain": [
              "35.52799999999998"
            ]
          },
          "metadata": {},
          "execution_count": 50
        }
      ],
      "source": [
        "###Getting percentile of variable\n",
        "np.percentile(df.MaxTemp,[99])[0]"
      ]
    },
    {
      "cell_type": "code",
      "execution_count": 51,
      "id": "cea19df1",
      "metadata": {
        "id": "cea19df1",
        "colab": {
          "base_uri": "https://localhost:8080/",
          "height": 0
        },
        "outputId": "84548124-a3c9-4dad-d8e9-6e7d89b65431"
      },
      "outputs": [
        {
          "output_type": "execute_result",
          "data": {
            "text/plain": [
              "14.4"
            ]
          },
          "metadata": {},
          "execution_count": 51
        }
      ],
      "source": [
        "###Getting percentile of variable\n",
        "np.percentile(df.MaxTemp,[1])[0]"
      ]
    },
    {
      "cell_type": "code",
      "execution_count": 52,
      "id": "37ab1abd",
      "metadata": {
        "id": "37ab1abd",
        "colab": {
          "base_uri": "https://localhost:8080/",
          "height": 0
        },
        "outputId": "8cc42ee9-b234-4584-ad70-c4887bd260e4"
      },
      "outputs": [
        {
          "output_type": "execute_result",
          "data": {
            "text/plain": [
              "52.29599999999982"
            ]
          },
          "metadata": {},
          "execution_count": 52
        }
      ],
      "source": [
        "###Getting percentile of variable\n",
        "np.percentile(df.Rainfall,[99])[0]"
      ]
    },
    {
      "cell_type": "code",
      "execution_count": 53,
      "id": "8d5ec8f3",
      "metadata": {
        "id": "8d5ec8f3",
        "colab": {
          "base_uri": "https://localhost:8080/",
          "height": 0
        },
        "outputId": "28c8e078-45ac-4a4b-c2dc-f907cb329f9d"
      },
      "outputs": [
        {
          "output_type": "execute_result",
          "data": {
            "text/plain": [
              "0.0"
            ]
          },
          "metadata": {},
          "execution_count": 53
        }
      ],
      "source": [
        "###Getting percentile of variable\n",
        "np.percentile(df.Rainfall,[1])[0]"
      ]
    },
    {
      "cell_type": "code",
      "execution_count": 54,
      "id": "77ed7a28",
      "metadata": {
        "id": "77ed7a28",
        "colab": {
          "base_uri": "https://localhost:8080/",
          "height": 0
        },
        "outputId": "2f77e082-5147-45c8-af34-3dde8d9a6379"
      },
      "outputs": [
        {
          "output_type": "execute_result",
          "data": {
            "text/plain": [
              "12.8"
            ]
          },
          "metadata": {},
          "execution_count": 54
        }
      ],
      "source": [
        "###Getting percentile of variable\n",
        "np.percentile(df.Evaporation,[99])[0]"
      ]
    },
    {
      "cell_type": "code",
      "execution_count": 55,
      "id": "a04fcea5",
      "metadata": {
        "id": "a04fcea5",
        "colab": {
          "base_uri": "https://localhost:8080/",
          "height": 0
        },
        "outputId": "20fb1d0b-bdc3-4de6-d823-e96ca27f7430"
      },
      "outputs": [
        {
          "output_type": "execute_result",
          "data": {
            "text/plain": [
              "0.4"
            ]
          },
          "metadata": {},
          "execution_count": 55
        }
      ],
      "source": [
        "###Getting percentile of variable\n",
        "np.percentile(df.Evaporation,[1])[0]"
      ]
    },
    {
      "cell_type": "code",
      "execution_count": 56,
      "id": "5d9f0a31",
      "metadata": {
        "id": "5d9f0a31",
        "colab": {
          "base_uri": "https://localhost:8080/",
          "height": 0
        },
        "outputId": "e4bc1bc6-6f89-470d-dace-8969ad933e82"
      },
      "outputs": [
        {
          "output_type": "execute_result",
          "data": {
            "text/plain": [
              "13.0"
            ]
          },
          "metadata": {},
          "execution_count": 56
        }
      ],
      "source": [
        "###Getting percentile of variable\n",
        "np.percentile(df.Sunshine,[99])[0]"
      ]
    },
    {
      "cell_type": "code",
      "execution_count": 57,
      "id": "1f1b4f49",
      "metadata": {
        "id": "1f1b4f49",
        "colab": {
          "base_uri": "https://localhost:8080/",
          "height": 0
        },
        "outputId": "da62bd03-8f08-4226-c9c2-e80229c9a941"
      },
      "outputs": [
        {
          "output_type": "execute_result",
          "data": {
            "text/plain": [
              "0.0"
            ]
          },
          "metadata": {},
          "execution_count": 57
        }
      ],
      "source": [
        "###Getting percentile of variable\n",
        "np.percentile(df.Sunshine,[1])[0]"
      ]
    },
    {
      "cell_type": "code",
      "execution_count": 58,
      "id": "4f583663",
      "metadata": {
        "id": "4f583663",
        "colab": {
          "base_uri": "https://localhost:8080/",
          "height": 0
        },
        "outputId": "321e3fc6-eb06-4543-b1f9-7a23ef2e5f6e"
      },
      "outputs": [
        {
          "output_type": "execute_result",
          "data": {
            "text/plain": [
              "96.0"
            ]
          },
          "metadata": {},
          "execution_count": 58
        }
      ],
      "source": [
        "###Getting percentile of variable\n",
        "np.percentile(df.Humidity9am,[99])[0]"
      ]
    },
    {
      "cell_type": "code",
      "execution_count": 59,
      "id": "79517fac",
      "metadata": {
        "id": "79517fac",
        "colab": {
          "base_uri": "https://localhost:8080/",
          "height": 0
        },
        "outputId": "ca3d91d2-302e-46f4-ec63-18fe61672dc3"
      },
      "outputs": [
        {
          "output_type": "execute_result",
          "data": {
            "text/plain": [
              "30.0"
            ]
          },
          "metadata": {},
          "execution_count": 59
        }
      ],
      "source": [
        "###Getting percentile of variable\n",
        "np.percentile(df.Humidity9am,[1])[0]"
      ]
    },
    {
      "cell_type": "code",
      "execution_count": 60,
      "id": "bdb1b1e4",
      "metadata": {
        "id": "bdb1b1e4",
        "colab": {
          "base_uri": "https://localhost:8080/",
          "height": 0
        },
        "outputId": "9ec11a63-2462-44fa-dd8f-c61cee10c89d"
      },
      "outputs": [
        {
          "output_type": "execute_result",
          "data": {
            "text/plain": [
              "92.0"
            ]
          },
          "metadata": {},
          "execution_count": 60
        }
      ],
      "source": [
        "###Getting percentile of variable\n",
        "np.percentile(df.Humidity3pm,[99])[0]"
      ]
    },
    {
      "cell_type": "code",
      "execution_count": 61,
      "id": "dd79ccd6",
      "metadata": {
        "id": "dd79ccd6",
        "colab": {
          "base_uri": "https://localhost:8080/",
          "height": 0
        },
        "outputId": "e2d8a1f8-efcd-424e-93aa-6d4884d01ae7"
      },
      "outputs": [
        {
          "output_type": "execute_result",
          "data": {
            "text/plain": [
              "18.0"
            ]
          },
          "metadata": {},
          "execution_count": 61
        }
      ],
      "source": [
        "###Getting percentile of variable\n",
        "np.percentile(df.Humidity3pm,[1])[0]"
      ]
    },
    {
      "cell_type": "code",
      "execution_count": 62,
      "id": "ea008a90",
      "metadata": {
        "id": "ea008a90",
        "colab": {
          "base_uri": "https://localhost:8080/",
          "height": 0
        },
        "outputId": "ce800089-764a-4c30-df6f-8a62c820ed4e"
      },
      "outputs": [
        {
          "output_type": "execute_result",
          "data": {
            "text/plain": [
              "1033.856"
            ]
          },
          "metadata": {},
          "execution_count": 62
        }
      ],
      "source": [
        "###Getting percentile of variable\n",
        "np.percentile(df.Pressure9am,[99])[0]"
      ]
    },
    {
      "cell_type": "code",
      "execution_count": 63,
      "id": "2837379a",
      "metadata": {
        "id": "2837379a",
        "colab": {
          "base_uri": "https://localhost:8080/",
          "height": 0
        },
        "outputId": "e8e05819-884b-4419-8520-36035806404f"
      },
      "outputs": [
        {
          "output_type": "execute_result",
          "data": {
            "text/plain": [
              "1001.572"
            ]
          },
          "metadata": {},
          "execution_count": 63
        }
      ],
      "source": [
        "###Getting percentile of variable\n",
        "np.percentile(df.Pressure9am,[1])[0]"
      ]
    },
    {
      "cell_type": "code",
      "execution_count": 64,
      "id": "265c82e9",
      "metadata": {
        "id": "265c82e9",
        "colab": {
          "base_uri": "https://localhost:8080/",
          "height": 0
        },
        "outputId": "0573341c-2116-4d20-84d2-65c552504e77"
      },
      "outputs": [
        {
          "output_type": "execute_result",
          "data": {
            "text/plain": [
              "1031.664"
            ]
          },
          "metadata": {},
          "execution_count": 64
        }
      ],
      "source": [
        "###Getting percentile of variable\n",
        "np.percentile(df.Pressure3pm,[99])[0]"
      ]
    },
    {
      "cell_type": "code",
      "execution_count": 65,
      "id": "bd00f22d",
      "metadata": {
        "id": "bd00f22d",
        "colab": {
          "base_uri": "https://localhost:8080/",
          "height": 0
        },
        "outputId": "1634892f-6767-48a5-83a4-730f843e8a08"
      },
      "outputs": [
        {
          "output_type": "execute_result",
          "data": {
            "text/plain": [
              "998.972"
            ]
          },
          "metadata": {},
          "execution_count": 65
        }
      ],
      "source": [
        "###Getting percentile of variable\n",
        "np.percentile(df.Pressure3pm,[1])[0]"
      ]
    },
    {
      "cell_type": "code",
      "execution_count": 66,
      "id": "aa7dde03",
      "metadata": {
        "id": "aa7dde03",
        "colab": {
          "base_uri": "https://localhost:8080/",
          "height": 0
        },
        "outputId": "a693c272-366f-4abd-9b93-9bd1b4b44e75"
      },
      "outputs": [
        {
          "output_type": "execute_result",
          "data": {
            "text/plain": [
              "8.0"
            ]
          },
          "metadata": {},
          "execution_count": 66
        }
      ],
      "source": [
        "###Getting percentile of variable\n",
        "np.percentile(df.Cloud9am,[99])[0]"
      ]
    },
    {
      "cell_type": "code",
      "execution_count": 67,
      "id": "844f56cd",
      "metadata": {
        "id": "844f56cd",
        "colab": {
          "base_uri": "https://localhost:8080/",
          "height": 0
        },
        "outputId": "53fa25a3-6960-4e45-88de-ada3bee26e0e"
      },
      "outputs": [
        {
          "output_type": "execute_result",
          "data": {
            "text/plain": [
              "0.0"
            ]
          },
          "metadata": {},
          "execution_count": 67
        }
      ],
      "source": [
        "###Getting percentile of variable\n",
        "np.percentile(df.Cloud9am,[1])[0]"
      ]
    },
    {
      "cell_type": "code",
      "execution_count": 68,
      "id": "596c1ba0",
      "metadata": {
        "id": "596c1ba0",
        "colab": {
          "base_uri": "https://localhost:8080/",
          "height": 0
        },
        "outputId": "45317643-29a9-4c0e-c108-50773e742121"
      },
      "outputs": [
        {
          "output_type": "execute_result",
          "data": {
            "text/plain": [
              "8.0"
            ]
          },
          "metadata": {},
          "execution_count": 68
        }
      ],
      "source": [
        "###Getting percentile of variable\n",
        "np.percentile(df.Cloud3pm,[99])[0]"
      ]
    },
    {
      "cell_type": "code",
      "execution_count": 69,
      "id": "a24e4bdc",
      "metadata": {
        "id": "a24e4bdc",
        "colab": {
          "base_uri": "https://localhost:8080/",
          "height": 0
        },
        "outputId": "8e0f04fe-cb7a-42f0-a3f2-e99ef0f28a7a"
      },
      "outputs": [
        {
          "output_type": "execute_result",
          "data": {
            "text/plain": [
              "0.0"
            ]
          },
          "metadata": {},
          "execution_count": 69
        }
      ],
      "source": [
        "###Getting percentile of variable\n",
        "np.percentile(df.Cloud3pm,[1])[0]"
      ]
    },
    {
      "cell_type": "code",
      "execution_count": 70,
      "id": "4e580873",
      "metadata": {
        "id": "4e580873",
        "colab": {
          "base_uri": "https://localhost:8080/",
          "height": 0
        },
        "outputId": "194ee4ac-0e5f-41c2-dcb4-580c99b453db"
      },
      "outputs": [
        {
          "output_type": "execute_result",
          "data": {
            "text/plain": [
              "27.863999999999987"
            ]
          },
          "metadata": {},
          "execution_count": 70
        }
      ],
      "source": [
        "###Getting percentile of variable\n",
        "np.percentile(df.Temp9am,[99])[0]"
      ]
    },
    {
      "cell_type": "code",
      "execution_count": 71,
      "id": "9f872274",
      "metadata": {
        "id": "9f872274",
        "colab": {
          "base_uri": "https://localhost:8080/",
          "height": 0
        },
        "outputId": "8f72301f-1912-47ae-f979-5a50ee2ca256"
      },
      "outputs": [
        {
          "output_type": "execute_result",
          "data": {
            "text/plain": [
              "8.5"
            ]
          },
          "metadata": {},
          "execution_count": 71
        }
      ],
      "source": [
        "###Getting percentile of variable\n",
        "np.percentile(df.Temp9am,[1])[0]"
      ]
    },
    {
      "cell_type": "code",
      "execution_count": 72,
      "id": "44ee6a3c",
      "metadata": {
        "id": "44ee6a3c",
        "colab": {
          "base_uri": "https://localhost:8080/",
          "height": 0
        },
        "outputId": "157d235a-7db8-49eb-b670-073b30903bdd"
      },
      "outputs": [
        {
          "output_type": "execute_result",
          "data": {
            "text/plain": [
              "32.76399999999999"
            ]
          },
          "metadata": {},
          "execution_count": 72
        }
      ],
      "source": [
        "###Getting percentile of variable\n",
        "np.percentile(df.Temp3pm,[99])[0]"
      ]
    },
    {
      "cell_type": "code",
      "execution_count": 73,
      "id": "3eaaed0d",
      "metadata": {
        "id": "3eaaed0d",
        "colab": {
          "base_uri": "https://localhost:8080/",
          "height": 0
        },
        "outputId": "6ecb041a-cbb4-488f-f9c6-7a10081f988c"
      },
      "outputs": [
        {
          "output_type": "execute_result",
          "data": {
            "text/plain": [
              "13.1"
            ]
          },
          "metadata": {},
          "execution_count": 73
        }
      ],
      "source": [
        "###Getting percentile of variable\n",
        "np.percentile(df.Temp3pm,[1])[0]"
      ]
    },
    {
      "cell_type": "code",
      "execution_count": 74,
      "id": "67fffbd4",
      "metadata": {
        "id": "67fffbd4",
        "colab": {
          "base_uri": "https://localhost:8080/",
          "height": 0
        },
        "outputId": "a9742d6f-b6c9-4690-995d-55391ab7c9dd"
      },
      "outputs": [
        {
          "output_type": "execute_result",
          "data": {
            "text/plain": [
              "1.0"
            ]
          },
          "metadata": {},
          "execution_count": 74
        }
      ],
      "source": [
        "###Getting percentile of variable\n",
        "np.percentile(df.RainToday,[99])[0]"
      ]
    },
    {
      "cell_type": "code",
      "execution_count": 75,
      "id": "e3349ebc",
      "metadata": {
        "id": "e3349ebc",
        "colab": {
          "base_uri": "https://localhost:8080/",
          "height": 0
        },
        "outputId": "f713941c-26cf-4770-9036-cc335bc8df5e"
      },
      "outputs": [
        {
          "output_type": "execute_result",
          "data": {
            "text/plain": [
              "0.0"
            ]
          },
          "metadata": {},
          "execution_count": 75
        }
      ],
      "source": [
        "###Getting percentile of variable\n",
        "np.percentile(df.RainToday,[1])[0]"
      ]
    },
    {
      "cell_type": "code",
      "execution_count": 76,
      "id": "f98624b8",
      "metadata": {
        "id": "f98624b8",
        "colab": {
          "base_uri": "https://localhost:8080/",
          "height": 0
        },
        "outputId": "dc36e8ea-6c56-4593-b9b2-b421a0ac2c2e"
      },
      "outputs": [
        {
          "output_type": "stream",
          "name": "stdout",
          "text": [
            "0\n"
          ]
        }
      ],
      "source": [
        "###Findinding duplicate values\n",
        "df1 = df[df.duplicated()]\n",
        "print(len(df1))"
      ]
    },
    {
      "cell_type": "markdown",
      "id": "ecdea19e",
      "metadata": {
        "id": "ecdea19e"
      },
      "source": [
        "### All The Preprocessing Operations Performed Till Now:\n",
        "     a.Data file loaded\n",
        "     b.Two unuseful fields 'Location' and 'Date'deleted\n",
        "     c.After applying EDD found missing values\n",
        "     d.Firsty missing values were treated because percentile value is non always\n",
        "     e.Mean,Median and mode were used for treating missing values\n",
        "     f.Outliers were found by Graph,percentile and EDD.seems sometime rare value but no big outliers like upper value 3 times of\n",
        "     99 percentile and lower value 0.3 of 1 percentile."
      ]
    },
    {
      "cell_type": "markdown",
      "id": "b04083ec",
      "metadata": {
        "id": "b04083ec"
      },
      "source": [
        "### Creating variables and Test-Train Split"
      ]
    },
    {
      "cell_type": "code",
      "execution_count": 77,
      "id": "de306e39",
      "metadata": {
        "id": "de306e39"
      },
      "outputs": [],
      "source": [
        "###creating dependent variable 'y' and independent variable 'x'\n",
        "x=df.loc[:, df.columns!=\"RainTomorrow\"]\n",
        "y=df[\"RainTomorrow\"]"
      ]
    },
    {
      "cell_type": "code",
      "execution_count": 78,
      "id": "78a90d1f",
      "metadata": {
        "id": "78a90d1f",
        "colab": {
          "base_uri": "https://localhost:8080/",
          "height": 0
        },
        "outputId": "6579feca-2dd9-4729-82a3-6b94794d2cd0"
      },
      "outputs": [
        {
          "output_type": "stream",
          "name": "stdout",
          "text": [
            "(3337, 14) (3337,)\n"
          ]
        }
      ],
      "source": [
        "###getting shape of x-y variable\n",
        "print(x.shape,y.shape)"
      ]
    },
    {
      "cell_type": "code",
      "execution_count": 79,
      "id": "13233792",
      "metadata": {
        "id": "13233792"
      },
      "outputs": [],
      "source": [
        "###spliting x and y variables in 80:20 ratio\n",
        "from sklearn.model_selection import train_test_split\n",
        "x_train,x_test,y_train,y_test= train_test_split(x,y, test_size=0.2, random_state=0)"
      ]
    },
    {
      "cell_type": "code",
      "execution_count": 80,
      "id": "d9294fa4",
      "metadata": {
        "id": "d9294fa4",
        "colab": {
          "base_uri": "https://localhost:8080/",
          "height": 0
        },
        "outputId": "b0ff7532-a4f3-4673-e704-c30844b77dfe"
      },
      "outputs": [
        {
          "output_type": "stream",
          "name": "stdout",
          "text": [
            "(2669, 14) (668, 14) (2669,) (668,)\n"
          ]
        }
      ],
      "source": [
        "### number of rows and columns in test-train data set\n",
        "print(x_train.shape, x_test.shape,y_train.shape, y_test.shape)"
      ]
    },
    {
      "cell_type": "markdown",
      "id": "5c72b289",
      "metadata": {
        "id": "5c72b289"
      },
      "source": [
        "### Model Creation:"
      ]
    },
    {
      "cell_type": "markdown",
      "id": "c1e0dc45",
      "metadata": {
        "id": "c1e0dc45"
      },
      "source": [
        "### 1.Simple Classification Tree"
      ]
    },
    {
      "cell_type": "code",
      "execution_count": 81,
      "id": "933586dd",
      "metadata": {
        "id": "933586dd"
      },
      "outputs": [],
      "source": [
        "### importing tree from sklearn library\n",
        "from sklearn import tree"
      ]
    },
    {
      "cell_type": "code",
      "execution_count": 82,
      "id": "16bf6b0c",
      "metadata": {
        "id": "16bf6b0c"
      },
      "outputs": [],
      "source": [
        "###creating object of decision tree classifier\n",
        "clf_tree=tree.DecisionTreeClassifier(max_depth=3)"
      ]
    },
    {
      "cell_type": "code",
      "execution_count": 83,
      "id": "a985662c",
      "metadata": {
        "id": "a985662c",
        "colab": {
          "base_uri": "https://localhost:8080/",
          "height": 74
        },
        "outputId": "d93c4228-dfcb-4607-82cd-99f546571cd4"
      },
      "outputs": [
        {
          "output_type": "execute_result",
          "data": {
            "text/plain": [
              "DecisionTreeClassifier(max_depth=3)"
            ],
            "text/html": [
              "<style>#sk-container-id-1 {color: black;background-color: white;}#sk-container-id-1 pre{padding: 0;}#sk-container-id-1 div.sk-toggleable {background-color: white;}#sk-container-id-1 label.sk-toggleable__label {cursor: pointer;display: block;width: 100%;margin-bottom: 0;padding: 0.3em;box-sizing: border-box;text-align: center;}#sk-container-id-1 label.sk-toggleable__label-arrow:before {content: \"▸\";float: left;margin-right: 0.25em;color: #696969;}#sk-container-id-1 label.sk-toggleable__label-arrow:hover:before {color: black;}#sk-container-id-1 div.sk-estimator:hover label.sk-toggleable__label-arrow:before {color: black;}#sk-container-id-1 div.sk-toggleable__content {max-height: 0;max-width: 0;overflow: hidden;text-align: left;background-color: #f0f8ff;}#sk-container-id-1 div.sk-toggleable__content pre {margin: 0.2em;color: black;border-radius: 0.25em;background-color: #f0f8ff;}#sk-container-id-1 input.sk-toggleable__control:checked~div.sk-toggleable__content {max-height: 200px;max-width: 100%;overflow: auto;}#sk-container-id-1 input.sk-toggleable__control:checked~label.sk-toggleable__label-arrow:before {content: \"▾\";}#sk-container-id-1 div.sk-estimator input.sk-toggleable__control:checked~label.sk-toggleable__label {background-color: #d4ebff;}#sk-container-id-1 div.sk-label input.sk-toggleable__control:checked~label.sk-toggleable__label {background-color: #d4ebff;}#sk-container-id-1 input.sk-hidden--visually {border: 0;clip: rect(1px 1px 1px 1px);clip: rect(1px, 1px, 1px, 1px);height: 1px;margin: -1px;overflow: hidden;padding: 0;position: absolute;width: 1px;}#sk-container-id-1 div.sk-estimator {font-family: monospace;background-color: #f0f8ff;border: 1px dotted black;border-radius: 0.25em;box-sizing: border-box;margin-bottom: 0.5em;}#sk-container-id-1 div.sk-estimator:hover {background-color: #d4ebff;}#sk-container-id-1 div.sk-parallel-item::after {content: \"\";width: 100%;border-bottom: 1px solid gray;flex-grow: 1;}#sk-container-id-1 div.sk-label:hover label.sk-toggleable__label {background-color: #d4ebff;}#sk-container-id-1 div.sk-serial::before {content: \"\";position: absolute;border-left: 1px solid gray;box-sizing: border-box;top: 0;bottom: 0;left: 50%;z-index: 0;}#sk-container-id-1 div.sk-serial {display: flex;flex-direction: column;align-items: center;background-color: white;padding-right: 0.2em;padding-left: 0.2em;position: relative;}#sk-container-id-1 div.sk-item {position: relative;z-index: 1;}#sk-container-id-1 div.sk-parallel {display: flex;align-items: stretch;justify-content: center;background-color: white;position: relative;}#sk-container-id-1 div.sk-item::before, #sk-container-id-1 div.sk-parallel-item::before {content: \"\";position: absolute;border-left: 1px solid gray;box-sizing: border-box;top: 0;bottom: 0;left: 50%;z-index: -1;}#sk-container-id-1 div.sk-parallel-item {display: flex;flex-direction: column;z-index: 1;position: relative;background-color: white;}#sk-container-id-1 div.sk-parallel-item:first-child::after {align-self: flex-end;width: 50%;}#sk-container-id-1 div.sk-parallel-item:last-child::after {align-self: flex-start;width: 50%;}#sk-container-id-1 div.sk-parallel-item:only-child::after {width: 0;}#sk-container-id-1 div.sk-dashed-wrapped {border: 1px dashed gray;margin: 0 0.4em 0.5em 0.4em;box-sizing: border-box;padding-bottom: 0.4em;background-color: white;}#sk-container-id-1 div.sk-label label {font-family: monospace;font-weight: bold;display: inline-block;line-height: 1.2em;}#sk-container-id-1 div.sk-label-container {text-align: center;}#sk-container-id-1 div.sk-container {/* jupyter's `normalize.less` sets `[hidden] { display: none; }` but bootstrap.min.css set `[hidden] { display: none !important; }` so we also need the `!important` here to be able to override the default hidden behavior on the sphinx rendered scikit-learn.org. See: https://github.com/scikit-learn/scikit-learn/issues/21755 */display: inline-block !important;position: relative;}#sk-container-id-1 div.sk-text-repr-fallback {display: none;}</style><div id=\"sk-container-id-1\" class=\"sk-top-container\"><div class=\"sk-text-repr-fallback\"><pre>DecisionTreeClassifier(max_depth=3)</pre><b>In a Jupyter environment, please rerun this cell to show the HTML representation or trust the notebook. <br />On GitHub, the HTML representation is unable to render, please try loading this page with nbviewer.org.</b></div><div class=\"sk-container\" hidden><div class=\"sk-item\"><div class=\"sk-estimator sk-toggleable\"><input class=\"sk-toggleable__control sk-hidden--visually\" id=\"sk-estimator-id-1\" type=\"checkbox\" checked><label for=\"sk-estimator-id-1\" class=\"sk-toggleable__label sk-toggleable__label-arrow\">DecisionTreeClassifier</label><div class=\"sk-toggleable__content\"><pre>DecisionTreeClassifier(max_depth=3)</pre></div></div></div></div></div>"
            ]
          },
          "metadata": {},
          "execution_count": 83
        }
      ],
      "source": [
        "### fitting x_train and y_train on object of classifier\n",
        "clf_tree.fit(x_train,y_train)"
      ]
    },
    {
      "cell_type": "code",
      "execution_count": 84,
      "id": "bec12f78",
      "metadata": {
        "id": "bec12f78"
      },
      "outputs": [],
      "source": [
        "### predicting y_train and y_test variable\n",
        "y_train_pred=clf_tree.predict(x_train)\n",
        "y_test_pred=clf_tree.predict(x_test)"
      ]
    },
    {
      "cell_type": "code",
      "execution_count": 85,
      "id": "fe95dd71",
      "metadata": {
        "id": "fe95dd71"
      },
      "outputs": [],
      "source": [
        "### importing recall,precision,accuracy and confusion matrix from sklearn library\n",
        "from sklearn.metrics import roc_auc_score, precision_score, recall_score, accuracy_score,confusion_matrix"
      ]
    },
    {
      "cell_type": "code",
      "execution_count": 86,
      "id": "d8543edc",
      "metadata": {
        "id": "d8543edc",
        "colab": {
          "base_uri": "https://localhost:8080/",
          "height": 0
        },
        "outputId": "034776ed-a483-4655-eec9-17be9b8742d8"
      },
      "outputs": [
        {
          "output_type": "execute_result",
          "data": {
            "text/plain": [
              "array([[460,  50],\n",
              "       [ 75,  83]])"
            ]
          },
          "metadata": {},
          "execution_count": 86
        }
      ],
      "source": [
        "### creating confusion matrix of y_test and y_test_pred variables\n",
        "confusion_matrix(y_test,y_test_pred)"
      ]
    },
    {
      "cell_type": "code",
      "execution_count": 87,
      "id": "1d156144",
      "metadata": {
        "id": "1d156144",
        "colab": {
          "base_uri": "https://localhost:8080/",
          "height": 0
        },
        "outputId": "c64d2e4e-d0cb-4ea6-91f5-021c05c32af3"
      },
      "outputs": [
        {
          "output_type": "execute_result",
          "data": {
            "text/plain": [
              "0.6240601503759399"
            ]
          },
          "metadata": {},
          "execution_count": 87
        }
      ],
      "source": [
        "### finding precision score of y_test and y_test_pred\n",
        "precision_score(y_test,y_test_pred)"
      ]
    },
    {
      "cell_type": "code",
      "execution_count": 88,
      "id": "639107eb",
      "metadata": {
        "id": "639107eb",
        "colab": {
          "base_uri": "https://localhost:8080/",
          "height": 0
        },
        "outputId": "7d2c6cf7-edd9-49e1-e377-ace8037c3506"
      },
      "outputs": [
        {
          "output_type": "execute_result",
          "data": {
            "text/plain": [
              "0.5253164556962026"
            ]
          },
          "metadata": {},
          "execution_count": 88
        }
      ],
      "source": [
        "### finding recall score of y_test and y_test_pred\n",
        "recall_score(y_test,y_test_pred)"
      ]
    },
    {
      "cell_type": "code",
      "execution_count": 89,
      "id": "a21331a8",
      "metadata": {
        "id": "a21331a8",
        "colab": {
          "base_uri": "https://localhost:8080/",
          "height": 0
        },
        "outputId": "6eb1e9ec-57da-49a2-be5b-aca0f09e566a"
      },
      "outputs": [
        {
          "output_type": "execute_result",
          "data": {
            "text/plain": [
              "0.7136386200049641"
            ]
          },
          "metadata": {},
          "execution_count": 89
        }
      ],
      "source": [
        "### finding roc_auc score of y_test and y_test_pred\n",
        "roc_auc_score(y_test,y_test_pred)"
      ]
    },
    {
      "cell_type": "code",
      "execution_count": 90,
      "id": "1ea4aeeb",
      "metadata": {
        "id": "1ea4aeeb",
        "colab": {
          "base_uri": "https://localhost:8080/",
          "height": 0
        },
        "outputId": "012d1b09-4aea-4a9d-d694-d63c63350531"
      },
      "outputs": [
        {
          "output_type": "execute_result",
          "data": {
            "text/plain": [
              "0.812874251497006"
            ]
          },
          "metadata": {},
          "execution_count": 90
        }
      ],
      "source": [
        "### finding accuracy score of y_test and y_test_pred\n",
        "accuracy_score(y_test,y_test_pred)"
      ]
    },
    {
      "cell_type": "code",
      "source": [
        "### finding accuracy score of y_train and y_train_pred\n",
        "accuracy_score(y_train,y_train_pred)"
      ],
      "metadata": {
        "colab": {
          "base_uri": "https://localhost:8080/",
          "height": 0
        },
        "id": "MolyCt3Jvv2X",
        "outputId": "d18bc9ae-6136-4f0f-d3a6-9fb873275878"
      },
      "id": "MolyCt3Jvv2X",
      "execution_count": 91,
      "outputs": [
        {
          "output_type": "execute_result",
          "data": {
            "text/plain": [
              "0.8261521168977145"
            ]
          },
          "metadata": {},
          "execution_count": 91
        }
      ]
    },
    {
      "cell_type": "markdown",
      "id": "4d2067e4",
      "metadata": {
        "id": "4d2067e4"
      },
      "source": [
        "### 2.Bagging classification Tree"
      ]
    },
    {
      "cell_type": "code",
      "execution_count": 92,
      "id": "31a904da",
      "metadata": {
        "id": "31a904da"
      },
      "outputs": [],
      "source": [
        "###importing bagging from sklearn library\n",
        "from sklearn.ensemble import BaggingClassifier"
      ]
    },
    {
      "cell_type": "code",
      "execution_count": 93,
      "id": "5a1e4f7b",
      "metadata": {
        "id": "5a1e4f7b"
      },
      "outputs": [],
      "source": [
        "### creating object of decision tree classifier\n",
        "clf_tree= tree.DecisionTreeClassifier()"
      ]
    },
    {
      "cell_type": "code",
      "execution_count": 94,
      "id": "b97b9a37",
      "metadata": {
        "id": "b97b9a37"
      },
      "outputs": [],
      "source": [
        "### creating object of bagging classifier\n",
        "clf_bag_tree=BaggingClassifier(base_estimator=clf_tree, n_estimators=10, bootstrap=True, n_jobs=-1, random_state=0)"
      ]
    },
    {
      "cell_type": "code",
      "execution_count": 95,
      "id": "7acd227f",
      "metadata": {
        "id": "7acd227f",
        "colab": {
          "base_uri": "https://localhost:8080/",
          "height": 151
        },
        "outputId": "60aab149-06e7-49d4-92bb-4b507ecb7402"
      },
      "outputs": [
        {
          "output_type": "stream",
          "name": "stderr",
          "text": [
            "/usr/local/lib/python3.10/dist-packages/sklearn/ensemble/_base.py:166: FutureWarning: `base_estimator` was renamed to `estimator` in version 1.2 and will be removed in 1.4.\n",
            "  warnings.warn(\n"
          ]
        },
        {
          "output_type": "execute_result",
          "data": {
            "text/plain": [
              "BaggingClassifier(base_estimator=DecisionTreeClassifier(), n_jobs=-1,\n",
              "                  random_state=0)"
            ],
            "text/html": [
              "<style>#sk-container-id-2 {color: black;background-color: white;}#sk-container-id-2 pre{padding: 0;}#sk-container-id-2 div.sk-toggleable {background-color: white;}#sk-container-id-2 label.sk-toggleable__label {cursor: pointer;display: block;width: 100%;margin-bottom: 0;padding: 0.3em;box-sizing: border-box;text-align: center;}#sk-container-id-2 label.sk-toggleable__label-arrow:before {content: \"▸\";float: left;margin-right: 0.25em;color: #696969;}#sk-container-id-2 label.sk-toggleable__label-arrow:hover:before {color: black;}#sk-container-id-2 div.sk-estimator:hover label.sk-toggleable__label-arrow:before {color: black;}#sk-container-id-2 div.sk-toggleable__content {max-height: 0;max-width: 0;overflow: hidden;text-align: left;background-color: #f0f8ff;}#sk-container-id-2 div.sk-toggleable__content pre {margin: 0.2em;color: black;border-radius: 0.25em;background-color: #f0f8ff;}#sk-container-id-2 input.sk-toggleable__control:checked~div.sk-toggleable__content {max-height: 200px;max-width: 100%;overflow: auto;}#sk-container-id-2 input.sk-toggleable__control:checked~label.sk-toggleable__label-arrow:before {content: \"▾\";}#sk-container-id-2 div.sk-estimator input.sk-toggleable__control:checked~label.sk-toggleable__label {background-color: #d4ebff;}#sk-container-id-2 div.sk-label input.sk-toggleable__control:checked~label.sk-toggleable__label {background-color: #d4ebff;}#sk-container-id-2 input.sk-hidden--visually {border: 0;clip: rect(1px 1px 1px 1px);clip: rect(1px, 1px, 1px, 1px);height: 1px;margin: -1px;overflow: hidden;padding: 0;position: absolute;width: 1px;}#sk-container-id-2 div.sk-estimator {font-family: monospace;background-color: #f0f8ff;border: 1px dotted black;border-radius: 0.25em;box-sizing: border-box;margin-bottom: 0.5em;}#sk-container-id-2 div.sk-estimator:hover {background-color: #d4ebff;}#sk-container-id-2 div.sk-parallel-item::after {content: \"\";width: 100%;border-bottom: 1px solid gray;flex-grow: 1;}#sk-container-id-2 div.sk-label:hover label.sk-toggleable__label {background-color: #d4ebff;}#sk-container-id-2 div.sk-serial::before {content: \"\";position: absolute;border-left: 1px solid gray;box-sizing: border-box;top: 0;bottom: 0;left: 50%;z-index: 0;}#sk-container-id-2 div.sk-serial {display: flex;flex-direction: column;align-items: center;background-color: white;padding-right: 0.2em;padding-left: 0.2em;position: relative;}#sk-container-id-2 div.sk-item {position: relative;z-index: 1;}#sk-container-id-2 div.sk-parallel {display: flex;align-items: stretch;justify-content: center;background-color: white;position: relative;}#sk-container-id-2 div.sk-item::before, #sk-container-id-2 div.sk-parallel-item::before {content: \"\";position: absolute;border-left: 1px solid gray;box-sizing: border-box;top: 0;bottom: 0;left: 50%;z-index: -1;}#sk-container-id-2 div.sk-parallel-item {display: flex;flex-direction: column;z-index: 1;position: relative;background-color: white;}#sk-container-id-2 div.sk-parallel-item:first-child::after {align-self: flex-end;width: 50%;}#sk-container-id-2 div.sk-parallel-item:last-child::after {align-self: flex-start;width: 50%;}#sk-container-id-2 div.sk-parallel-item:only-child::after {width: 0;}#sk-container-id-2 div.sk-dashed-wrapped {border: 1px dashed gray;margin: 0 0.4em 0.5em 0.4em;box-sizing: border-box;padding-bottom: 0.4em;background-color: white;}#sk-container-id-2 div.sk-label label {font-family: monospace;font-weight: bold;display: inline-block;line-height: 1.2em;}#sk-container-id-2 div.sk-label-container {text-align: center;}#sk-container-id-2 div.sk-container {/* jupyter's `normalize.less` sets `[hidden] { display: none; }` but bootstrap.min.css set `[hidden] { display: none !important; }` so we also need the `!important` here to be able to override the default hidden behavior on the sphinx rendered scikit-learn.org. See: https://github.com/scikit-learn/scikit-learn/issues/21755 */display: inline-block !important;position: relative;}#sk-container-id-2 div.sk-text-repr-fallback {display: none;}</style><div id=\"sk-container-id-2\" class=\"sk-top-container\"><div class=\"sk-text-repr-fallback\"><pre>BaggingClassifier(base_estimator=DecisionTreeClassifier(), n_jobs=-1,\n",
              "                  random_state=0)</pre><b>In a Jupyter environment, please rerun this cell to show the HTML representation or trust the notebook. <br />On GitHub, the HTML representation is unable to render, please try loading this page with nbviewer.org.</b></div><div class=\"sk-container\" hidden><div class=\"sk-item sk-dashed-wrapped\"><div class=\"sk-label-container\"><div class=\"sk-label sk-toggleable\"><input class=\"sk-toggleable__control sk-hidden--visually\" id=\"sk-estimator-id-2\" type=\"checkbox\" ><label for=\"sk-estimator-id-2\" class=\"sk-toggleable__label sk-toggleable__label-arrow\">BaggingClassifier</label><div class=\"sk-toggleable__content\"><pre>BaggingClassifier(base_estimator=DecisionTreeClassifier(), n_jobs=-1,\n",
              "                  random_state=0)</pre></div></div></div><div class=\"sk-parallel\"><div class=\"sk-parallel-item\"><div class=\"sk-item\"><div class=\"sk-label-container\"><div class=\"sk-label sk-toggleable\"><input class=\"sk-toggleable__control sk-hidden--visually\" id=\"sk-estimator-id-3\" type=\"checkbox\" ><label for=\"sk-estimator-id-3\" class=\"sk-toggleable__label sk-toggleable__label-arrow\">base_estimator: DecisionTreeClassifier</label><div class=\"sk-toggleable__content\"><pre>DecisionTreeClassifier()</pre></div></div></div><div class=\"sk-serial\"><div class=\"sk-item\"><div class=\"sk-estimator sk-toggleable\"><input class=\"sk-toggleable__control sk-hidden--visually\" id=\"sk-estimator-id-4\" type=\"checkbox\" ><label for=\"sk-estimator-id-4\" class=\"sk-toggleable__label sk-toggleable__label-arrow\">DecisionTreeClassifier</label><div class=\"sk-toggleable__content\"><pre>DecisionTreeClassifier()</pre></div></div></div></div></div></div></div></div></div></div>"
            ]
          },
          "metadata": {},
          "execution_count": 95
        }
      ],
      "source": [
        "### fitting x_train and y_train on bagging classifier object\n",
        "clf_bag_tree.fit(x_train,y_train)"
      ]
    },
    {
      "cell_type": "code",
      "execution_count": 96,
      "id": "0f981640",
      "metadata": {
        "id": "0f981640"
      },
      "outputs": [],
      "source": [
        "###predicting y_train and y_test variables\n",
        "y_train_pred=clf_bag_tree.predict(x_train)\n",
        "y_test_pred=clf_bag_tree.predict(x_test)"
      ]
    },
    {
      "cell_type": "code",
      "execution_count": 97,
      "id": "e82fb136",
      "metadata": {
        "id": "e82fb136",
        "colab": {
          "base_uri": "https://localhost:8080/",
          "height": 0
        },
        "outputId": "9612b376-7e50-49c6-ba56-2ad15353cf27"
      },
      "outputs": [
        {
          "output_type": "execute_result",
          "data": {
            "text/plain": [
              "array([[475,  35],\n",
              "       [ 84,  74]])"
            ]
          },
          "metadata": {},
          "execution_count": 97
        }
      ],
      "source": [
        "### creating confusin matrix of y_test and y_test_pred\n",
        "confusion_matrix(y_test,y_test_pred)"
      ]
    },
    {
      "cell_type": "code",
      "execution_count": 98,
      "id": "7a3fa3c1",
      "metadata": {
        "id": "7a3fa3c1",
        "colab": {
          "base_uri": "https://localhost:8080/",
          "height": 0
        },
        "outputId": "1659b7e6-5a64-416e-81b6-e010525ea56c"
      },
      "outputs": [
        {
          "output_type": "execute_result",
          "data": {
            "text/plain": [
              "0.6788990825688074"
            ]
          },
          "metadata": {},
          "execution_count": 98
        }
      ],
      "source": [
        "### finding precision score of y_test and y_test_pred\n",
        "precision_score(y_test,y_test_pred)"
      ]
    },
    {
      "cell_type": "code",
      "execution_count": 99,
      "id": "67e28716",
      "metadata": {
        "id": "67e28716",
        "colab": {
          "base_uri": "https://localhost:8080/",
          "height": 0
        },
        "outputId": "63790377-8b5a-4a73-fdf9-c60d638347ab"
      },
      "outputs": [
        {
          "output_type": "execute_result",
          "data": {
            "text/plain": [
              "0.46835443037974683"
            ]
          },
          "metadata": {},
          "execution_count": 99
        }
      ],
      "source": [
        "###finding recall score of y_test and y_test_pred\n",
        "recall_score(y_test,y_test_pred)"
      ]
    },
    {
      "cell_type": "code",
      "execution_count": 100,
      "id": "6b9764c8",
      "metadata": {
        "id": "6b9764c8",
        "colab": {
          "base_uri": "https://localhost:8080/",
          "height": 0
        },
        "outputId": "acd6687d-098c-4b6e-8b93-8275b2c33e79"
      },
      "outputs": [
        {
          "output_type": "execute_result",
          "data": {
            "text/plain": [
              "0.6998634896996774"
            ]
          },
          "metadata": {},
          "execution_count": 100
        }
      ],
      "source": [
        "###finding roc_auc score of y_test and y_test_pred\n",
        "roc_auc_score(y_test,y_test_pred)"
      ]
    },
    {
      "cell_type": "code",
      "execution_count": 101,
      "id": "764b0db2",
      "metadata": {
        "id": "764b0db2",
        "colab": {
          "base_uri": "https://localhost:8080/",
          "height": 0
        },
        "outputId": "82bbc9da-9ced-470b-aa86-d6fc683e4258"
      },
      "outputs": [
        {
          "output_type": "execute_result",
          "data": {
            "text/plain": [
              "0.8218562874251497"
            ]
          },
          "metadata": {},
          "execution_count": 101
        }
      ],
      "source": [
        "###finding accuracy score of y_test and y_test_pred\n",
        "accuracy_score(y_test,y_test_pred)"
      ]
    },
    {
      "cell_type": "code",
      "source": [
        "### finding accuracy score of y_train and y_train_pred\n",
        "accuracy_score(y_train,y_train_pred)"
      ],
      "metadata": {
        "colab": {
          "base_uri": "https://localhost:8080/",
          "height": 0
        },
        "id": "VSAYhQQwwIi_",
        "outputId": "0e656ce4-ba0d-4b4f-ef3a-45275d91cfae"
      },
      "id": "VSAYhQQwwIi_",
      "execution_count": 102,
      "outputs": [
        {
          "output_type": "execute_result",
          "data": {
            "text/plain": [
              "0.9797677032596478"
            ]
          },
          "metadata": {},
          "execution_count": 102
        }
      ]
    },
    {
      "cell_type": "markdown",
      "id": "f8ac0ae3",
      "metadata": {
        "id": "f8ac0ae3"
      },
      "source": [
        "### 3.Random Forest Classifier"
      ]
    },
    {
      "cell_type": "code",
      "execution_count": 103,
      "id": "daff34db",
      "metadata": {
        "id": "daff34db"
      },
      "outputs": [],
      "source": [
        "### importing random forest classifier\n",
        "from sklearn.ensemble import RandomForestClassifier"
      ]
    },
    {
      "cell_type": "code",
      "execution_count": 104,
      "id": "5407f1c7",
      "metadata": {
        "id": "5407f1c7"
      },
      "outputs": [],
      "source": [
        "###creating object of random forest classifier\n",
        "rf_clf=RandomForestClassifier(n_estimators=10, n_jobs=-1,random_state=0)"
      ]
    },
    {
      "cell_type": "code",
      "execution_count": 105,
      "id": "ee0b4474",
      "metadata": {
        "id": "ee0b4474",
        "colab": {
          "base_uri": "https://localhost:8080/",
          "height": 74
        },
        "outputId": "bc747095-f147-4cbb-9d98-b651d5acb597"
      },
      "outputs": [
        {
          "output_type": "execute_result",
          "data": {
            "text/plain": [
              "RandomForestClassifier(n_estimators=10, n_jobs=-1, random_state=0)"
            ],
            "text/html": [
              "<style>#sk-container-id-3 {color: black;background-color: white;}#sk-container-id-3 pre{padding: 0;}#sk-container-id-3 div.sk-toggleable {background-color: white;}#sk-container-id-3 label.sk-toggleable__label {cursor: pointer;display: block;width: 100%;margin-bottom: 0;padding: 0.3em;box-sizing: border-box;text-align: center;}#sk-container-id-3 label.sk-toggleable__label-arrow:before {content: \"▸\";float: left;margin-right: 0.25em;color: #696969;}#sk-container-id-3 label.sk-toggleable__label-arrow:hover:before {color: black;}#sk-container-id-3 div.sk-estimator:hover label.sk-toggleable__label-arrow:before {color: black;}#sk-container-id-3 div.sk-toggleable__content {max-height: 0;max-width: 0;overflow: hidden;text-align: left;background-color: #f0f8ff;}#sk-container-id-3 div.sk-toggleable__content pre {margin: 0.2em;color: black;border-radius: 0.25em;background-color: #f0f8ff;}#sk-container-id-3 input.sk-toggleable__control:checked~div.sk-toggleable__content {max-height: 200px;max-width: 100%;overflow: auto;}#sk-container-id-3 input.sk-toggleable__control:checked~label.sk-toggleable__label-arrow:before {content: \"▾\";}#sk-container-id-3 div.sk-estimator input.sk-toggleable__control:checked~label.sk-toggleable__label {background-color: #d4ebff;}#sk-container-id-3 div.sk-label input.sk-toggleable__control:checked~label.sk-toggleable__label {background-color: #d4ebff;}#sk-container-id-3 input.sk-hidden--visually {border: 0;clip: rect(1px 1px 1px 1px);clip: rect(1px, 1px, 1px, 1px);height: 1px;margin: -1px;overflow: hidden;padding: 0;position: absolute;width: 1px;}#sk-container-id-3 div.sk-estimator {font-family: monospace;background-color: #f0f8ff;border: 1px dotted black;border-radius: 0.25em;box-sizing: border-box;margin-bottom: 0.5em;}#sk-container-id-3 div.sk-estimator:hover {background-color: #d4ebff;}#sk-container-id-3 div.sk-parallel-item::after {content: \"\";width: 100%;border-bottom: 1px solid gray;flex-grow: 1;}#sk-container-id-3 div.sk-label:hover label.sk-toggleable__label {background-color: #d4ebff;}#sk-container-id-3 div.sk-serial::before {content: \"\";position: absolute;border-left: 1px solid gray;box-sizing: border-box;top: 0;bottom: 0;left: 50%;z-index: 0;}#sk-container-id-3 div.sk-serial {display: flex;flex-direction: column;align-items: center;background-color: white;padding-right: 0.2em;padding-left: 0.2em;position: relative;}#sk-container-id-3 div.sk-item {position: relative;z-index: 1;}#sk-container-id-3 div.sk-parallel {display: flex;align-items: stretch;justify-content: center;background-color: white;position: relative;}#sk-container-id-3 div.sk-item::before, #sk-container-id-3 div.sk-parallel-item::before {content: \"\";position: absolute;border-left: 1px solid gray;box-sizing: border-box;top: 0;bottom: 0;left: 50%;z-index: -1;}#sk-container-id-3 div.sk-parallel-item {display: flex;flex-direction: column;z-index: 1;position: relative;background-color: white;}#sk-container-id-3 div.sk-parallel-item:first-child::after {align-self: flex-end;width: 50%;}#sk-container-id-3 div.sk-parallel-item:last-child::after {align-self: flex-start;width: 50%;}#sk-container-id-3 div.sk-parallel-item:only-child::after {width: 0;}#sk-container-id-3 div.sk-dashed-wrapped {border: 1px dashed gray;margin: 0 0.4em 0.5em 0.4em;box-sizing: border-box;padding-bottom: 0.4em;background-color: white;}#sk-container-id-3 div.sk-label label {font-family: monospace;font-weight: bold;display: inline-block;line-height: 1.2em;}#sk-container-id-3 div.sk-label-container {text-align: center;}#sk-container-id-3 div.sk-container {/* jupyter's `normalize.less` sets `[hidden] { display: none; }` but bootstrap.min.css set `[hidden] { display: none !important; }` so we also need the `!important` here to be able to override the default hidden behavior on the sphinx rendered scikit-learn.org. See: https://github.com/scikit-learn/scikit-learn/issues/21755 */display: inline-block !important;position: relative;}#sk-container-id-3 div.sk-text-repr-fallback {display: none;}</style><div id=\"sk-container-id-3\" class=\"sk-top-container\"><div class=\"sk-text-repr-fallback\"><pre>RandomForestClassifier(n_estimators=10, n_jobs=-1, random_state=0)</pre><b>In a Jupyter environment, please rerun this cell to show the HTML representation or trust the notebook. <br />On GitHub, the HTML representation is unable to render, please try loading this page with nbviewer.org.</b></div><div class=\"sk-container\" hidden><div class=\"sk-item\"><div class=\"sk-estimator sk-toggleable\"><input class=\"sk-toggleable__control sk-hidden--visually\" id=\"sk-estimator-id-5\" type=\"checkbox\" checked><label for=\"sk-estimator-id-5\" class=\"sk-toggleable__label sk-toggleable__label-arrow\">RandomForestClassifier</label><div class=\"sk-toggleable__content\"><pre>RandomForestClassifier(n_estimators=10, n_jobs=-1, random_state=0)</pre></div></div></div></div></div>"
            ]
          },
          "metadata": {},
          "execution_count": 105
        }
      ],
      "source": [
        "###fitting x_train and y_train on randomclassifier object\n",
        "rf_clf.fit(x_train,y_train)"
      ]
    },
    {
      "cell_type": "code",
      "execution_count": 106,
      "id": "7f71073b",
      "metadata": {
        "id": "7f71073b"
      },
      "outputs": [],
      "source": [
        "###predicting y_train and y_test variables\n",
        "y_train_pred=rf_clf.predict(x_train)\n",
        "y_test_pred=rf_clf.predict(x_test)"
      ]
    },
    {
      "cell_type": "code",
      "execution_count": 107,
      "id": "c2b0d472",
      "metadata": {
        "id": "c2b0d472",
        "colab": {
          "base_uri": "https://localhost:8080/",
          "height": 0
        },
        "outputId": "d5020059-ebf0-4a66-f8c6-30b39b5a2fb3"
      },
      "outputs": [
        {
          "output_type": "execute_result",
          "data": {
            "text/plain": [
              "array([[482,  28],\n",
              "       [ 85,  73]])"
            ]
          },
          "metadata": {},
          "execution_count": 107
        }
      ],
      "source": [
        "###creating confusion matrix of y_test and y_test_pred\n",
        "confusion_matrix(y_test,y_test_pred)"
      ]
    },
    {
      "cell_type": "code",
      "execution_count": 108,
      "id": "db841072",
      "metadata": {
        "id": "db841072",
        "colab": {
          "base_uri": "https://localhost:8080/",
          "height": 0
        },
        "outputId": "9fee700f-6c7b-4b73-e5b1-bc55d171f7e8"
      },
      "outputs": [
        {
          "output_type": "execute_result",
          "data": {
            "text/plain": [
              "0.7227722772277227"
            ]
          },
          "metadata": {},
          "execution_count": 108
        }
      ],
      "source": [
        "###finding precision score of y_test and y_test_pred\n",
        "precision_score(y_test,y_test_pred)"
      ]
    },
    {
      "cell_type": "code",
      "execution_count": 109,
      "id": "801f5c9f",
      "metadata": {
        "id": "801f5c9f",
        "colab": {
          "base_uri": "https://localhost:8080/",
          "height": 0
        },
        "outputId": "48b99c31-04b8-4040-d61e-0a71568c62f7"
      },
      "outputs": [
        {
          "output_type": "execute_result",
          "data": {
            "text/plain": [
              "0.4620253164556962"
            ]
          },
          "metadata": {},
          "execution_count": 109
        }
      ],
      "source": [
        "###finding recall score of y_test and y_test_pred\n",
        "recall_score(y_test,y_test_pred)"
      ]
    },
    {
      "cell_type": "code",
      "execution_count": 110,
      "id": "9f7bad36",
      "metadata": {
        "id": "9f7bad36",
        "colab": {
          "base_uri": "https://localhost:8080/",
          "height": 0
        },
        "outputId": "cb8dd62e-612e-4d9e-d1fa-d99bd83b5003"
      },
      "outputs": [
        {
          "output_type": "execute_result",
          "data": {
            "text/plain": [
              "0.7035616778356912"
            ]
          },
          "metadata": {},
          "execution_count": 110
        }
      ],
      "source": [
        "###finding roc_auc score of y_test and y_test_pred\n",
        "roc_auc_score(y_test,y_test_pred)"
      ]
    },
    {
      "cell_type": "code",
      "execution_count": 111,
      "id": "a53e209d",
      "metadata": {
        "id": "a53e209d",
        "colab": {
          "base_uri": "https://localhost:8080/",
          "height": 0
        },
        "outputId": "3d65ee26-78f4-4fa5-8e5e-875a8da69f8d"
      },
      "outputs": [
        {
          "output_type": "execute_result",
          "data": {
            "text/plain": [
              "0.8308383233532934"
            ]
          },
          "metadata": {},
          "execution_count": 111
        }
      ],
      "source": [
        "###finding accuracy score of y_test and y_test_pred\n",
        "accuracy_score(y_test,y_test_pred)"
      ]
    },
    {
      "cell_type": "code",
      "source": [
        "### finding accuracy score of y_train and y_train_pred\n",
        "accuracy_score(y_train,y_train_pred)"
      ],
      "metadata": {
        "colab": {
          "base_uri": "https://localhost:8080/",
          "height": 0
        },
        "id": "P_copqv-wPyR",
        "outputId": "2d8aeb2f-eb3b-4d11-8638-3c83c510042f"
      },
      "id": "P_copqv-wPyR",
      "execution_count": 112,
      "outputs": [
        {
          "output_type": "execute_result",
          "data": {
            "text/plain": [
              "0.9801423754215062"
            ]
          },
          "metadata": {},
          "execution_count": 112
        }
      ]
    },
    {
      "cell_type": "markdown",
      "id": "1fd8862a",
      "metadata": {
        "id": "1fd8862a"
      },
      "source": [
        "### 4.Gradient_boosting"
      ]
    },
    {
      "cell_type": "code",
      "execution_count": 113,
      "id": "b07f8dbe",
      "metadata": {
        "id": "b07f8dbe"
      },
      "outputs": [],
      "source": [
        "###importing gradient boosting classifier from sklearn\n",
        "from sklearn.ensemble import GradientBoostingClassifier"
      ]
    },
    {
      "cell_type": "code",
      "execution_count": 114,
      "id": "a984c97a",
      "metadata": {
        "id": "a984c97a"
      },
      "outputs": [],
      "source": [
        "###creating gradient boosting classifier object\n",
        "gb_clf=GradientBoostingClassifier(random_state=0)"
      ]
    },
    {
      "cell_type": "code",
      "execution_count": 115,
      "id": "43c3cae0",
      "metadata": {
        "id": "43c3cae0",
        "colab": {
          "base_uri": "https://localhost:8080/",
          "height": 74
        },
        "outputId": "fa765315-7cc3-42d8-8a1c-d72fd1f8398d"
      },
      "outputs": [
        {
          "output_type": "execute_result",
          "data": {
            "text/plain": [
              "GradientBoostingClassifier(random_state=0)"
            ],
            "text/html": [
              "<style>#sk-container-id-4 {color: black;background-color: white;}#sk-container-id-4 pre{padding: 0;}#sk-container-id-4 div.sk-toggleable {background-color: white;}#sk-container-id-4 label.sk-toggleable__label {cursor: pointer;display: block;width: 100%;margin-bottom: 0;padding: 0.3em;box-sizing: border-box;text-align: center;}#sk-container-id-4 label.sk-toggleable__label-arrow:before {content: \"▸\";float: left;margin-right: 0.25em;color: #696969;}#sk-container-id-4 label.sk-toggleable__label-arrow:hover:before {color: black;}#sk-container-id-4 div.sk-estimator:hover label.sk-toggleable__label-arrow:before {color: black;}#sk-container-id-4 div.sk-toggleable__content {max-height: 0;max-width: 0;overflow: hidden;text-align: left;background-color: #f0f8ff;}#sk-container-id-4 div.sk-toggleable__content pre {margin: 0.2em;color: black;border-radius: 0.25em;background-color: #f0f8ff;}#sk-container-id-4 input.sk-toggleable__control:checked~div.sk-toggleable__content {max-height: 200px;max-width: 100%;overflow: auto;}#sk-container-id-4 input.sk-toggleable__control:checked~label.sk-toggleable__label-arrow:before {content: \"▾\";}#sk-container-id-4 div.sk-estimator input.sk-toggleable__control:checked~label.sk-toggleable__label {background-color: #d4ebff;}#sk-container-id-4 div.sk-label input.sk-toggleable__control:checked~label.sk-toggleable__label {background-color: #d4ebff;}#sk-container-id-4 input.sk-hidden--visually {border: 0;clip: rect(1px 1px 1px 1px);clip: rect(1px, 1px, 1px, 1px);height: 1px;margin: -1px;overflow: hidden;padding: 0;position: absolute;width: 1px;}#sk-container-id-4 div.sk-estimator {font-family: monospace;background-color: #f0f8ff;border: 1px dotted black;border-radius: 0.25em;box-sizing: border-box;margin-bottom: 0.5em;}#sk-container-id-4 div.sk-estimator:hover {background-color: #d4ebff;}#sk-container-id-4 div.sk-parallel-item::after {content: \"\";width: 100%;border-bottom: 1px solid gray;flex-grow: 1;}#sk-container-id-4 div.sk-label:hover label.sk-toggleable__label {background-color: #d4ebff;}#sk-container-id-4 div.sk-serial::before {content: \"\";position: absolute;border-left: 1px solid gray;box-sizing: border-box;top: 0;bottom: 0;left: 50%;z-index: 0;}#sk-container-id-4 div.sk-serial {display: flex;flex-direction: column;align-items: center;background-color: white;padding-right: 0.2em;padding-left: 0.2em;position: relative;}#sk-container-id-4 div.sk-item {position: relative;z-index: 1;}#sk-container-id-4 div.sk-parallel {display: flex;align-items: stretch;justify-content: center;background-color: white;position: relative;}#sk-container-id-4 div.sk-item::before, #sk-container-id-4 div.sk-parallel-item::before {content: \"\";position: absolute;border-left: 1px solid gray;box-sizing: border-box;top: 0;bottom: 0;left: 50%;z-index: -1;}#sk-container-id-4 div.sk-parallel-item {display: flex;flex-direction: column;z-index: 1;position: relative;background-color: white;}#sk-container-id-4 div.sk-parallel-item:first-child::after {align-self: flex-end;width: 50%;}#sk-container-id-4 div.sk-parallel-item:last-child::after {align-self: flex-start;width: 50%;}#sk-container-id-4 div.sk-parallel-item:only-child::after {width: 0;}#sk-container-id-4 div.sk-dashed-wrapped {border: 1px dashed gray;margin: 0 0.4em 0.5em 0.4em;box-sizing: border-box;padding-bottom: 0.4em;background-color: white;}#sk-container-id-4 div.sk-label label {font-family: monospace;font-weight: bold;display: inline-block;line-height: 1.2em;}#sk-container-id-4 div.sk-label-container {text-align: center;}#sk-container-id-4 div.sk-container {/* jupyter's `normalize.less` sets `[hidden] { display: none; }` but bootstrap.min.css set `[hidden] { display: none !important; }` so we also need the `!important` here to be able to override the default hidden behavior on the sphinx rendered scikit-learn.org. See: https://github.com/scikit-learn/scikit-learn/issues/21755 */display: inline-block !important;position: relative;}#sk-container-id-4 div.sk-text-repr-fallback {display: none;}</style><div id=\"sk-container-id-4\" class=\"sk-top-container\"><div class=\"sk-text-repr-fallback\"><pre>GradientBoostingClassifier(random_state=0)</pre><b>In a Jupyter environment, please rerun this cell to show the HTML representation or trust the notebook. <br />On GitHub, the HTML representation is unable to render, please try loading this page with nbviewer.org.</b></div><div class=\"sk-container\" hidden><div class=\"sk-item\"><div class=\"sk-estimator sk-toggleable\"><input class=\"sk-toggleable__control sk-hidden--visually\" id=\"sk-estimator-id-6\" type=\"checkbox\" checked><label for=\"sk-estimator-id-6\" class=\"sk-toggleable__label sk-toggleable__label-arrow\">GradientBoostingClassifier</label><div class=\"sk-toggleable__content\"><pre>GradientBoostingClassifier(random_state=0)</pre></div></div></div></div></div>"
            ]
          },
          "metadata": {},
          "execution_count": 115
        }
      ],
      "source": [
        "### fitting x_train and y_train on gradient boosting classifier object\n",
        "gb_clf.fit(x_train,y_train)"
      ]
    },
    {
      "cell_type": "code",
      "execution_count": 116,
      "id": "6b247a5f",
      "metadata": {
        "id": "6b247a5f"
      },
      "outputs": [],
      "source": [
        "###predicting y_train and y_test variables\n",
        "y_train_pred= gb_clf.predict(x_train)\n",
        "y_test_pred= gb_clf.predict(x_test)"
      ]
    },
    {
      "cell_type": "code",
      "execution_count": 117,
      "id": "8edb3894",
      "metadata": {
        "id": "8edb3894",
        "colab": {
          "base_uri": "https://localhost:8080/",
          "height": 0
        },
        "outputId": "0c2bbc9b-b923-4dfe-919e-31b6c12a7b25"
      },
      "outputs": [
        {
          "output_type": "execute_result",
          "data": {
            "text/plain": [
              "array([[483,  27],\n",
              "       [ 78,  80]])"
            ]
          },
          "metadata": {},
          "execution_count": 117
        }
      ],
      "source": [
        "###creating confusion matrix from y_test and y_test_pred\n",
        "confusion_matrix(y_test,y_test_pred)"
      ]
    },
    {
      "cell_type": "code",
      "execution_count": 118,
      "id": "caea296c",
      "metadata": {
        "id": "caea296c",
        "colab": {
          "base_uri": "https://localhost:8080/",
          "height": 0
        },
        "outputId": "b83c4529-7c5c-43eb-fd6e-6ab1ceb81f40"
      },
      "outputs": [
        {
          "output_type": "execute_result",
          "data": {
            "text/plain": [
              "0.7476635514018691"
            ]
          },
          "metadata": {},
          "execution_count": 118
        }
      ],
      "source": [
        "### finding precision score of y_test and y_test_pred\n",
        "precision_score(y_test,y_test_pred)"
      ]
    },
    {
      "cell_type": "code",
      "execution_count": 119,
      "id": "28b8fea7",
      "metadata": {
        "id": "28b8fea7",
        "colab": {
          "base_uri": "https://localhost:8080/",
          "height": 0
        },
        "outputId": "e84b03f6-ca77-4661-ad2c-38213f7d3bc5"
      },
      "outputs": [
        {
          "output_type": "execute_result",
          "data": {
            "text/plain": [
              "0.5063291139240507"
            ]
          },
          "metadata": {},
          "execution_count": 119
        }
      ],
      "source": [
        "###finding recall score of y_test and y_test_pred\n",
        "recall_score(y_test,y_test_pred)"
      ]
    },
    {
      "cell_type": "code",
      "execution_count": 120,
      "id": "7a50d984",
      "metadata": {
        "id": "7a50d984",
        "colab": {
          "base_uri": "https://localhost:8080/",
          "height": 0
        },
        "outputId": "16df9869-c254-48c0-956f-b7a60c4a52c9"
      },
      "outputs": [
        {
          "output_type": "execute_result",
          "data": {
            "text/plain": [
              "0.7266939687267312"
            ]
          },
          "metadata": {},
          "execution_count": 120
        }
      ],
      "source": [
        "### finding roc_auc score of y_test and y_test_pred\n",
        "roc_auc_score(y_test,y_test_pred)"
      ]
    },
    {
      "cell_type": "code",
      "execution_count": 121,
      "id": "f7e553a8",
      "metadata": {
        "id": "f7e553a8",
        "colab": {
          "base_uri": "https://localhost:8080/",
          "height": 0
        },
        "outputId": "3e3d9332-047a-458e-b448-8b742e751344"
      },
      "outputs": [
        {
          "output_type": "execute_result",
          "data": {
            "text/plain": [
              "0.842814371257485"
            ]
          },
          "metadata": {},
          "execution_count": 121
        }
      ],
      "source": [
        "### finding accuracy score of y_test and y_test_pred\n",
        "accuracy_score(y_test,y_test_pred)"
      ]
    },
    {
      "cell_type": "code",
      "source": [
        "### finding accuracy score of y_train and y_train_pred\n",
        "accuracy_score(y_train,y_train_pred)"
      ],
      "metadata": {
        "colab": {
          "base_uri": "https://localhost:8080/",
          "height": 0
        },
        "id": "L0gTVTTRwUBH",
        "outputId": "701d65ed-d8e5-4ba2-ee5a-a056cd6ec9c3"
      },
      "id": "L0gTVTTRwUBH",
      "execution_count": 122,
      "outputs": [
        {
          "output_type": "execute_result",
          "data": {
            "text/plain": [
              "0.8782315473960285"
            ]
          },
          "metadata": {},
          "execution_count": 122
        }
      ]
    },
    {
      "cell_type": "markdown",
      "id": "fc76fe5d",
      "metadata": {
        "id": "fc76fe5d"
      },
      "source": [
        "### 5.Ada Boosting"
      ]
    },
    {
      "cell_type": "code",
      "execution_count": 123,
      "id": "9dafed5e",
      "metadata": {
        "id": "9dafed5e"
      },
      "outputs": [],
      "source": [
        "###importing Ada boost classifier from sklearn\n",
        "from sklearn.ensemble import AdaBoostClassifier"
      ]
    },
    {
      "cell_type": "code",
      "execution_count": 124,
      "id": "d6bef838",
      "metadata": {
        "id": "d6bef838"
      },
      "outputs": [],
      "source": [
        "### creating object of adaboost classifier\n",
        "ada_clf=AdaBoostClassifier(learning_rate=0.3,n_estimators=10,random_state=0)"
      ]
    },
    {
      "cell_type": "code",
      "execution_count": 125,
      "id": "a01d39ca",
      "metadata": {
        "id": "a01d39ca",
        "colab": {
          "base_uri": "https://localhost:8080/",
          "height": 74
        },
        "outputId": "d3ce83db-efef-4f2d-afe6-87af3d40214f"
      },
      "outputs": [
        {
          "output_type": "execute_result",
          "data": {
            "text/plain": [
              "AdaBoostClassifier(learning_rate=0.3, n_estimators=10, random_state=0)"
            ],
            "text/html": [
              "<style>#sk-container-id-5 {color: black;background-color: white;}#sk-container-id-5 pre{padding: 0;}#sk-container-id-5 div.sk-toggleable {background-color: white;}#sk-container-id-5 label.sk-toggleable__label {cursor: pointer;display: block;width: 100%;margin-bottom: 0;padding: 0.3em;box-sizing: border-box;text-align: center;}#sk-container-id-5 label.sk-toggleable__label-arrow:before {content: \"▸\";float: left;margin-right: 0.25em;color: #696969;}#sk-container-id-5 label.sk-toggleable__label-arrow:hover:before {color: black;}#sk-container-id-5 div.sk-estimator:hover label.sk-toggleable__label-arrow:before {color: black;}#sk-container-id-5 div.sk-toggleable__content {max-height: 0;max-width: 0;overflow: hidden;text-align: left;background-color: #f0f8ff;}#sk-container-id-5 div.sk-toggleable__content pre {margin: 0.2em;color: black;border-radius: 0.25em;background-color: #f0f8ff;}#sk-container-id-5 input.sk-toggleable__control:checked~div.sk-toggleable__content {max-height: 200px;max-width: 100%;overflow: auto;}#sk-container-id-5 input.sk-toggleable__control:checked~label.sk-toggleable__label-arrow:before {content: \"▾\";}#sk-container-id-5 div.sk-estimator input.sk-toggleable__control:checked~label.sk-toggleable__label {background-color: #d4ebff;}#sk-container-id-5 div.sk-label input.sk-toggleable__control:checked~label.sk-toggleable__label {background-color: #d4ebff;}#sk-container-id-5 input.sk-hidden--visually {border: 0;clip: rect(1px 1px 1px 1px);clip: rect(1px, 1px, 1px, 1px);height: 1px;margin: -1px;overflow: hidden;padding: 0;position: absolute;width: 1px;}#sk-container-id-5 div.sk-estimator {font-family: monospace;background-color: #f0f8ff;border: 1px dotted black;border-radius: 0.25em;box-sizing: border-box;margin-bottom: 0.5em;}#sk-container-id-5 div.sk-estimator:hover {background-color: #d4ebff;}#sk-container-id-5 div.sk-parallel-item::after {content: \"\";width: 100%;border-bottom: 1px solid gray;flex-grow: 1;}#sk-container-id-5 div.sk-label:hover label.sk-toggleable__label {background-color: #d4ebff;}#sk-container-id-5 div.sk-serial::before {content: \"\";position: absolute;border-left: 1px solid gray;box-sizing: border-box;top: 0;bottom: 0;left: 50%;z-index: 0;}#sk-container-id-5 div.sk-serial {display: flex;flex-direction: column;align-items: center;background-color: white;padding-right: 0.2em;padding-left: 0.2em;position: relative;}#sk-container-id-5 div.sk-item {position: relative;z-index: 1;}#sk-container-id-5 div.sk-parallel {display: flex;align-items: stretch;justify-content: center;background-color: white;position: relative;}#sk-container-id-5 div.sk-item::before, #sk-container-id-5 div.sk-parallel-item::before {content: \"\";position: absolute;border-left: 1px solid gray;box-sizing: border-box;top: 0;bottom: 0;left: 50%;z-index: -1;}#sk-container-id-5 div.sk-parallel-item {display: flex;flex-direction: column;z-index: 1;position: relative;background-color: white;}#sk-container-id-5 div.sk-parallel-item:first-child::after {align-self: flex-end;width: 50%;}#sk-container-id-5 div.sk-parallel-item:last-child::after {align-self: flex-start;width: 50%;}#sk-container-id-5 div.sk-parallel-item:only-child::after {width: 0;}#sk-container-id-5 div.sk-dashed-wrapped {border: 1px dashed gray;margin: 0 0.4em 0.5em 0.4em;box-sizing: border-box;padding-bottom: 0.4em;background-color: white;}#sk-container-id-5 div.sk-label label {font-family: monospace;font-weight: bold;display: inline-block;line-height: 1.2em;}#sk-container-id-5 div.sk-label-container {text-align: center;}#sk-container-id-5 div.sk-container {/* jupyter's `normalize.less` sets `[hidden] { display: none; }` but bootstrap.min.css set `[hidden] { display: none !important; }` so we also need the `!important` here to be able to override the default hidden behavior on the sphinx rendered scikit-learn.org. See: https://github.com/scikit-learn/scikit-learn/issues/21755 */display: inline-block !important;position: relative;}#sk-container-id-5 div.sk-text-repr-fallback {display: none;}</style><div id=\"sk-container-id-5\" class=\"sk-top-container\"><div class=\"sk-text-repr-fallback\"><pre>AdaBoostClassifier(learning_rate=0.3, n_estimators=10, random_state=0)</pre><b>In a Jupyter environment, please rerun this cell to show the HTML representation or trust the notebook. <br />On GitHub, the HTML representation is unable to render, please try loading this page with nbviewer.org.</b></div><div class=\"sk-container\" hidden><div class=\"sk-item\"><div class=\"sk-estimator sk-toggleable\"><input class=\"sk-toggleable__control sk-hidden--visually\" id=\"sk-estimator-id-7\" type=\"checkbox\" checked><label for=\"sk-estimator-id-7\" class=\"sk-toggleable__label sk-toggleable__label-arrow\">AdaBoostClassifier</label><div class=\"sk-toggleable__content\"><pre>AdaBoostClassifier(learning_rate=0.3, n_estimators=10, random_state=0)</pre></div></div></div></div></div>"
            ]
          },
          "metadata": {},
          "execution_count": 125
        }
      ],
      "source": [
        "###fitting x_train and y_train on ada boost classifier object\n",
        "ada_clf.fit(x_train,y_train)"
      ]
    },
    {
      "cell_type": "code",
      "execution_count": 126,
      "id": "1f9f14fa",
      "metadata": {
        "id": "1f9f14fa",
        "colab": {
          "base_uri": "https://localhost:8080/",
          "height": 0
        },
        "outputId": "0813dc27-c484-4084-c33d-1281273963da"
      },
      "outputs": [
        {
          "output_type": "execute_result",
          "data": {
            "text/plain": [
              "array([[492,  18],\n",
              "       [ 89,  69]])"
            ]
          },
          "metadata": {},
          "execution_count": 126
        }
      ],
      "source": [
        "###creating confusion matrix of y_test and x_test\n",
        "confusion_matrix(y_test,ada_clf.predict(x_test))"
      ]
    },
    {
      "cell_type": "code",
      "execution_count": 127,
      "id": "d0f6097e",
      "metadata": {
        "id": "d0f6097e",
        "colab": {
          "base_uri": "https://localhost:8080/",
          "height": 0
        },
        "outputId": "57bc7b5b-7e89-4e74-9581-033a25552ead"
      },
      "outputs": [
        {
          "output_type": "execute_result",
          "data": {
            "text/plain": [
              "0.7931034482758621"
            ]
          },
          "metadata": {},
          "execution_count": 127
        }
      ],
      "source": [
        "### finding precision score of y_test and x_test\n",
        "precision_score(y_test,ada_clf.predict(x_test))"
      ]
    },
    {
      "cell_type": "code",
      "execution_count": 128,
      "id": "535f1374",
      "metadata": {
        "id": "535f1374",
        "colab": {
          "base_uri": "https://localhost:8080/",
          "height": 0
        },
        "outputId": "e50fd9e8-31f0-4d2e-b6b3-d8166511689d"
      },
      "outputs": [
        {
          "output_type": "execute_result",
          "data": {
            "text/plain": [
              "0.43670886075949367"
            ]
          },
          "metadata": {},
          "execution_count": 128
        }
      ],
      "source": [
        "### finding recall score of y_test and x_test\n",
        "recall_score(y_test,ada_clf.predict(x_test))"
      ]
    },
    {
      "cell_type": "code",
      "execution_count": 129,
      "id": "45457548",
      "metadata": {
        "id": "45457548",
        "colab": {
          "base_uri": "https://localhost:8080/",
          "height": 0
        },
        "outputId": "01f26364-50d3-49e5-fe98-4f2910c3a990"
      },
      "outputs": [
        {
          "output_type": "execute_result",
          "data": {
            "text/plain": [
              "0.7007073715562175"
            ]
          },
          "metadata": {},
          "execution_count": 129
        }
      ],
      "source": [
        "### finding roc_auc score of y_test and x_test\n",
        "roc_auc_score(y_test,ada_clf.predict(x_test))"
      ]
    },
    {
      "cell_type": "code",
      "execution_count": 130,
      "id": "f98b5320",
      "metadata": {
        "id": "f98b5320",
        "colab": {
          "base_uri": "https://localhost:8080/",
          "height": 0
        },
        "outputId": "ec15d0dd-6d47-4803-8ed1-b28f46de1989"
      },
      "outputs": [
        {
          "output_type": "execute_result",
          "data": {
            "text/plain": [
              "0.8398203592814372"
            ]
          },
          "metadata": {},
          "execution_count": 130
        }
      ],
      "source": [
        "###finding accuracy score of y_test and x_test\n",
        "accuracy_score(y_test,ada_clf.predict(x_test))"
      ]
    },
    {
      "cell_type": "code",
      "source": [
        "###finding accuracy score of y_train and x_train\n",
        "accuracy_score(y_train,ada_clf.predict(x_train))"
      ],
      "metadata": {
        "colab": {
          "base_uri": "https://localhost:8080/",
          "height": 0
        },
        "id": "iVQwIO36wcuX",
        "outputId": "03865079-7668-4045-feaa-7a2d4e4bc65b"
      },
      "id": "iVQwIO36wcuX",
      "execution_count": 131,
      "outputs": [
        {
          "output_type": "execute_result",
          "data": {
            "text/plain": [
              "0.8332708879730236"
            ]
          },
          "metadata": {},
          "execution_count": 131
        }
      ]
    },
    {
      "cell_type": "markdown",
      "source": [],
      "metadata": {
        "id": "VTXiP5q_B3I2"
      },
      "id": "VTXiP5q_B3I2"
    },
    {
      "cell_type": "markdown",
      "id": "884423f8",
      "metadata": {
        "id": "884423f8"
      },
      "source": [
        "### 5.b Ada boost with Random forest"
      ]
    },
    {
      "cell_type": "code",
      "execution_count": 132,
      "id": "6a67186b",
      "metadata": {
        "id": "6a67186b"
      },
      "outputs": [],
      "source": [
        "### creating randomforest classifier object\n",
        "rf_cl2=RandomForestClassifier(random_state=0)"
      ]
    },
    {
      "cell_type": "code",
      "execution_count": 133,
      "id": "7b08ac05",
      "metadata": {
        "id": "7b08ac05"
      },
      "outputs": [],
      "source": [
        "### creating ada boost classifier object\n",
        "ada_clf2=AdaBoostClassifier(rf_cl2,learning_rate=0.05,n_estimators=10,random_state=0)"
      ]
    },
    {
      "cell_type": "code",
      "execution_count": 134,
      "id": "5febf367",
      "metadata": {
        "id": "5febf367",
        "colab": {
          "base_uri": "https://localhost:8080/",
          "height": 117
        },
        "outputId": "cecdf0a4-43b3-4214-9884-12c04555abd4"
      },
      "outputs": [
        {
          "output_type": "execute_result",
          "data": {
            "text/plain": [
              "AdaBoostClassifier(estimator=RandomForestClassifier(random_state=0),\n",
              "                   learning_rate=0.05, n_estimators=10, random_state=0)"
            ],
            "text/html": [
              "<style>#sk-container-id-6 {color: black;background-color: white;}#sk-container-id-6 pre{padding: 0;}#sk-container-id-6 div.sk-toggleable {background-color: white;}#sk-container-id-6 label.sk-toggleable__label {cursor: pointer;display: block;width: 100%;margin-bottom: 0;padding: 0.3em;box-sizing: border-box;text-align: center;}#sk-container-id-6 label.sk-toggleable__label-arrow:before {content: \"▸\";float: left;margin-right: 0.25em;color: #696969;}#sk-container-id-6 label.sk-toggleable__label-arrow:hover:before {color: black;}#sk-container-id-6 div.sk-estimator:hover label.sk-toggleable__label-arrow:before {color: black;}#sk-container-id-6 div.sk-toggleable__content {max-height: 0;max-width: 0;overflow: hidden;text-align: left;background-color: #f0f8ff;}#sk-container-id-6 div.sk-toggleable__content pre {margin: 0.2em;color: black;border-radius: 0.25em;background-color: #f0f8ff;}#sk-container-id-6 input.sk-toggleable__control:checked~div.sk-toggleable__content {max-height: 200px;max-width: 100%;overflow: auto;}#sk-container-id-6 input.sk-toggleable__control:checked~label.sk-toggleable__label-arrow:before {content: \"▾\";}#sk-container-id-6 div.sk-estimator input.sk-toggleable__control:checked~label.sk-toggleable__label {background-color: #d4ebff;}#sk-container-id-6 div.sk-label input.sk-toggleable__control:checked~label.sk-toggleable__label {background-color: #d4ebff;}#sk-container-id-6 input.sk-hidden--visually {border: 0;clip: rect(1px 1px 1px 1px);clip: rect(1px, 1px, 1px, 1px);height: 1px;margin: -1px;overflow: hidden;padding: 0;position: absolute;width: 1px;}#sk-container-id-6 div.sk-estimator {font-family: monospace;background-color: #f0f8ff;border: 1px dotted black;border-radius: 0.25em;box-sizing: border-box;margin-bottom: 0.5em;}#sk-container-id-6 div.sk-estimator:hover {background-color: #d4ebff;}#sk-container-id-6 div.sk-parallel-item::after {content: \"\";width: 100%;border-bottom: 1px solid gray;flex-grow: 1;}#sk-container-id-6 div.sk-label:hover label.sk-toggleable__label {background-color: #d4ebff;}#sk-container-id-6 div.sk-serial::before {content: \"\";position: absolute;border-left: 1px solid gray;box-sizing: border-box;top: 0;bottom: 0;left: 50%;z-index: 0;}#sk-container-id-6 div.sk-serial {display: flex;flex-direction: column;align-items: center;background-color: white;padding-right: 0.2em;padding-left: 0.2em;position: relative;}#sk-container-id-6 div.sk-item {position: relative;z-index: 1;}#sk-container-id-6 div.sk-parallel {display: flex;align-items: stretch;justify-content: center;background-color: white;position: relative;}#sk-container-id-6 div.sk-item::before, #sk-container-id-6 div.sk-parallel-item::before {content: \"\";position: absolute;border-left: 1px solid gray;box-sizing: border-box;top: 0;bottom: 0;left: 50%;z-index: -1;}#sk-container-id-6 div.sk-parallel-item {display: flex;flex-direction: column;z-index: 1;position: relative;background-color: white;}#sk-container-id-6 div.sk-parallel-item:first-child::after {align-self: flex-end;width: 50%;}#sk-container-id-6 div.sk-parallel-item:last-child::after {align-self: flex-start;width: 50%;}#sk-container-id-6 div.sk-parallel-item:only-child::after {width: 0;}#sk-container-id-6 div.sk-dashed-wrapped {border: 1px dashed gray;margin: 0 0.4em 0.5em 0.4em;box-sizing: border-box;padding-bottom: 0.4em;background-color: white;}#sk-container-id-6 div.sk-label label {font-family: monospace;font-weight: bold;display: inline-block;line-height: 1.2em;}#sk-container-id-6 div.sk-label-container {text-align: center;}#sk-container-id-6 div.sk-container {/* jupyter's `normalize.less` sets `[hidden] { display: none; }` but bootstrap.min.css set `[hidden] { display: none !important; }` so we also need the `!important` here to be able to override the default hidden behavior on the sphinx rendered scikit-learn.org. See: https://github.com/scikit-learn/scikit-learn/issues/21755 */display: inline-block !important;position: relative;}#sk-container-id-6 div.sk-text-repr-fallback {display: none;}</style><div id=\"sk-container-id-6\" class=\"sk-top-container\"><div class=\"sk-text-repr-fallback\"><pre>AdaBoostClassifier(estimator=RandomForestClassifier(random_state=0),\n",
              "                   learning_rate=0.05, n_estimators=10, random_state=0)</pre><b>In a Jupyter environment, please rerun this cell to show the HTML representation or trust the notebook. <br />On GitHub, the HTML representation is unable to render, please try loading this page with nbviewer.org.</b></div><div class=\"sk-container\" hidden><div class=\"sk-item sk-dashed-wrapped\"><div class=\"sk-label-container\"><div class=\"sk-label sk-toggleable\"><input class=\"sk-toggleable__control sk-hidden--visually\" id=\"sk-estimator-id-8\" type=\"checkbox\" ><label for=\"sk-estimator-id-8\" class=\"sk-toggleable__label sk-toggleable__label-arrow\">AdaBoostClassifier</label><div class=\"sk-toggleable__content\"><pre>AdaBoostClassifier(estimator=RandomForestClassifier(random_state=0),\n",
              "                   learning_rate=0.05, n_estimators=10, random_state=0)</pre></div></div></div><div class=\"sk-parallel\"><div class=\"sk-parallel-item\"><div class=\"sk-item\"><div class=\"sk-label-container\"><div class=\"sk-label sk-toggleable\"><input class=\"sk-toggleable__control sk-hidden--visually\" id=\"sk-estimator-id-9\" type=\"checkbox\" ><label for=\"sk-estimator-id-9\" class=\"sk-toggleable__label sk-toggleable__label-arrow\">estimator: RandomForestClassifier</label><div class=\"sk-toggleable__content\"><pre>RandomForestClassifier(random_state=0)</pre></div></div></div><div class=\"sk-serial\"><div class=\"sk-item\"><div class=\"sk-estimator sk-toggleable\"><input class=\"sk-toggleable__control sk-hidden--visually\" id=\"sk-estimator-id-10\" type=\"checkbox\" ><label for=\"sk-estimator-id-10\" class=\"sk-toggleable__label sk-toggleable__label-arrow\">RandomForestClassifier</label><div class=\"sk-toggleable__content\"><pre>RandomForestClassifier(random_state=0)</pre></div></div></div></div></div></div></div></div></div></div>"
            ]
          },
          "metadata": {},
          "execution_count": 134
        }
      ],
      "source": [
        "### fitting x_train and y_train variables on adaboost classifier object with randomforest object\n",
        "ada_clf2.fit(x_train,y_train)"
      ]
    },
    {
      "cell_type": "code",
      "execution_count": 135,
      "id": "05814aa4",
      "metadata": {
        "id": "05814aa4",
        "colab": {
          "base_uri": "https://localhost:8080/",
          "height": 0
        },
        "outputId": "2ae1c097-f06c-48c6-d066-47110ca85d87"
      },
      "outputs": [
        {
          "output_type": "execute_result",
          "data": {
            "text/plain": [
              "array([[484,  26],\n",
              "       [ 77,  81]])"
            ]
          },
          "metadata": {},
          "execution_count": 135
        }
      ],
      "source": [
        "### creating confusion matrix of y_test and x_test\n",
        "confusion_matrix(y_test,ada_clf2.predict(x_test))"
      ]
    },
    {
      "cell_type": "code",
      "execution_count": 136,
      "id": "8e8b3455",
      "metadata": {
        "id": "8e8b3455",
        "colab": {
          "base_uri": "https://localhost:8080/",
          "height": 0
        },
        "outputId": "a4223f63-8452-465f-ddb0-d34b78dd1db0"
      },
      "outputs": [
        {
          "output_type": "execute_result",
          "data": {
            "text/plain": [
              "0.7570093457943925"
            ]
          },
          "metadata": {},
          "execution_count": 136
        }
      ],
      "source": [
        "### finding precision score of y_test and x_test\n",
        "precision_score(y_test,ada_clf2.predict(x_test))"
      ]
    },
    {
      "cell_type": "code",
      "execution_count": 137,
      "id": "441cbb67",
      "metadata": {
        "id": "441cbb67",
        "colab": {
          "base_uri": "https://localhost:8080/",
          "height": 0
        },
        "outputId": "d50857cc-30ce-4f75-f8a9-2b7f3fc9bddc"
      },
      "outputs": [
        {
          "output_type": "execute_result",
          "data": {
            "text/plain": [
              "0.5126582278481012"
            ]
          },
          "metadata": {},
          "execution_count": 137
        }
      ],
      "source": [
        "### finding recall score of y_test and x_test\n",
        "recall_score(y_test,ada_clf2.predict(x_test))"
      ]
    },
    {
      "cell_type": "code",
      "execution_count": 138,
      "id": "f7ba82cb",
      "metadata": {
        "id": "f7ba82cb",
        "colab": {
          "base_uri": "https://localhost:8080/",
          "height": 0
        },
        "outputId": "e3e40ee4-b87d-4c9d-8251-5f0f9bcc2e78"
      },
      "outputs": [
        {
          "output_type": "execute_result",
          "data": {
            "text/plain": [
              "0.7308389178456193"
            ]
          },
          "metadata": {},
          "execution_count": 138
        }
      ],
      "source": [
        "### finding roc_auc score of y_test and x_test\n",
        "roc_auc_score(y_test,ada_clf2.predict(x_test))"
      ]
    },
    {
      "cell_type": "code",
      "execution_count": 139,
      "id": "981da084",
      "metadata": {
        "id": "981da084",
        "colab": {
          "base_uri": "https://localhost:8080/",
          "height": 0
        },
        "outputId": "dcbc5035-c602-4359-ad4d-6f1a4b770e94"
      },
      "outputs": [
        {
          "output_type": "execute_result",
          "data": {
            "text/plain": [
              "0.8458083832335329"
            ]
          },
          "metadata": {},
          "execution_count": 139
        }
      ],
      "source": [
        "### finding accuracy score of y_test and x_test\n",
        "accuracy_score(y_test,ada_clf2.predict(x_test))"
      ]
    },
    {
      "cell_type": "code",
      "source": [
        "###finding accuracy score of y_train and x_train\n",
        "accuracy_score(y_train,ada_clf2.predict(x_train))"
      ],
      "metadata": {
        "colab": {
          "base_uri": "https://localhost:8080/",
          "height": 0
        },
        "id": "0fShyqoFwujx",
        "outputId": "e92c4693-ea57-4cba-8d28-665a9b188be6"
      },
      "id": "0fShyqoFwujx",
      "execution_count": 140,
      "outputs": [
        {
          "output_type": "execute_result",
          "data": {
            "text/plain": [
              "1.0"
            ]
          },
          "metadata": {},
          "execution_count": 140
        }
      ]
    },
    {
      "cell_type": "markdown",
      "id": "1fec7281",
      "metadata": {
        "id": "1fec7281"
      },
      "source": [
        "### 6.K-Nearest Neighbours Classifier"
      ]
    },
    {
      "cell_type": "code",
      "execution_count": 141,
      "id": "51a585a7",
      "metadata": {
        "id": "51a585a7"
      },
      "outputs": [],
      "source": [
        "### importing preprocessing from sklearn\n",
        "from sklearn import preprocessing"
      ]
    },
    {
      "cell_type": "code",
      "execution_count": 142,
      "id": "14d86b9e",
      "metadata": {
        "id": "14d86b9e"
      },
      "outputs": [],
      "source": [
        "### creating scaler object from x_train\n",
        "scaler=preprocessing.StandardScaler().fit(x_train)"
      ]
    },
    {
      "cell_type": "code",
      "execution_count": 143,
      "id": "eb430e29",
      "metadata": {
        "id": "eb430e29"
      },
      "outputs": [],
      "source": [
        "### standardizing x_train variable\n",
        "x_train_s=scaler.transform(x_train)"
      ]
    },
    {
      "cell_type": "code",
      "execution_count": 144,
      "id": "b6e1e562",
      "metadata": {
        "id": "b6e1e562"
      },
      "outputs": [],
      "source": [
        "### creating scaler object for x_test\n",
        "scaler=preprocessing.StandardScaler().fit(x_test)"
      ]
    },
    {
      "cell_type": "code",
      "execution_count": 145,
      "id": "bb5745d4",
      "metadata": {
        "id": "bb5745d4"
      },
      "outputs": [],
      "source": [
        "#### standardizing x_test variable\n",
        "x_test_s=scaler.transform(x_test)"
      ]
    },
    {
      "cell_type": "code",
      "execution_count": 146,
      "id": "b55689ca",
      "metadata": {
        "id": "b55689ca",
        "colab": {
          "base_uri": "https://localhost:8080/",
          "height": 0
        },
        "outputId": "ef6b7ee1-f8fc-4790-c1a8-ca6d79f72e55"
      },
      "outputs": [
        {
          "output_type": "stream",
          "name": "stdout",
          "text": [
            "(2669, 14) (668, 14)\n"
          ]
        }
      ],
      "source": [
        "#### shape of standardize x_train and x_test\n",
        "print(x_train_s.shape,x_test_s.shape)"
      ]
    },
    {
      "cell_type": "code",
      "execution_count": 147,
      "id": "7eb33169",
      "metadata": {
        "id": "7eb33169"
      },
      "outputs": [],
      "source": [
        "###importing kneighbor classifier from sklearn\n",
        "from sklearn.neighbors import KNeighborsClassifier"
      ]
    },
    {
      "cell_type": "code",
      "execution_count": 148,
      "id": "a9fd3d9a",
      "metadata": {
        "id": "a9fd3d9a"
      },
      "outputs": [],
      "source": [
        "### creating kneighborclassifier object\n",
        "clf_knn=KNeighborsClassifier(n_neighbors=4)"
      ]
    },
    {
      "cell_type": "code",
      "execution_count": 149,
      "id": "b7065465",
      "metadata": {
        "id": "b7065465",
        "colab": {
          "base_uri": "https://localhost:8080/",
          "height": 74
        },
        "outputId": "bc1f9f1b-8f3b-490c-f12b-2b98cf7ffc81"
      },
      "outputs": [
        {
          "output_type": "execute_result",
          "data": {
            "text/plain": [
              "KNeighborsClassifier(n_neighbors=4)"
            ],
            "text/html": [
              "<style>#sk-container-id-7 {color: black;background-color: white;}#sk-container-id-7 pre{padding: 0;}#sk-container-id-7 div.sk-toggleable {background-color: white;}#sk-container-id-7 label.sk-toggleable__label {cursor: pointer;display: block;width: 100%;margin-bottom: 0;padding: 0.3em;box-sizing: border-box;text-align: center;}#sk-container-id-7 label.sk-toggleable__label-arrow:before {content: \"▸\";float: left;margin-right: 0.25em;color: #696969;}#sk-container-id-7 label.sk-toggleable__label-arrow:hover:before {color: black;}#sk-container-id-7 div.sk-estimator:hover label.sk-toggleable__label-arrow:before {color: black;}#sk-container-id-7 div.sk-toggleable__content {max-height: 0;max-width: 0;overflow: hidden;text-align: left;background-color: #f0f8ff;}#sk-container-id-7 div.sk-toggleable__content pre {margin: 0.2em;color: black;border-radius: 0.25em;background-color: #f0f8ff;}#sk-container-id-7 input.sk-toggleable__control:checked~div.sk-toggleable__content {max-height: 200px;max-width: 100%;overflow: auto;}#sk-container-id-7 input.sk-toggleable__control:checked~label.sk-toggleable__label-arrow:before {content: \"▾\";}#sk-container-id-7 div.sk-estimator input.sk-toggleable__control:checked~label.sk-toggleable__label {background-color: #d4ebff;}#sk-container-id-7 div.sk-label input.sk-toggleable__control:checked~label.sk-toggleable__label {background-color: #d4ebff;}#sk-container-id-7 input.sk-hidden--visually {border: 0;clip: rect(1px 1px 1px 1px);clip: rect(1px, 1px, 1px, 1px);height: 1px;margin: -1px;overflow: hidden;padding: 0;position: absolute;width: 1px;}#sk-container-id-7 div.sk-estimator {font-family: monospace;background-color: #f0f8ff;border: 1px dotted black;border-radius: 0.25em;box-sizing: border-box;margin-bottom: 0.5em;}#sk-container-id-7 div.sk-estimator:hover {background-color: #d4ebff;}#sk-container-id-7 div.sk-parallel-item::after {content: \"\";width: 100%;border-bottom: 1px solid gray;flex-grow: 1;}#sk-container-id-7 div.sk-label:hover label.sk-toggleable__label {background-color: #d4ebff;}#sk-container-id-7 div.sk-serial::before {content: \"\";position: absolute;border-left: 1px solid gray;box-sizing: border-box;top: 0;bottom: 0;left: 50%;z-index: 0;}#sk-container-id-7 div.sk-serial {display: flex;flex-direction: column;align-items: center;background-color: white;padding-right: 0.2em;padding-left: 0.2em;position: relative;}#sk-container-id-7 div.sk-item {position: relative;z-index: 1;}#sk-container-id-7 div.sk-parallel {display: flex;align-items: stretch;justify-content: center;background-color: white;position: relative;}#sk-container-id-7 div.sk-item::before, #sk-container-id-7 div.sk-parallel-item::before {content: \"\";position: absolute;border-left: 1px solid gray;box-sizing: border-box;top: 0;bottom: 0;left: 50%;z-index: -1;}#sk-container-id-7 div.sk-parallel-item {display: flex;flex-direction: column;z-index: 1;position: relative;background-color: white;}#sk-container-id-7 div.sk-parallel-item:first-child::after {align-self: flex-end;width: 50%;}#sk-container-id-7 div.sk-parallel-item:last-child::after {align-self: flex-start;width: 50%;}#sk-container-id-7 div.sk-parallel-item:only-child::after {width: 0;}#sk-container-id-7 div.sk-dashed-wrapped {border: 1px dashed gray;margin: 0 0.4em 0.5em 0.4em;box-sizing: border-box;padding-bottom: 0.4em;background-color: white;}#sk-container-id-7 div.sk-label label {font-family: monospace;font-weight: bold;display: inline-block;line-height: 1.2em;}#sk-container-id-7 div.sk-label-container {text-align: center;}#sk-container-id-7 div.sk-container {/* jupyter's `normalize.less` sets `[hidden] { display: none; }` but bootstrap.min.css set `[hidden] { display: none !important; }` so we also need the `!important` here to be able to override the default hidden behavior on the sphinx rendered scikit-learn.org. See: https://github.com/scikit-learn/scikit-learn/issues/21755 */display: inline-block !important;position: relative;}#sk-container-id-7 div.sk-text-repr-fallback {display: none;}</style><div id=\"sk-container-id-7\" class=\"sk-top-container\"><div class=\"sk-text-repr-fallback\"><pre>KNeighborsClassifier(n_neighbors=4)</pre><b>In a Jupyter environment, please rerun this cell to show the HTML representation or trust the notebook. <br />On GitHub, the HTML representation is unable to render, please try loading this page with nbviewer.org.</b></div><div class=\"sk-container\" hidden><div class=\"sk-item\"><div class=\"sk-estimator sk-toggleable\"><input class=\"sk-toggleable__control sk-hidden--visually\" id=\"sk-estimator-id-11\" type=\"checkbox\" checked><label for=\"sk-estimator-id-11\" class=\"sk-toggleable__label sk-toggleable__label-arrow\">KNeighborsClassifier</label><div class=\"sk-toggleable__content\"><pre>KNeighborsClassifier(n_neighbors=4)</pre></div></div></div></div></div>"
            ]
          },
          "metadata": {},
          "execution_count": 149
        }
      ],
      "source": [
        "###fitting x_train_s and y_train on KNeighborsClassifier\n",
        "clf_knn.fit(x_train_s,y_train)"
      ]
    },
    {
      "cell_type": "code",
      "execution_count": 150,
      "id": "23e381a6",
      "metadata": {
        "id": "23e381a6",
        "colab": {
          "base_uri": "https://localhost:8080/",
          "height": 0
        },
        "outputId": "e53ec070-9a46-44e7-ffde-f198e8401529"
      },
      "outputs": [
        {
          "output_type": "execute_result",
          "data": {
            "text/plain": [
              "array([[483,  27],\n",
              "       [ 88,  70]])"
            ]
          },
          "metadata": {},
          "execution_count": 150
        }
      ],
      "source": [
        "### creating confusion matrix of y_test and x_test_s\n",
        "confusion_matrix(y_test,clf_knn.predict(x_test_s))"
      ]
    },
    {
      "cell_type": "code",
      "execution_count": 151,
      "id": "ef34a56f",
      "metadata": {
        "id": "ef34a56f",
        "colab": {
          "base_uri": "https://localhost:8080/",
          "height": 0
        },
        "outputId": "0fddc099-3504-4831-da47-86ac2da8b58c"
      },
      "outputs": [
        {
          "output_type": "execute_result",
          "data": {
            "text/plain": [
              "0.4430379746835443"
            ]
          },
          "metadata": {},
          "execution_count": 151
        }
      ],
      "source": [
        "###finding recall score of y_test and x_test_s\n",
        "recall_score(y_test,clf_knn.predict(x_test_s))"
      ]
    },
    {
      "cell_type": "code",
      "execution_count": 152,
      "id": "6a55f850",
      "metadata": {
        "id": "6a55f850",
        "colab": {
          "base_uri": "https://localhost:8080/",
          "height": 0
        },
        "outputId": "58a80513-abf2-4183-ab0b-931234c3eebd"
      },
      "outputs": [
        {
          "output_type": "execute_result",
          "data": {
            "text/plain": [
              "0.7216494845360825"
            ]
          },
          "metadata": {},
          "execution_count": 152
        }
      ],
      "source": [
        "### finding precision score of y_test and x_test_s\n",
        "precision_score(y_test,clf_knn.predict(x_test_s))"
      ]
    },
    {
      "cell_type": "code",
      "execution_count": 153,
      "id": "d6f60d6c",
      "metadata": {
        "id": "d6f60d6c",
        "colab": {
          "base_uri": "https://localhost:8080/",
          "height": 0
        },
        "outputId": "713762e1-ee6e-4454-feec-7676eb94d615"
      },
      "outputs": [
        {
          "output_type": "execute_result",
          "data": {
            "text/plain": [
              "0.695048399106478"
            ]
          },
          "metadata": {},
          "execution_count": 153
        }
      ],
      "source": [
        "###finding roc_auc score of y_test and x_test_s\n",
        "roc_auc_score(y_test,clf_knn.predict(x_test_s))"
      ]
    },
    {
      "cell_type": "code",
      "execution_count": 154,
      "id": "2a3cfc2b",
      "metadata": {
        "id": "2a3cfc2b",
        "colab": {
          "base_uri": "https://localhost:8080/",
          "height": 0
        },
        "outputId": "563bbf02-cb11-49c5-ef62-83d0a2c0a070"
      },
      "outputs": [
        {
          "output_type": "execute_result",
          "data": {
            "text/plain": [
              "0.8278443113772455"
            ]
          },
          "metadata": {},
          "execution_count": 154
        }
      ],
      "source": [
        "### finding accuracy score of y_test and x_test_s\n",
        "accuracy_score(y_test,clf_knn.predict(x_test_s))"
      ]
    },
    {
      "cell_type": "code",
      "source": [
        "###finding accuracy score of y_train and x_train\n",
        "accuracy_score(y_train,clf_knn.predict(x_train_s))"
      ],
      "metadata": {
        "colab": {
          "base_uri": "https://localhost:8080/",
          "height": 0
        },
        "id": "fbjUUzCzw1Z3",
        "outputId": "678b9535-8f87-45a3-8870-db1c99aa15c6"
      },
      "id": "fbjUUzCzw1Z3",
      "execution_count": 155,
      "outputs": [
        {
          "output_type": "execute_result",
          "data": {
            "text/plain": [
              "0.8550018733608092"
            ]
          },
          "metadata": {},
          "execution_count": 155
        }
      ]
    },
    {
      "cell_type": "markdown",
      "id": "a26a3cc8",
      "metadata": {
        "id": "a26a3cc8"
      },
      "source": [
        "### 7.Linear Discriminant Analysis Classifier"
      ]
    },
    {
      "cell_type": "code",
      "execution_count": 156,
      "id": "accb78dc",
      "metadata": {
        "id": "accb78dc"
      },
      "outputs": [],
      "source": [
        "### importing lineardiscriminantanalysis from sklearn\n",
        "from sklearn.discriminant_analysis import LinearDiscriminantAnalysis"
      ]
    },
    {
      "cell_type": "code",
      "execution_count": 157,
      "id": "5ac18d43",
      "metadata": {
        "id": "5ac18d43"
      },
      "outputs": [],
      "source": [
        "### creating object of lineardiscriminant ananlysis\n",
        "clf_lda=LinearDiscriminantAnalysis()"
      ]
    },
    {
      "cell_type": "code",
      "execution_count": 158,
      "id": "ebe4c698",
      "metadata": {
        "id": "ebe4c698",
        "colab": {
          "base_uri": "https://localhost:8080/",
          "height": 74
        },
        "outputId": "ed087071-7f91-428d-b145-e4571b7ef09c"
      },
      "outputs": [
        {
          "output_type": "execute_result",
          "data": {
            "text/plain": [
              "LinearDiscriminantAnalysis()"
            ],
            "text/html": [
              "<style>#sk-container-id-8 {color: black;background-color: white;}#sk-container-id-8 pre{padding: 0;}#sk-container-id-8 div.sk-toggleable {background-color: white;}#sk-container-id-8 label.sk-toggleable__label {cursor: pointer;display: block;width: 100%;margin-bottom: 0;padding: 0.3em;box-sizing: border-box;text-align: center;}#sk-container-id-8 label.sk-toggleable__label-arrow:before {content: \"▸\";float: left;margin-right: 0.25em;color: #696969;}#sk-container-id-8 label.sk-toggleable__label-arrow:hover:before {color: black;}#sk-container-id-8 div.sk-estimator:hover label.sk-toggleable__label-arrow:before {color: black;}#sk-container-id-8 div.sk-toggleable__content {max-height: 0;max-width: 0;overflow: hidden;text-align: left;background-color: #f0f8ff;}#sk-container-id-8 div.sk-toggleable__content pre {margin: 0.2em;color: black;border-radius: 0.25em;background-color: #f0f8ff;}#sk-container-id-8 input.sk-toggleable__control:checked~div.sk-toggleable__content {max-height: 200px;max-width: 100%;overflow: auto;}#sk-container-id-8 input.sk-toggleable__control:checked~label.sk-toggleable__label-arrow:before {content: \"▾\";}#sk-container-id-8 div.sk-estimator input.sk-toggleable__control:checked~label.sk-toggleable__label {background-color: #d4ebff;}#sk-container-id-8 div.sk-label input.sk-toggleable__control:checked~label.sk-toggleable__label {background-color: #d4ebff;}#sk-container-id-8 input.sk-hidden--visually {border: 0;clip: rect(1px 1px 1px 1px);clip: rect(1px, 1px, 1px, 1px);height: 1px;margin: -1px;overflow: hidden;padding: 0;position: absolute;width: 1px;}#sk-container-id-8 div.sk-estimator {font-family: monospace;background-color: #f0f8ff;border: 1px dotted black;border-radius: 0.25em;box-sizing: border-box;margin-bottom: 0.5em;}#sk-container-id-8 div.sk-estimator:hover {background-color: #d4ebff;}#sk-container-id-8 div.sk-parallel-item::after {content: \"\";width: 100%;border-bottom: 1px solid gray;flex-grow: 1;}#sk-container-id-8 div.sk-label:hover label.sk-toggleable__label {background-color: #d4ebff;}#sk-container-id-8 div.sk-serial::before {content: \"\";position: absolute;border-left: 1px solid gray;box-sizing: border-box;top: 0;bottom: 0;left: 50%;z-index: 0;}#sk-container-id-8 div.sk-serial {display: flex;flex-direction: column;align-items: center;background-color: white;padding-right: 0.2em;padding-left: 0.2em;position: relative;}#sk-container-id-8 div.sk-item {position: relative;z-index: 1;}#sk-container-id-8 div.sk-parallel {display: flex;align-items: stretch;justify-content: center;background-color: white;position: relative;}#sk-container-id-8 div.sk-item::before, #sk-container-id-8 div.sk-parallel-item::before {content: \"\";position: absolute;border-left: 1px solid gray;box-sizing: border-box;top: 0;bottom: 0;left: 50%;z-index: -1;}#sk-container-id-8 div.sk-parallel-item {display: flex;flex-direction: column;z-index: 1;position: relative;background-color: white;}#sk-container-id-8 div.sk-parallel-item:first-child::after {align-self: flex-end;width: 50%;}#sk-container-id-8 div.sk-parallel-item:last-child::after {align-self: flex-start;width: 50%;}#sk-container-id-8 div.sk-parallel-item:only-child::after {width: 0;}#sk-container-id-8 div.sk-dashed-wrapped {border: 1px dashed gray;margin: 0 0.4em 0.5em 0.4em;box-sizing: border-box;padding-bottom: 0.4em;background-color: white;}#sk-container-id-8 div.sk-label label {font-family: monospace;font-weight: bold;display: inline-block;line-height: 1.2em;}#sk-container-id-8 div.sk-label-container {text-align: center;}#sk-container-id-8 div.sk-container {/* jupyter's `normalize.less` sets `[hidden] { display: none; }` but bootstrap.min.css set `[hidden] { display: none !important; }` so we also need the `!important` here to be able to override the default hidden behavior on the sphinx rendered scikit-learn.org. See: https://github.com/scikit-learn/scikit-learn/issues/21755 */display: inline-block !important;position: relative;}#sk-container-id-8 div.sk-text-repr-fallback {display: none;}</style><div id=\"sk-container-id-8\" class=\"sk-top-container\"><div class=\"sk-text-repr-fallback\"><pre>LinearDiscriminantAnalysis()</pre><b>In a Jupyter environment, please rerun this cell to show the HTML representation or trust the notebook. <br />On GitHub, the HTML representation is unable to render, please try loading this page with nbviewer.org.</b></div><div class=\"sk-container\" hidden><div class=\"sk-item\"><div class=\"sk-estimator sk-toggleable\"><input class=\"sk-toggleable__control sk-hidden--visually\" id=\"sk-estimator-id-12\" type=\"checkbox\" checked><label for=\"sk-estimator-id-12\" class=\"sk-toggleable__label sk-toggleable__label-arrow\">LinearDiscriminantAnalysis</label><div class=\"sk-toggleable__content\"><pre>LinearDiscriminantAnalysis()</pre></div></div></div></div></div>"
            ]
          },
          "metadata": {},
          "execution_count": 158
        }
      ],
      "source": [
        "### fitting x_train and y_train variables on lineardiscriminant analysis object\n",
        "clf_lda.fit(x_train,y_train)"
      ]
    },
    {
      "cell_type": "code",
      "execution_count": 159,
      "id": "7b485e75",
      "metadata": {
        "id": "7b485e75",
        "colab": {
          "base_uri": "https://localhost:8080/",
          "height": 0
        },
        "outputId": "058b3359-2202-4486-9e3f-716d26a97e42"
      },
      "outputs": [
        {
          "output_type": "execute_result",
          "data": {
            "text/plain": [
              "array([[468,  42],\n",
              "       [ 68,  90]])"
            ]
          },
          "metadata": {},
          "execution_count": 159
        }
      ],
      "source": [
        "### creating confusion matrix of y_test and x_test\n",
        "confusion_matrix(y_test,clf_lda.predict(x_test))"
      ]
    },
    {
      "cell_type": "code",
      "execution_count": 160,
      "id": "f3d2bf60",
      "metadata": {
        "id": "f3d2bf60",
        "colab": {
          "base_uri": "https://localhost:8080/",
          "height": 0
        },
        "outputId": "8eb7ca18-6723-45ba-9a2f-d407ac83bf88"
      },
      "outputs": [
        {
          "output_type": "execute_result",
          "data": {
            "text/plain": [
              "0.569620253164557"
            ]
          },
          "metadata": {},
          "execution_count": 160
        }
      ],
      "source": [
        "### finding recall score of y_test and x_test\n",
        "recall_score(y_test,clf_lda.predict(x_test))"
      ]
    },
    {
      "cell_type": "code",
      "execution_count": 161,
      "id": "86c375f5",
      "metadata": {
        "id": "86c375f5",
        "colab": {
          "base_uri": "https://localhost:8080/",
          "height": 0
        },
        "outputId": "215e2347-8c48-42a0-f467-b846dc06934d"
      },
      "outputs": [
        {
          "output_type": "execute_result",
          "data": {
            "text/plain": [
              "0.6818181818181818"
            ]
          },
          "metadata": {},
          "execution_count": 161
        }
      ],
      "source": [
        "### finding precision score of y_test and x_test\n",
        "precision_score(y_test,clf_lda.predict(x_test))"
      ]
    },
    {
      "cell_type": "code",
      "execution_count": 162,
      "id": "109b8d5f",
      "metadata": {
        "id": "109b8d5f",
        "colab": {
          "base_uri": "https://localhost:8080/",
          "height": 0
        },
        "outputId": "d63208c7-c9af-47bc-8e2a-e56fc315c6da"
      },
      "outputs": [
        {
          "output_type": "execute_result",
          "data": {
            "text/plain": [
              "0.7436336559940431"
            ]
          },
          "metadata": {},
          "execution_count": 162
        }
      ],
      "source": [
        "### finding roc_auc score of y_test and x_test\n",
        "roc_auc_score(y_test,clf_lda.predict(x_test))"
      ]
    },
    {
      "cell_type": "code",
      "execution_count": 163,
      "id": "ba94d00e",
      "metadata": {
        "id": "ba94d00e",
        "colab": {
          "base_uri": "https://localhost:8080/",
          "height": 0
        },
        "outputId": "3fa9bdd6-1e21-4ded-dc48-d87539b5a026"
      },
      "outputs": [
        {
          "output_type": "execute_result",
          "data": {
            "text/plain": [
              "0.8353293413173652"
            ]
          },
          "metadata": {},
          "execution_count": 163
        }
      ],
      "source": [
        "### finding accuracy score of y_test and x_test\n",
        "accuracy_score(y_test,clf_lda.predict(x_test))"
      ]
    },
    {
      "cell_type": "code",
      "source": [
        "### finding accuracy score of y_train and x_train\n",
        "accuracy_score(y_train,clf_lda.predict(x_train))"
      ],
      "metadata": {
        "colab": {
          "base_uri": "https://localhost:8080/",
          "height": 0
        },
        "id": "GHNrQaAfxAhs",
        "outputId": "f9e568e4-1c94-48b6-f1aa-5de254c820cc"
      },
      "id": "GHNrQaAfxAhs",
      "execution_count": 164,
      "outputs": [
        {
          "output_type": "execute_result",
          "data": {
            "text/plain": [
              "0.8298988385162982"
            ]
          },
          "metadata": {},
          "execution_count": 164
        }
      ]
    },
    {
      "cell_type": "markdown",
      "id": "18ca436a",
      "metadata": {
        "id": "18ca436a"
      },
      "source": [
        "### 8.Logistic Regression"
      ]
    },
    {
      "cell_type": "code",
      "execution_count": 165,
      "id": "adc7f2cf",
      "metadata": {
        "id": "adc7f2cf"
      },
      "outputs": [],
      "source": [
        "### importing logisticRegression from sklearn\n",
        "from sklearn.linear_model import LogisticRegression"
      ]
    },
    {
      "cell_type": "code",
      "execution_count": 166,
      "id": "0c6774bf",
      "metadata": {
        "id": "0c6774bf"
      },
      "outputs": [],
      "source": [
        "###creating object of logistic regression\n",
        "clf_lrs=LogisticRegression()"
      ]
    },
    {
      "cell_type": "code",
      "execution_count": 167,
      "id": "4d014eb8",
      "metadata": {
        "id": "4d014eb8",
        "colab": {
          "base_uri": "https://localhost:8080/",
          "height": 213
        },
        "outputId": "8f26d3d1-7a3d-4267-bde0-9e4d64b295e9"
      },
      "outputs": [
        {
          "output_type": "stream",
          "name": "stderr",
          "text": [
            "/usr/local/lib/python3.10/dist-packages/sklearn/linear_model/_logistic.py:458: ConvergenceWarning: lbfgs failed to converge (status=1):\n",
            "STOP: TOTAL NO. of ITERATIONS REACHED LIMIT.\n",
            "\n",
            "Increase the number of iterations (max_iter) or scale the data as shown in:\n",
            "    https://scikit-learn.org/stable/modules/preprocessing.html\n",
            "Please also refer to the documentation for alternative solver options:\n",
            "    https://scikit-learn.org/stable/modules/linear_model.html#logistic-regression\n",
            "  n_iter_i = _check_optimize_result(\n"
          ]
        },
        {
          "output_type": "execute_result",
          "data": {
            "text/plain": [
              "LogisticRegression()"
            ],
            "text/html": [
              "<style>#sk-container-id-9 {color: black;background-color: white;}#sk-container-id-9 pre{padding: 0;}#sk-container-id-9 div.sk-toggleable {background-color: white;}#sk-container-id-9 label.sk-toggleable__label {cursor: pointer;display: block;width: 100%;margin-bottom: 0;padding: 0.3em;box-sizing: border-box;text-align: center;}#sk-container-id-9 label.sk-toggleable__label-arrow:before {content: \"▸\";float: left;margin-right: 0.25em;color: #696969;}#sk-container-id-9 label.sk-toggleable__label-arrow:hover:before {color: black;}#sk-container-id-9 div.sk-estimator:hover label.sk-toggleable__label-arrow:before {color: black;}#sk-container-id-9 div.sk-toggleable__content {max-height: 0;max-width: 0;overflow: hidden;text-align: left;background-color: #f0f8ff;}#sk-container-id-9 div.sk-toggleable__content pre {margin: 0.2em;color: black;border-radius: 0.25em;background-color: #f0f8ff;}#sk-container-id-9 input.sk-toggleable__control:checked~div.sk-toggleable__content {max-height: 200px;max-width: 100%;overflow: auto;}#sk-container-id-9 input.sk-toggleable__control:checked~label.sk-toggleable__label-arrow:before {content: \"▾\";}#sk-container-id-9 div.sk-estimator input.sk-toggleable__control:checked~label.sk-toggleable__label {background-color: #d4ebff;}#sk-container-id-9 div.sk-label input.sk-toggleable__control:checked~label.sk-toggleable__label {background-color: #d4ebff;}#sk-container-id-9 input.sk-hidden--visually {border: 0;clip: rect(1px 1px 1px 1px);clip: rect(1px, 1px, 1px, 1px);height: 1px;margin: -1px;overflow: hidden;padding: 0;position: absolute;width: 1px;}#sk-container-id-9 div.sk-estimator {font-family: monospace;background-color: #f0f8ff;border: 1px dotted black;border-radius: 0.25em;box-sizing: border-box;margin-bottom: 0.5em;}#sk-container-id-9 div.sk-estimator:hover {background-color: #d4ebff;}#sk-container-id-9 div.sk-parallel-item::after {content: \"\";width: 100%;border-bottom: 1px solid gray;flex-grow: 1;}#sk-container-id-9 div.sk-label:hover label.sk-toggleable__label {background-color: #d4ebff;}#sk-container-id-9 div.sk-serial::before {content: \"\";position: absolute;border-left: 1px solid gray;box-sizing: border-box;top: 0;bottom: 0;left: 50%;z-index: 0;}#sk-container-id-9 div.sk-serial {display: flex;flex-direction: column;align-items: center;background-color: white;padding-right: 0.2em;padding-left: 0.2em;position: relative;}#sk-container-id-9 div.sk-item {position: relative;z-index: 1;}#sk-container-id-9 div.sk-parallel {display: flex;align-items: stretch;justify-content: center;background-color: white;position: relative;}#sk-container-id-9 div.sk-item::before, #sk-container-id-9 div.sk-parallel-item::before {content: \"\";position: absolute;border-left: 1px solid gray;box-sizing: border-box;top: 0;bottom: 0;left: 50%;z-index: -1;}#sk-container-id-9 div.sk-parallel-item {display: flex;flex-direction: column;z-index: 1;position: relative;background-color: white;}#sk-container-id-9 div.sk-parallel-item:first-child::after {align-self: flex-end;width: 50%;}#sk-container-id-9 div.sk-parallel-item:last-child::after {align-self: flex-start;width: 50%;}#sk-container-id-9 div.sk-parallel-item:only-child::after {width: 0;}#sk-container-id-9 div.sk-dashed-wrapped {border: 1px dashed gray;margin: 0 0.4em 0.5em 0.4em;box-sizing: border-box;padding-bottom: 0.4em;background-color: white;}#sk-container-id-9 div.sk-label label {font-family: monospace;font-weight: bold;display: inline-block;line-height: 1.2em;}#sk-container-id-9 div.sk-label-container {text-align: center;}#sk-container-id-9 div.sk-container {/* jupyter's `normalize.less` sets `[hidden] { display: none; }` but bootstrap.min.css set `[hidden] { display: none !important; }` so we also need the `!important` here to be able to override the default hidden behavior on the sphinx rendered scikit-learn.org. See: https://github.com/scikit-learn/scikit-learn/issues/21755 */display: inline-block !important;position: relative;}#sk-container-id-9 div.sk-text-repr-fallback {display: none;}</style><div id=\"sk-container-id-9\" class=\"sk-top-container\"><div class=\"sk-text-repr-fallback\"><pre>LogisticRegression()</pre><b>In a Jupyter environment, please rerun this cell to show the HTML representation or trust the notebook. <br />On GitHub, the HTML representation is unable to render, please try loading this page with nbviewer.org.</b></div><div class=\"sk-container\" hidden><div class=\"sk-item\"><div class=\"sk-estimator sk-toggleable\"><input class=\"sk-toggleable__control sk-hidden--visually\" id=\"sk-estimator-id-13\" type=\"checkbox\" checked><label for=\"sk-estimator-id-13\" class=\"sk-toggleable__label sk-toggleable__label-arrow\">LogisticRegression</label><div class=\"sk-toggleable__content\"><pre>LogisticRegression()</pre></div></div></div></div></div>"
            ]
          },
          "metadata": {},
          "execution_count": 167
        }
      ],
      "source": [
        "#### fitting x_train and y_train on logistic regression object\n",
        "clf_lrs.fit(x_train,y_train)"
      ]
    },
    {
      "cell_type": "code",
      "execution_count": 168,
      "id": "cf64c495",
      "metadata": {
        "id": "cf64c495",
        "colab": {
          "base_uri": "https://localhost:8080/",
          "height": 0
        },
        "outputId": "c9a6da94-07ef-47cd-fbc5-693ecc8765f3"
      },
      "outputs": [
        {
          "output_type": "execute_result",
          "data": {
            "text/plain": [
              "array([[-0.12181945,  0.09221371,  0.03451726,  0.01778918, -0.20121329,\n",
              "         0.00307201,  0.05112136, -0.06010036,  0.05589326, -0.05606626,\n",
              "         0.19755083,  0.03880424, -0.02132792,  0.05806394]])"
            ]
          },
          "metadata": {},
          "execution_count": 168
        }
      ],
      "source": [
        "#### logistic regression classifier coefficient from model\n",
        "clf_lrs.coef_"
      ]
    },
    {
      "cell_type": "code",
      "execution_count": 169,
      "id": "68c12a0d",
      "metadata": {
        "id": "68c12a0d",
        "colab": {
          "base_uri": "https://localhost:8080/",
          "height": 0
        },
        "outputId": "6d1797f9-8e29-4946-9b56-42e45722bc02"
      },
      "outputs": [
        {
          "output_type": "execute_result",
          "data": {
            "text/plain": [
              "array([0.00069553])"
            ]
          },
          "metadata": {},
          "execution_count": 169
        }
      ],
      "source": [
        "###logisticregressionclassifier intercept from model\n",
        "clf_lrs.intercept_"
      ]
    },
    {
      "cell_type": "markdown",
      "id": "b1d09fa9",
      "metadata": {
        "id": "b1d09fa9"
      },
      "source": [
        "setsmodel using"
      ]
    },
    {
      "cell_type": "code",
      "execution_count": 170,
      "id": "ca4b4372",
      "metadata": {
        "id": "ca4b4372"
      },
      "outputs": [],
      "source": [
        "###importing statsmodels\n",
        "import statsmodels.api as sn"
      ]
    },
    {
      "cell_type": "code",
      "execution_count": 171,
      "id": "c1dd5061",
      "metadata": {
        "id": "c1dd5061"
      },
      "outputs": [],
      "source": [
        "### adding constant to x_train variable\n",
        "x_train_const=sn.add_constant(x_train)"
      ]
    },
    {
      "cell_type": "code",
      "execution_count": 172,
      "id": "879a37ef",
      "metadata": {
        "id": "879a37ef",
        "colab": {
          "base_uri": "https://localhost:8080/",
          "height": 206
        },
        "outputId": "88f6843a-9317-4b01-d81e-7e7ab47e3293"
      },
      "outputs": [
        {
          "output_type": "execute_result",
          "data": {
            "text/plain": [
              "      const  MinTemp  MaxTemp  Rainfall  Evaporation  Sunshine  Humidity9am  \\\n",
              "245     1.0     22.5     34.8       0.0          8.6       9.8         41.0   \n",
              "2258    1.0      6.6     21.3       0.0          2.6       9.4         49.0   \n",
              "242     1.0     11.9     19.2       0.8          6.4      11.1         61.0   \n",
              "2747    1.0     17.7     20.1      18.2          9.0       0.0         81.0   \n",
              "2982    1.0      9.5     17.7       0.2          4.4       4.8         54.0   \n",
              "\n",
              "      Humidity3pm  Pressure9am  Pressure3pm  Cloud9am  Cloud3pm  Temp9am  \\\n",
              "245          20.0       1014.8     1010.300       1.0       7.0     29.6   \n",
              "2258         22.0       1007.6      999.600       0.0       1.0     11.9   \n",
              "242          48.0       1020.3     1016.777       2.0       1.0     16.5   \n",
              "2747         70.0       1014.4     1013.400       8.0       8.0     18.7   \n",
              "2982         47.0       1004.0     1003.000       6.0       6.0     12.9   \n",
              "\n",
              "      Temp3pm  RainToday  \n",
              "245      33.9        0.0  \n",
              "2258     20.7        0.0  \n",
              "242      19.0        0.0  \n",
              "2747     18.9        1.0  \n",
              "2982     15.9        0.0  "
            ],
            "text/html": [
              "\n",
              "  <div id=\"df-246d6302-c454-4b00-a015-109502799951\" class=\"colab-df-container\">\n",
              "    <div>\n",
              "<style scoped>\n",
              "    .dataframe tbody tr th:only-of-type {\n",
              "        vertical-align: middle;\n",
              "    }\n",
              "\n",
              "    .dataframe tbody tr th {\n",
              "        vertical-align: top;\n",
              "    }\n",
              "\n",
              "    .dataframe thead th {\n",
              "        text-align: right;\n",
              "    }\n",
              "</style>\n",
              "<table border=\"1\" class=\"dataframe\">\n",
              "  <thead>\n",
              "    <tr style=\"text-align: right;\">\n",
              "      <th></th>\n",
              "      <th>const</th>\n",
              "      <th>MinTemp</th>\n",
              "      <th>MaxTemp</th>\n",
              "      <th>Rainfall</th>\n",
              "      <th>Evaporation</th>\n",
              "      <th>Sunshine</th>\n",
              "      <th>Humidity9am</th>\n",
              "      <th>Humidity3pm</th>\n",
              "      <th>Pressure9am</th>\n",
              "      <th>Pressure3pm</th>\n",
              "      <th>Cloud9am</th>\n",
              "      <th>Cloud3pm</th>\n",
              "      <th>Temp9am</th>\n",
              "      <th>Temp3pm</th>\n",
              "      <th>RainToday</th>\n",
              "    </tr>\n",
              "  </thead>\n",
              "  <tbody>\n",
              "    <tr>\n",
              "      <th>245</th>\n",
              "      <td>1.0</td>\n",
              "      <td>22.5</td>\n",
              "      <td>34.8</td>\n",
              "      <td>0.0</td>\n",
              "      <td>8.6</td>\n",
              "      <td>9.8</td>\n",
              "      <td>41.0</td>\n",
              "      <td>20.0</td>\n",
              "      <td>1014.8</td>\n",
              "      <td>1010.300</td>\n",
              "      <td>1.0</td>\n",
              "      <td>7.0</td>\n",
              "      <td>29.6</td>\n",
              "      <td>33.9</td>\n",
              "      <td>0.0</td>\n",
              "    </tr>\n",
              "    <tr>\n",
              "      <th>2258</th>\n",
              "      <td>1.0</td>\n",
              "      <td>6.6</td>\n",
              "      <td>21.3</td>\n",
              "      <td>0.0</td>\n",
              "      <td>2.6</td>\n",
              "      <td>9.4</td>\n",
              "      <td>49.0</td>\n",
              "      <td>22.0</td>\n",
              "      <td>1007.6</td>\n",
              "      <td>999.600</td>\n",
              "      <td>0.0</td>\n",
              "      <td>1.0</td>\n",
              "      <td>11.9</td>\n",
              "      <td>20.7</td>\n",
              "      <td>0.0</td>\n",
              "    </tr>\n",
              "    <tr>\n",
              "      <th>242</th>\n",
              "      <td>1.0</td>\n",
              "      <td>11.9</td>\n",
              "      <td>19.2</td>\n",
              "      <td>0.8</td>\n",
              "      <td>6.4</td>\n",
              "      <td>11.1</td>\n",
              "      <td>61.0</td>\n",
              "      <td>48.0</td>\n",
              "      <td>1020.3</td>\n",
              "      <td>1016.777</td>\n",
              "      <td>2.0</td>\n",
              "      <td>1.0</td>\n",
              "      <td>16.5</td>\n",
              "      <td>19.0</td>\n",
              "      <td>0.0</td>\n",
              "    </tr>\n",
              "    <tr>\n",
              "      <th>2747</th>\n",
              "      <td>1.0</td>\n",
              "      <td>17.7</td>\n",
              "      <td>20.1</td>\n",
              "      <td>18.2</td>\n",
              "      <td>9.0</td>\n",
              "      <td>0.0</td>\n",
              "      <td>81.0</td>\n",
              "      <td>70.0</td>\n",
              "      <td>1014.4</td>\n",
              "      <td>1013.400</td>\n",
              "      <td>8.0</td>\n",
              "      <td>8.0</td>\n",
              "      <td>18.7</td>\n",
              "      <td>18.9</td>\n",
              "      <td>1.0</td>\n",
              "    </tr>\n",
              "    <tr>\n",
              "      <th>2982</th>\n",
              "      <td>1.0</td>\n",
              "      <td>9.5</td>\n",
              "      <td>17.7</td>\n",
              "      <td>0.2</td>\n",
              "      <td>4.4</td>\n",
              "      <td>4.8</td>\n",
              "      <td>54.0</td>\n",
              "      <td>47.0</td>\n",
              "      <td>1004.0</td>\n",
              "      <td>1003.000</td>\n",
              "      <td>6.0</td>\n",
              "      <td>6.0</td>\n",
              "      <td>12.9</td>\n",
              "      <td>15.9</td>\n",
              "      <td>0.0</td>\n",
              "    </tr>\n",
              "  </tbody>\n",
              "</table>\n",
              "</div>\n",
              "    <div class=\"colab-df-buttons\">\n",
              "\n",
              "  <div class=\"colab-df-container\">\n",
              "    <button class=\"colab-df-convert\" onclick=\"convertToInteractive('df-246d6302-c454-4b00-a015-109502799951')\"\n",
              "            title=\"Convert this dataframe to an interactive table.\"\n",
              "            style=\"display:none;\">\n",
              "\n",
              "  <svg xmlns=\"http://www.w3.org/2000/svg\" height=\"24px\" viewBox=\"0 -960 960 960\">\n",
              "    <path d=\"M120-120v-720h720v720H120Zm60-500h600v-160H180v160Zm220 220h160v-160H400v160Zm0 220h160v-160H400v160ZM180-400h160v-160H180v160Zm440 0h160v-160H620v160ZM180-180h160v-160H180v160Zm440 0h160v-160H620v160Z\"/>\n",
              "  </svg>\n",
              "    </button>\n",
              "\n",
              "  <style>\n",
              "    .colab-df-container {\n",
              "      display:flex;\n",
              "      gap: 12px;\n",
              "    }\n",
              "\n",
              "    .colab-df-convert {\n",
              "      background-color: #E8F0FE;\n",
              "      border: none;\n",
              "      border-radius: 50%;\n",
              "      cursor: pointer;\n",
              "      display: none;\n",
              "      fill: #1967D2;\n",
              "      height: 32px;\n",
              "      padding: 0 0 0 0;\n",
              "      width: 32px;\n",
              "    }\n",
              "\n",
              "    .colab-df-convert:hover {\n",
              "      background-color: #E2EBFA;\n",
              "      box-shadow: 0px 1px 2px rgba(60, 64, 67, 0.3), 0px 1px 3px 1px rgba(60, 64, 67, 0.15);\n",
              "      fill: #174EA6;\n",
              "    }\n",
              "\n",
              "    .colab-df-buttons div {\n",
              "      margin-bottom: 4px;\n",
              "    }\n",
              "\n",
              "    [theme=dark] .colab-df-convert {\n",
              "      background-color: #3B4455;\n",
              "      fill: #D2E3FC;\n",
              "    }\n",
              "\n",
              "    [theme=dark] .colab-df-convert:hover {\n",
              "      background-color: #434B5C;\n",
              "      box-shadow: 0px 1px 3px 1px rgba(0, 0, 0, 0.15);\n",
              "      filter: drop-shadow(0px 1px 2px rgba(0, 0, 0, 0.3));\n",
              "      fill: #FFFFFF;\n",
              "    }\n",
              "  </style>\n",
              "\n",
              "    <script>\n",
              "      const buttonEl =\n",
              "        document.querySelector('#df-246d6302-c454-4b00-a015-109502799951 button.colab-df-convert');\n",
              "      buttonEl.style.display =\n",
              "        google.colab.kernel.accessAllowed ? 'block' : 'none';\n",
              "\n",
              "      async function convertToInteractive(key) {\n",
              "        const element = document.querySelector('#df-246d6302-c454-4b00-a015-109502799951');\n",
              "        const dataTable =\n",
              "          await google.colab.kernel.invokeFunction('convertToInteractive',\n",
              "                                                    [key], {});\n",
              "        if (!dataTable) return;\n",
              "\n",
              "        const docLinkHtml = 'Like what you see? Visit the ' +\n",
              "          '<a target=\"_blank\" href=https://colab.research.google.com/notebooks/data_table.ipynb>data table notebook</a>'\n",
              "          + ' to learn more about interactive tables.';\n",
              "        element.innerHTML = '';\n",
              "        dataTable['output_type'] = 'display_data';\n",
              "        await google.colab.output.renderOutput(dataTable, element);\n",
              "        const docLink = document.createElement('div');\n",
              "        docLink.innerHTML = docLinkHtml;\n",
              "        element.appendChild(docLink);\n",
              "      }\n",
              "    </script>\n",
              "  </div>\n",
              "\n",
              "\n",
              "<div id=\"df-87a80bef-fe4f-441e-b847-40ec65672984\">\n",
              "  <button class=\"colab-df-quickchart\" onclick=\"quickchart('df-87a80bef-fe4f-441e-b847-40ec65672984')\"\n",
              "            title=\"Suggest charts.\"\n",
              "            style=\"display:none;\">\n",
              "\n",
              "<svg xmlns=\"http://www.w3.org/2000/svg\" height=\"24px\"viewBox=\"0 0 24 24\"\n",
              "     width=\"24px\">\n",
              "    <g>\n",
              "        <path d=\"M19 3H5c-1.1 0-2 .9-2 2v14c0 1.1.9 2 2 2h14c1.1 0 2-.9 2-2V5c0-1.1-.9-2-2-2zM9 17H7v-7h2v7zm4 0h-2V7h2v10zm4 0h-2v-4h2v4z\"/>\n",
              "    </g>\n",
              "</svg>\n",
              "  </button>\n",
              "\n",
              "<style>\n",
              "  .colab-df-quickchart {\n",
              "      --bg-color: #E8F0FE;\n",
              "      --fill-color: #1967D2;\n",
              "      --hover-bg-color: #E2EBFA;\n",
              "      --hover-fill-color: #174EA6;\n",
              "      --disabled-fill-color: #AAA;\n",
              "      --disabled-bg-color: #DDD;\n",
              "  }\n",
              "\n",
              "  [theme=dark] .colab-df-quickchart {\n",
              "      --bg-color: #3B4455;\n",
              "      --fill-color: #D2E3FC;\n",
              "      --hover-bg-color: #434B5C;\n",
              "      --hover-fill-color: #FFFFFF;\n",
              "      --disabled-bg-color: #3B4455;\n",
              "      --disabled-fill-color: #666;\n",
              "  }\n",
              "\n",
              "  .colab-df-quickchart {\n",
              "    background-color: var(--bg-color);\n",
              "    border: none;\n",
              "    border-radius: 50%;\n",
              "    cursor: pointer;\n",
              "    display: none;\n",
              "    fill: var(--fill-color);\n",
              "    height: 32px;\n",
              "    padding: 0;\n",
              "    width: 32px;\n",
              "  }\n",
              "\n",
              "  .colab-df-quickchart:hover {\n",
              "    background-color: var(--hover-bg-color);\n",
              "    box-shadow: 0 1px 2px rgba(60, 64, 67, 0.3), 0 1px 3px 1px rgba(60, 64, 67, 0.15);\n",
              "    fill: var(--button-hover-fill-color);\n",
              "  }\n",
              "\n",
              "  .colab-df-quickchart-complete:disabled,\n",
              "  .colab-df-quickchart-complete:disabled:hover {\n",
              "    background-color: var(--disabled-bg-color);\n",
              "    fill: var(--disabled-fill-color);\n",
              "    box-shadow: none;\n",
              "  }\n",
              "\n",
              "  .colab-df-spinner {\n",
              "    border: 2px solid var(--fill-color);\n",
              "    border-color: transparent;\n",
              "    border-bottom-color: var(--fill-color);\n",
              "    animation:\n",
              "      spin 1s steps(1) infinite;\n",
              "  }\n",
              "\n",
              "  @keyframes spin {\n",
              "    0% {\n",
              "      border-color: transparent;\n",
              "      border-bottom-color: var(--fill-color);\n",
              "      border-left-color: var(--fill-color);\n",
              "    }\n",
              "    20% {\n",
              "      border-color: transparent;\n",
              "      border-left-color: var(--fill-color);\n",
              "      border-top-color: var(--fill-color);\n",
              "    }\n",
              "    30% {\n",
              "      border-color: transparent;\n",
              "      border-left-color: var(--fill-color);\n",
              "      border-top-color: var(--fill-color);\n",
              "      border-right-color: var(--fill-color);\n",
              "    }\n",
              "    40% {\n",
              "      border-color: transparent;\n",
              "      border-right-color: var(--fill-color);\n",
              "      border-top-color: var(--fill-color);\n",
              "    }\n",
              "    60% {\n",
              "      border-color: transparent;\n",
              "      border-right-color: var(--fill-color);\n",
              "    }\n",
              "    80% {\n",
              "      border-color: transparent;\n",
              "      border-right-color: var(--fill-color);\n",
              "      border-bottom-color: var(--fill-color);\n",
              "    }\n",
              "    90% {\n",
              "      border-color: transparent;\n",
              "      border-bottom-color: var(--fill-color);\n",
              "    }\n",
              "  }\n",
              "</style>\n",
              "\n",
              "  <script>\n",
              "    async function quickchart(key) {\n",
              "      const quickchartButtonEl =\n",
              "        document.querySelector('#' + key + ' button');\n",
              "      quickchartButtonEl.disabled = true;  // To prevent multiple clicks.\n",
              "      quickchartButtonEl.classList.add('colab-df-spinner');\n",
              "      try {\n",
              "        const charts = await google.colab.kernel.invokeFunction(\n",
              "            'suggestCharts', [key], {});\n",
              "      } catch (error) {\n",
              "        console.error('Error during call to suggestCharts:', error);\n",
              "      }\n",
              "      quickchartButtonEl.classList.remove('colab-df-spinner');\n",
              "      quickchartButtonEl.classList.add('colab-df-quickchart-complete');\n",
              "    }\n",
              "    (() => {\n",
              "      let quickchartButtonEl =\n",
              "        document.querySelector('#df-87a80bef-fe4f-441e-b847-40ec65672984 button');\n",
              "      quickchartButtonEl.style.display =\n",
              "        google.colab.kernel.accessAllowed ? 'block' : 'none';\n",
              "    })();\n",
              "  </script>\n",
              "</div>\n",
              "    </div>\n",
              "  </div>\n"
            ]
          },
          "metadata": {},
          "execution_count": 172
        }
      ],
      "source": [
        "###first five records of x_train_constant variable\n",
        "x_train_const.head()"
      ]
    },
    {
      "cell_type": "code",
      "execution_count": 173,
      "id": "e57c6dd8",
      "metadata": {
        "id": "e57c6dd8"
      },
      "outputs": [],
      "source": [
        "### importing statsmodels\n",
        "import statsmodels.discrete.discrete_model as sm"
      ]
    },
    {
      "cell_type": "code",
      "execution_count": 174,
      "id": "b45e4918",
      "metadata": {
        "id": "b45e4918",
        "colab": {
          "base_uri": "https://localhost:8080/",
          "height": 0
        },
        "outputId": "02d962b2-d6ce-4cee-82d7-614abecf19f4"
      },
      "outputs": [
        {
          "output_type": "stream",
          "name": "stdout",
          "text": [
            "Optimization terminated successfully.\n",
            "         Current function value: 0.385123\n",
            "         Iterations 7\n"
          ]
        }
      ],
      "source": [
        "###fitting y_train and x_train variables on logistic_regression_classifier\n",
        "logit= sm.Logit(y_train, x_train_const).fit()"
      ]
    },
    {
      "cell_type": "code",
      "execution_count": 175,
      "id": "f8e9d12a",
      "metadata": {
        "id": "f8e9d12a",
        "colab": {
          "base_uri": "https://localhost:8080/",
          "height": 519
        },
        "outputId": "ae4aaaae-5294-435a-ca3b-fdc973d8e3b4"
      },
      "outputs": [
        {
          "output_type": "execute_result",
          "data": {
            "text/plain": [
              "<class 'statsmodels.iolib.summary.Summary'>\n",
              "\"\"\"\n",
              "                           Logit Regression Results                           \n",
              "==============================================================================\n",
              "Dep. Variable:           RainTomorrow   No. Observations:                 2669\n",
              "Model:                          Logit   Df Residuals:                     2654\n",
              "Method:                           MLE   Df Model:                           14\n",
              "Date:                Mon, 11 Sep 2023   Pseudo R-squ.:                  0.3338\n",
              "Time:                        15:38:30   Log-Likelihood:                -1027.9\n",
              "converged:                       True   LL-Null:                       -1543.0\n",
              "Covariance Type:            nonrobust   LLR p-value:                5.225e-211\n",
              "===============================================================================\n",
              "                  coef    std err          z      P>|z|      [0.025      0.975]\n",
              "-------------------------------------------------------------------------------\n",
              "const          29.6866      9.523      3.117      0.002      11.021      48.352\n",
              "MinTemp        -0.2795      0.054     -5.189      0.000      -0.385      -0.174\n",
              "MaxTemp         0.0732      0.047      1.549      0.121      -0.019       0.166\n",
              "Rainfall        0.0102      0.008      1.353      0.176      -0.005       0.025\n",
              "Evaporation     0.0610      0.028      2.165      0.030       0.006       0.116\n",
              "Sunshine       -0.2187      0.025     -8.618      0.000      -0.268      -0.169\n",
              "Humidity9am     0.0145      0.008      1.889      0.059      -0.001       0.030\n",
              "Humidity3pm     0.0490      0.008      6.488      0.000       0.034       0.064\n",
              "Pressure9am    -0.1105      0.034     -3.212      0.001      -0.178      -0.043\n",
              "Pressure3pm     0.0768      0.033      2.310      0.021       0.012       0.142\n",
              "Cloud9am       -0.0363      0.034     -1.069      0.285      -0.103       0.030\n",
              "Cloud3pm        0.1480      0.034      4.328      0.000       0.081       0.215\n",
              "Temp9am         0.1800      0.057      3.143      0.002       0.068       0.292\n",
              "Temp3pm        -0.0281      0.056     -0.505      0.614      -0.137       0.081\n",
              "RainToday       0.7216      0.153      4.729      0.000       0.423       1.021\n",
              "===============================================================================\n",
              "\"\"\""
            ],
            "text/html": [
              "<table class=\"simpletable\">\n",
              "<caption>Logit Regression Results</caption>\n",
              "<tr>\n",
              "  <th>Dep. Variable:</th>     <td>RainTomorrow</td>   <th>  No. Observations:  </th>   <td>  2669</td>  \n",
              "</tr>\n",
              "<tr>\n",
              "  <th>Model:</th>                 <td>Logit</td>      <th>  Df Residuals:      </th>   <td>  2654</td>  \n",
              "</tr>\n",
              "<tr>\n",
              "  <th>Method:</th>                 <td>MLE</td>       <th>  Df Model:          </th>   <td>    14</td>  \n",
              "</tr>\n",
              "<tr>\n",
              "  <th>Date:</th>            <td>Mon, 11 Sep 2023</td> <th>  Pseudo R-squ.:     </th>   <td>0.3338</td>  \n",
              "</tr>\n",
              "<tr>\n",
              "  <th>Time:</th>                <td>15:38:30</td>     <th>  Log-Likelihood:    </th>  <td> -1027.9</td> \n",
              "</tr>\n",
              "<tr>\n",
              "  <th>converged:</th>             <td>True</td>       <th>  LL-Null:           </th>  <td> -1543.0</td> \n",
              "</tr>\n",
              "<tr>\n",
              "  <th>Covariance Type:</th>     <td>nonrobust</td>    <th>  LLR p-value:       </th> <td>5.225e-211</td>\n",
              "</tr>\n",
              "</table>\n",
              "<table class=\"simpletable\">\n",
              "<tr>\n",
              "       <td></td>          <th>coef</th>     <th>std err</th>      <th>z</th>      <th>P>|z|</th>  <th>[0.025</th>    <th>0.975]</th>  \n",
              "</tr>\n",
              "<tr>\n",
              "  <th>const</th>       <td>   29.6866</td> <td>    9.523</td> <td>    3.117</td> <td> 0.002</td> <td>   11.021</td> <td>   48.352</td>\n",
              "</tr>\n",
              "<tr>\n",
              "  <th>MinTemp</th>     <td>   -0.2795</td> <td>    0.054</td> <td>   -5.189</td> <td> 0.000</td> <td>   -0.385</td> <td>   -0.174</td>\n",
              "</tr>\n",
              "<tr>\n",
              "  <th>MaxTemp</th>     <td>    0.0732</td> <td>    0.047</td> <td>    1.549</td> <td> 0.121</td> <td>   -0.019</td> <td>    0.166</td>\n",
              "</tr>\n",
              "<tr>\n",
              "  <th>Rainfall</th>    <td>    0.0102</td> <td>    0.008</td> <td>    1.353</td> <td> 0.176</td> <td>   -0.005</td> <td>    0.025</td>\n",
              "</tr>\n",
              "<tr>\n",
              "  <th>Evaporation</th> <td>    0.0610</td> <td>    0.028</td> <td>    2.165</td> <td> 0.030</td> <td>    0.006</td> <td>    0.116</td>\n",
              "</tr>\n",
              "<tr>\n",
              "  <th>Sunshine</th>    <td>   -0.2187</td> <td>    0.025</td> <td>   -8.618</td> <td> 0.000</td> <td>   -0.268</td> <td>   -0.169</td>\n",
              "</tr>\n",
              "<tr>\n",
              "  <th>Humidity9am</th> <td>    0.0145</td> <td>    0.008</td> <td>    1.889</td> <td> 0.059</td> <td>   -0.001</td> <td>    0.030</td>\n",
              "</tr>\n",
              "<tr>\n",
              "  <th>Humidity3pm</th> <td>    0.0490</td> <td>    0.008</td> <td>    6.488</td> <td> 0.000</td> <td>    0.034</td> <td>    0.064</td>\n",
              "</tr>\n",
              "<tr>\n",
              "  <th>Pressure9am</th> <td>   -0.1105</td> <td>    0.034</td> <td>   -3.212</td> <td> 0.001</td> <td>   -0.178</td> <td>   -0.043</td>\n",
              "</tr>\n",
              "<tr>\n",
              "  <th>Pressure3pm</th> <td>    0.0768</td> <td>    0.033</td> <td>    2.310</td> <td> 0.021</td> <td>    0.012</td> <td>    0.142</td>\n",
              "</tr>\n",
              "<tr>\n",
              "  <th>Cloud9am</th>    <td>   -0.0363</td> <td>    0.034</td> <td>   -1.069</td> <td> 0.285</td> <td>   -0.103</td> <td>    0.030</td>\n",
              "</tr>\n",
              "<tr>\n",
              "  <th>Cloud3pm</th>    <td>    0.1480</td> <td>    0.034</td> <td>    4.328</td> <td> 0.000</td> <td>    0.081</td> <td>    0.215</td>\n",
              "</tr>\n",
              "<tr>\n",
              "  <th>Temp9am</th>     <td>    0.1800</td> <td>    0.057</td> <td>    3.143</td> <td> 0.002</td> <td>    0.068</td> <td>    0.292</td>\n",
              "</tr>\n",
              "<tr>\n",
              "  <th>Temp3pm</th>     <td>   -0.0281</td> <td>    0.056</td> <td>   -0.505</td> <td> 0.614</td> <td>   -0.137</td> <td>    0.081</td>\n",
              "</tr>\n",
              "<tr>\n",
              "  <th>RainToday</th>   <td>    0.7216</td> <td>    0.153</td> <td>    4.729</td> <td> 0.000</td> <td>    0.423</td> <td>    1.021</td>\n",
              "</tr>\n",
              "</table>"
            ],
            "text/latex": "\\begin{center}\n\\begin{tabular}{lclc}\n\\toprule\n\\textbf{Dep. Variable:}   &   RainTomorrow   & \\textbf{  No. Observations:  } &     2669    \\\\\n\\textbf{Model:}           &      Logit       & \\textbf{  Df Residuals:      } &     2654    \\\\\n\\textbf{Method:}          &       MLE        & \\textbf{  Df Model:          } &       14    \\\\\n\\textbf{Date:}            & Mon, 11 Sep 2023 & \\textbf{  Pseudo R-squ.:     } &   0.3338    \\\\\n\\textbf{Time:}            &     15:38:30     & \\textbf{  Log-Likelihood:    } &   -1027.9   \\\\\n\\textbf{converged:}       &       True       & \\textbf{  LL-Null:           } &   -1543.0   \\\\\n\\textbf{Covariance Type:} &    nonrobust     & \\textbf{  LLR p-value:       } & 5.225e-211  \\\\\n\\bottomrule\n\\end{tabular}\n\\begin{tabular}{lcccccc}\n                     & \\textbf{coef} & \\textbf{std err} & \\textbf{z} & \\textbf{P$> |$z$|$} & \\textbf{[0.025} & \\textbf{0.975]}  \\\\\n\\midrule\n\\textbf{const}       &      29.6866  &        9.523     &     3.117  &         0.002        &       11.021    &       48.352     \\\\\n\\textbf{MinTemp}     &      -0.2795  &        0.054     &    -5.189  &         0.000        &       -0.385    &       -0.174     \\\\\n\\textbf{MaxTemp}     &       0.0732  &        0.047     &     1.549  &         0.121        &       -0.019    &        0.166     \\\\\n\\textbf{Rainfall}    &       0.0102  &        0.008     &     1.353  &         0.176        &       -0.005    &        0.025     \\\\\n\\textbf{Evaporation} &       0.0610  &        0.028     &     2.165  &         0.030        &        0.006    &        0.116     \\\\\n\\textbf{Sunshine}    &      -0.2187  &        0.025     &    -8.618  &         0.000        &       -0.268    &       -0.169     \\\\\n\\textbf{Humidity9am} &       0.0145  &        0.008     &     1.889  &         0.059        &       -0.001    &        0.030     \\\\\n\\textbf{Humidity3pm} &       0.0490  &        0.008     &     6.488  &         0.000        &        0.034    &        0.064     \\\\\n\\textbf{Pressure9am} &      -0.1105  &        0.034     &    -3.212  &         0.001        &       -0.178    &       -0.043     \\\\\n\\textbf{Pressure3pm} &       0.0768  &        0.033     &     2.310  &         0.021        &        0.012    &        0.142     \\\\\n\\textbf{Cloud9am}    &      -0.0363  &        0.034     &    -1.069  &         0.285        &       -0.103    &        0.030     \\\\\n\\textbf{Cloud3pm}    &       0.1480  &        0.034     &     4.328  &         0.000        &        0.081    &        0.215     \\\\\n\\textbf{Temp9am}     &       0.1800  &        0.057     &     3.143  &         0.002        &        0.068    &        0.292     \\\\\n\\textbf{Temp3pm}     &      -0.0281  &        0.056     &    -0.505  &         0.614        &       -0.137    &        0.081     \\\\\n\\textbf{RainToday}   &       0.7216  &        0.153     &     4.729  &         0.000        &        0.423    &        1.021     \\\\\n\\bottomrule\n\\end{tabular}\n%\\caption{Logit Regression Results}\n\\end{center}"
          },
          "metadata": {},
          "execution_count": 175
        }
      ],
      "source": [
        "###summary of logistic regression classifier model\n",
        "logit.summary()"
      ]
    },
    {
      "cell_type": "code",
      "execution_count": 176,
      "id": "bf9f5bf3",
      "metadata": {
        "id": "bf9f5bf3",
        "colab": {
          "base_uri": "https://localhost:8080/",
          "height": 0
        },
        "outputId": "fa8fcc2b-f06b-42ab-bc15-934d43960f16"
      },
      "outputs": [
        {
          "output_type": "execute_result",
          "data": {
            "text/plain": [
              "array([[472,  38],\n",
              "       [ 80,  78]])"
            ]
          },
          "metadata": {},
          "execution_count": 176
        }
      ],
      "source": [
        "#### creating confusion matrix of y_test and x_test of logisticregression classifier\n",
        "confusion_matrix(y_test,clf_lrs.predict(x_test))"
      ]
    },
    {
      "cell_type": "code",
      "execution_count": 177,
      "id": "d951fa57",
      "metadata": {
        "id": "d951fa57",
        "colab": {
          "base_uri": "https://localhost:8080/",
          "height": 0
        },
        "outputId": "5a3e5212-4842-4766-f7f4-bf6eada2db43"
      },
      "outputs": [
        {
          "output_type": "execute_result",
          "data": {
            "text/plain": [
              "0.4936708860759494"
            ]
          },
          "metadata": {},
          "execution_count": 177
        }
      ],
      "source": [
        "###finding recall score of y_test and x_test\n",
        "recall_score(y_test,clf_lrs.predict(x_test))"
      ]
    },
    {
      "cell_type": "code",
      "execution_count": 178,
      "id": "fd62cc8c",
      "metadata": {
        "id": "fd62cc8c",
        "colab": {
          "base_uri": "https://localhost:8080/",
          "height": 0
        },
        "outputId": "18ffb49b-ebb4-4c8e-b61e-2a8740dd03bd"
      },
      "outputs": [
        {
          "output_type": "execute_result",
          "data": {
            "text/plain": [
              "0.6724137931034483"
            ]
          },
          "metadata": {},
          "execution_count": 178
        }
      ],
      "source": [
        "### finding precision score y_test and x_test\n",
        "precision_score(y_test,clf_lrs.predict(x_test))"
      ]
    },
    {
      "cell_type": "code",
      "execution_count": 179,
      "id": "a324b878",
      "metadata": {
        "id": "a324b878",
        "colab": {
          "base_uri": "https://localhost:8080/",
          "height": 0
        },
        "outputId": "96cbbf36-f4ab-4382-b1ba-ee1782d015bb"
      },
      "outputs": [
        {
          "output_type": "execute_result",
          "data": {
            "text/plain": [
              "0.7095805410771904"
            ]
          },
          "metadata": {},
          "execution_count": 179
        }
      ],
      "source": [
        "### finding roc_auc score of y_test and x_test of logisticregressionclassifier\n",
        "roc_auc_score(y_test,clf_lrs.predict(x_test))"
      ]
    },
    {
      "cell_type": "code",
      "execution_count": 180,
      "id": "ffa843ed",
      "metadata": {
        "id": "ffa843ed",
        "colab": {
          "base_uri": "https://localhost:8080/",
          "height": 0
        },
        "outputId": "f5de9cca-16b6-40ac-b963-0464150d96ee"
      },
      "outputs": [
        {
          "output_type": "execute_result",
          "data": {
            "text/plain": [
              "0.8233532934131736"
            ]
          },
          "metadata": {},
          "execution_count": 180
        }
      ],
      "source": [
        "### finding accuracy score of y_test and and x_test of logisticregressionclassifier\n",
        "accuracy_score(y_test,clf_lrs.predict(x_test))"
      ]
    },
    {
      "cell_type": "code",
      "source": [
        "### finding accuracy score of y_train and and x_train of logisticregressionclassifier\n",
        "accuracy_score(y_train,clf_lrs.predict(x_train))"
      ],
      "metadata": {
        "colab": {
          "base_uri": "https://localhost:8080/",
          "height": 0
        },
        "id": "gLLtLIDhxN_K",
        "outputId": "cbc2b9b8-f2d9-4d85-cb8c-76f13947aad6"
      },
      "id": "gLLtLIDhxN_K",
      "execution_count": 181,
      "outputs": [
        {
          "output_type": "execute_result",
          "data": {
            "text/plain": [
              "0.8261521168977145"
            ]
          },
          "metadata": {},
          "execution_count": 181
        }
      ]
    },
    {
      "cell_type": "markdown",
      "source": [
        "#### 9.XG Boost"
      ],
      "metadata": {
        "id": "rd6yx0Uqp31h"
      },
      "id": "rd6yx0Uqp31h"
    },
    {
      "cell_type": "code",
      "source": [
        "### importing xgboost\n",
        "import xgboost as xgb"
      ],
      "metadata": {
        "id": "utF9g3KNqrWf"
      },
      "id": "utF9g3KNqrWf",
      "execution_count": 182,
      "outputs": []
    },
    {
      "cell_type": "code",
      "source": [
        "###creating xgboost classifier object\n",
        "xgb_clf=xgb.XGBClassifier(max_depth=5, n_estimators=10, learning_rate=0.2, n_jobs=-1,random_state=0)"
      ],
      "metadata": {
        "id": "t0Hinrg0qLC5"
      },
      "id": "t0Hinrg0qLC5",
      "execution_count": 183,
      "outputs": []
    },
    {
      "cell_type": "code",
      "source": [
        "### fitting x_train and y_train on xgboost classifier object\n",
        "xgb_clf.fit(x_train,y_train)"
      ],
      "metadata": {
        "colab": {
          "base_uri": "https://localhost:8080/",
          "height": 248
        },
        "id": "9MJCaL59qlei",
        "outputId": "692e7a94-6b2b-49b1-b89e-4f0af881aa57"
      },
      "id": "9MJCaL59qlei",
      "execution_count": 184,
      "outputs": [
        {
          "output_type": "execute_result",
          "data": {
            "text/plain": [
              "XGBClassifier(base_score=None, booster=None, callbacks=None,\n",
              "              colsample_bylevel=None, colsample_bynode=None,\n",
              "              colsample_bytree=None, early_stopping_rounds=None,\n",
              "              enable_categorical=False, eval_metric=None, feature_types=None,\n",
              "              gamma=None, gpu_id=None, grow_policy=None, importance_type=None,\n",
              "              interaction_constraints=None, learning_rate=0.2, max_bin=None,\n",
              "              max_cat_threshold=None, max_cat_to_onehot=None,\n",
              "              max_delta_step=None, max_depth=5, max_leaves=None,\n",
              "              min_child_weight=None, missing=nan, monotone_constraints=None,\n",
              "              n_estimators=10, n_jobs=-1, num_parallel_tree=None,\n",
              "              predictor=None, random_state=0, ...)"
            ],
            "text/html": [
              "<style>#sk-container-id-10 {color: black;background-color: white;}#sk-container-id-10 pre{padding: 0;}#sk-container-id-10 div.sk-toggleable {background-color: white;}#sk-container-id-10 label.sk-toggleable__label {cursor: pointer;display: block;width: 100%;margin-bottom: 0;padding: 0.3em;box-sizing: border-box;text-align: center;}#sk-container-id-10 label.sk-toggleable__label-arrow:before {content: \"▸\";float: left;margin-right: 0.25em;color: #696969;}#sk-container-id-10 label.sk-toggleable__label-arrow:hover:before {color: black;}#sk-container-id-10 div.sk-estimator:hover label.sk-toggleable__label-arrow:before {color: black;}#sk-container-id-10 div.sk-toggleable__content {max-height: 0;max-width: 0;overflow: hidden;text-align: left;background-color: #f0f8ff;}#sk-container-id-10 div.sk-toggleable__content pre {margin: 0.2em;color: black;border-radius: 0.25em;background-color: #f0f8ff;}#sk-container-id-10 input.sk-toggleable__control:checked~div.sk-toggleable__content {max-height: 200px;max-width: 100%;overflow: auto;}#sk-container-id-10 input.sk-toggleable__control:checked~label.sk-toggleable__label-arrow:before {content: \"▾\";}#sk-container-id-10 div.sk-estimator input.sk-toggleable__control:checked~label.sk-toggleable__label {background-color: #d4ebff;}#sk-container-id-10 div.sk-label input.sk-toggleable__control:checked~label.sk-toggleable__label {background-color: #d4ebff;}#sk-container-id-10 input.sk-hidden--visually {border: 0;clip: rect(1px 1px 1px 1px);clip: rect(1px, 1px, 1px, 1px);height: 1px;margin: -1px;overflow: hidden;padding: 0;position: absolute;width: 1px;}#sk-container-id-10 div.sk-estimator {font-family: monospace;background-color: #f0f8ff;border: 1px dotted black;border-radius: 0.25em;box-sizing: border-box;margin-bottom: 0.5em;}#sk-container-id-10 div.sk-estimator:hover {background-color: #d4ebff;}#sk-container-id-10 div.sk-parallel-item::after {content: \"\";width: 100%;border-bottom: 1px solid gray;flex-grow: 1;}#sk-container-id-10 div.sk-label:hover label.sk-toggleable__label {background-color: #d4ebff;}#sk-container-id-10 div.sk-serial::before {content: \"\";position: absolute;border-left: 1px solid gray;box-sizing: border-box;top: 0;bottom: 0;left: 50%;z-index: 0;}#sk-container-id-10 div.sk-serial {display: flex;flex-direction: column;align-items: center;background-color: white;padding-right: 0.2em;padding-left: 0.2em;position: relative;}#sk-container-id-10 div.sk-item {position: relative;z-index: 1;}#sk-container-id-10 div.sk-parallel {display: flex;align-items: stretch;justify-content: center;background-color: white;position: relative;}#sk-container-id-10 div.sk-item::before, #sk-container-id-10 div.sk-parallel-item::before {content: \"\";position: absolute;border-left: 1px solid gray;box-sizing: border-box;top: 0;bottom: 0;left: 50%;z-index: -1;}#sk-container-id-10 div.sk-parallel-item {display: flex;flex-direction: column;z-index: 1;position: relative;background-color: white;}#sk-container-id-10 div.sk-parallel-item:first-child::after {align-self: flex-end;width: 50%;}#sk-container-id-10 div.sk-parallel-item:last-child::after {align-self: flex-start;width: 50%;}#sk-container-id-10 div.sk-parallel-item:only-child::after {width: 0;}#sk-container-id-10 div.sk-dashed-wrapped {border: 1px dashed gray;margin: 0 0.4em 0.5em 0.4em;box-sizing: border-box;padding-bottom: 0.4em;background-color: white;}#sk-container-id-10 div.sk-label label {font-family: monospace;font-weight: bold;display: inline-block;line-height: 1.2em;}#sk-container-id-10 div.sk-label-container {text-align: center;}#sk-container-id-10 div.sk-container {/* jupyter's `normalize.less` sets `[hidden] { display: none; }` but bootstrap.min.css set `[hidden] { display: none !important; }` so we also need the `!important` here to be able to override the default hidden behavior on the sphinx rendered scikit-learn.org. See: https://github.com/scikit-learn/scikit-learn/issues/21755 */display: inline-block !important;position: relative;}#sk-container-id-10 div.sk-text-repr-fallback {display: none;}</style><div id=\"sk-container-id-10\" class=\"sk-top-container\"><div class=\"sk-text-repr-fallback\"><pre>XGBClassifier(base_score=None, booster=None, callbacks=None,\n",
              "              colsample_bylevel=None, colsample_bynode=None,\n",
              "              colsample_bytree=None, early_stopping_rounds=None,\n",
              "              enable_categorical=False, eval_metric=None, feature_types=None,\n",
              "              gamma=None, gpu_id=None, grow_policy=None, importance_type=None,\n",
              "              interaction_constraints=None, learning_rate=0.2, max_bin=None,\n",
              "              max_cat_threshold=None, max_cat_to_onehot=None,\n",
              "              max_delta_step=None, max_depth=5, max_leaves=None,\n",
              "              min_child_weight=None, missing=nan, monotone_constraints=None,\n",
              "              n_estimators=10, n_jobs=-1, num_parallel_tree=None,\n",
              "              predictor=None, random_state=0, ...)</pre><b>In a Jupyter environment, please rerun this cell to show the HTML representation or trust the notebook. <br />On GitHub, the HTML representation is unable to render, please try loading this page with nbviewer.org.</b></div><div class=\"sk-container\" hidden><div class=\"sk-item\"><div class=\"sk-estimator sk-toggleable\"><input class=\"sk-toggleable__control sk-hidden--visually\" id=\"sk-estimator-id-14\" type=\"checkbox\" checked><label for=\"sk-estimator-id-14\" class=\"sk-toggleable__label sk-toggleable__label-arrow\">XGBClassifier</label><div class=\"sk-toggleable__content\"><pre>XGBClassifier(base_score=None, booster=None, callbacks=None,\n",
              "              colsample_bylevel=None, colsample_bynode=None,\n",
              "              colsample_bytree=None, early_stopping_rounds=None,\n",
              "              enable_categorical=False, eval_metric=None, feature_types=None,\n",
              "              gamma=None, gpu_id=None, grow_policy=None, importance_type=None,\n",
              "              interaction_constraints=None, learning_rate=0.2, max_bin=None,\n",
              "              max_cat_threshold=None, max_cat_to_onehot=None,\n",
              "              max_delta_step=None, max_depth=5, max_leaves=None,\n",
              "              min_child_weight=None, missing=nan, monotone_constraints=None,\n",
              "              n_estimators=10, n_jobs=-1, num_parallel_tree=None,\n",
              "              predictor=None, random_state=0, ...)</pre></div></div></div></div></div>"
            ]
          },
          "metadata": {},
          "execution_count": 184
        }
      ]
    },
    {
      "cell_type": "code",
      "source": [
        "### creating confusion matrix of xgboost classifier\n",
        "confusion_matrix(y_test, xgb_clf.predict(x_test))"
      ],
      "metadata": {
        "colab": {
          "base_uri": "https://localhost:8080/",
          "height": 0
        },
        "id": "DddxHH9MrE_t",
        "outputId": "7d606c6b-fc3b-4983-a358-4577793d47c5"
      },
      "id": "DddxHH9MrE_t",
      "execution_count": 185,
      "outputs": [
        {
          "output_type": "execute_result",
          "data": {
            "text/plain": [
              "array([[489,  21],\n",
              "       [ 80,  78]])"
            ]
          },
          "metadata": {},
          "execution_count": 185
        }
      ]
    },
    {
      "cell_type": "code",
      "source": [
        "### finding precision score of xgboost classifier\n",
        "precision_score(y_test, xgb_clf.predict(x_test))"
      ],
      "metadata": {
        "colab": {
          "base_uri": "https://localhost:8080/",
          "height": 0
        },
        "id": "zdXQdG7wrYiU",
        "outputId": "48f679ee-bc53-470c-8cda-76882a62a989"
      },
      "id": "zdXQdG7wrYiU",
      "execution_count": 186,
      "outputs": [
        {
          "output_type": "execute_result",
          "data": {
            "text/plain": [
              "0.7878787878787878"
            ]
          },
          "metadata": {},
          "execution_count": 186
        }
      ]
    },
    {
      "cell_type": "code",
      "source": [
        "### finding recall score of xgboost classifier\n",
        "recall_score(y_test, xgb_clf.predict(x_test))"
      ],
      "metadata": {
        "colab": {
          "base_uri": "https://localhost:8080/",
          "height": 0
        },
        "id": "xTBiPrCprkPP",
        "outputId": "ceccf291-2438-4a92-d557-0562cd202ab4"
      },
      "id": "xTBiPrCprkPP",
      "execution_count": 187,
      "outputs": [
        {
          "output_type": "execute_result",
          "data": {
            "text/plain": [
              "0.4936708860759494"
            ]
          },
          "metadata": {},
          "execution_count": 187
        }
      ]
    },
    {
      "cell_type": "code",
      "source": [
        "### finding roc_auc score of xgboost classifier\n",
        "roc_auc_score(y_test, xgb_clf.predict(x_test))"
      ],
      "metadata": {
        "colab": {
          "base_uri": "https://localhost:8080/",
          "height": 0
        },
        "id": "BcMuLQUWruaO",
        "outputId": "a874a5d7-224e-44ad-8c54-2d4fdc1b9017"
      },
      "id": "BcMuLQUWruaO",
      "execution_count": 188,
      "outputs": [
        {
          "output_type": "execute_result",
          "data": {
            "text/plain": [
              "0.7262472077438571"
            ]
          },
          "metadata": {},
          "execution_count": 188
        }
      ]
    },
    {
      "cell_type": "code",
      "source": [
        "### finding accuracy score of y_test and x_test of xgboost classifier\n",
        "accuracy_score(y_test, xgb_clf.predict(x_test))"
      ],
      "metadata": {
        "colab": {
          "base_uri": "https://localhost:8080/",
          "height": 0
        },
        "id": "S8nriqfGrz43",
        "outputId": "69684a5b-434d-43f2-eceb-4d93f5fc1c96"
      },
      "id": "S8nriqfGrz43",
      "execution_count": 189,
      "outputs": [
        {
          "output_type": "execute_result",
          "data": {
            "text/plain": [
              "0.8488023952095808"
            ]
          },
          "metadata": {},
          "execution_count": 189
        }
      ]
    },
    {
      "cell_type": "code",
      "source": [
        "### finding accuracy score of y_train and x_train of xgboost classifier\n",
        "accuracy_score(y_train, xgb_clf.predict(x_train))"
      ],
      "metadata": {
        "id": "PAiOIekas3ow",
        "colab": {
          "base_uri": "https://localhost:8080/",
          "height": 0
        },
        "outputId": "bbe29362-e490-4763-d3a1-cc8b15b2da06"
      },
      "id": "PAiOIekas3ow",
      "execution_count": 190,
      "outputs": [
        {
          "output_type": "execute_result",
          "data": {
            "text/plain": [
              "0.8666167103784189"
            ]
          },
          "metadata": {},
          "execution_count": 190
        }
      ]
    },
    {
      "cell_type": "code",
      "source": [],
      "metadata": {
        "id": "QwRZk8gYr3u6"
      },
      "id": "QwRZk8gYr3u6",
      "execution_count": 190,
      "outputs": []
    },
    {
      "cell_type": "code",
      "source": [],
      "metadata": {
        "id": "L7R2UvHDqHvW"
      },
      "id": "L7R2UvHDqHvW",
      "execution_count": 190,
      "outputs": []
    }
  ],
  "metadata": {
    "kernelspec": {
      "display_name": "Python 3 (ipykernel)",
      "language": "python",
      "name": "python3"
    },
    "language_info": {
      "codemirror_mode": {
        "name": "ipython",
        "version": 3
      },
      "file_extension": ".py",
      "mimetype": "text/x-python",
      "name": "python",
      "nbconvert_exporter": "python",
      "pygments_lexer": "ipython3",
      "version": "3.11.3"
    },
    "colab": {
      "provenance": []
    }
  },
  "nbformat": 4,
  "nbformat_minor": 5
}